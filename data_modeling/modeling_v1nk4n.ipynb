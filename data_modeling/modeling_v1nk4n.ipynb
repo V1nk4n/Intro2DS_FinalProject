{
 "cells": [
  {
   "cell_type": "markdown",
   "id": "mny1CGpbLUji",
   "metadata": {
    "id": "mny1CGpbLUji"
   },
   "source": [
    "# Import thư viện"
   ]
  },
  {
   "cell_type": "code",
   "execution_count": 1,
   "id": "f8326ccf",
   "metadata": {
    "id": "f8326ccf"
   },
   "outputs": [],
   "source": [
    "import pandas as pd\n",
    "import numpy as np\n",
    "import matplotlib.pyplot as plt\n",
    "\n",
    "from sklearn.preprocessing import StandardScaler\n",
    "from sklearn.preprocessing import OneHotEncoder\n",
    "\n",
    "from sklearn.model_selection import train_test_split, GridSearchCV\n",
    "from sklearn.preprocessing import MultiLabelBinarizer, LabelEncoder\n",
    "\n",
    "from sklearn.linear_model import LinearRegression\n",
    "from sklearn.tree import DecisionTreeRegressor\n",
    "\n",
    "from sklearn.ensemble import RandomForestRegressor\n",
    "\n",
    "from sklearn.ensemble import AdaBoostRegressor\n",
    "from sklearn.ensemble import GradientBoostingRegressor\n",
    "from xgboost import XGBRegressor\n",
    "\n",
    "from sklearn.ensemble import StackingRegressor\n",
    "\n",
    "from sklearn.neighbors import KNeighborsRegressor\n",
    "\n",
    "from sklearn.metrics import mean_squared_error, mean_absolute_error, r2_score"
   ]
  },
  {
   "cell_type": "markdown",
   "id": "eG4sFX02LWtY",
   "metadata": {
    "id": "eG4sFX02LWtY"
   },
   "source": [
    "# Đọc dữ liệu"
   ]
  },
  {
   "cell_type": "code",
   "execution_count": 2,
   "id": "a264d5f6",
   "metadata": {
    "colab": {
     "base_uri": "https://localhost:8080/",
     "height": 214
    },
    "id": "a264d5f6",
    "outputId": "38b56fe0-fc7f-46de-fa7b-063a95fb16ff"
   },
   "outputs": [
    {
     "data": {
      "text/html": [
       "<div>\n",
       "<style scoped>\n",
       "    .dataframe tbody tr th:only-of-type {\n",
       "        vertical-align: middle;\n",
       "    }\n",
       "\n",
       "    .dataframe tbody tr th {\n",
       "        vertical-align: top;\n",
       "    }\n",
       "\n",
       "    .dataframe thead th {\n",
       "        text-align: right;\n",
       "    }\n",
       "</style>\n",
       "<table border=\"1\" class=\"dataframe\">\n",
       "  <thead>\n",
       "    <tr style=\"text-align: right;\">\n",
       "      <th></th>\n",
       "      <th>ID</th>\n",
       "      <th>Title</th>\n",
       "      <th>Episodes</th>\n",
       "      <th>Type</th>\n",
       "      <th>Aired</th>\n",
       "      <th>Producers</th>\n",
       "      <th>Studios</th>\n",
       "      <th>Source</th>\n",
       "      <th>Genres</th>\n",
       "      <th>Duration (mins)</th>\n",
       "      <th>Score</th>\n",
       "      <th>Scored By</th>\n",
       "      <th>Popularity</th>\n",
       "      <th>Year</th>\n",
       "    </tr>\n",
       "  </thead>\n",
       "  <tbody>\n",
       "    <tr>\n",
       "      <th>0</th>\n",
       "      <td>1.0</td>\n",
       "      <td>Cowboy Bebop</td>\n",
       "      <td>26</td>\n",
       "      <td>TV</td>\n",
       "      <td>Apr 3, 1998 to Apr 24, 1999</td>\n",
       "      <td>Bandai Visual</td>\n",
       "      <td>Sunrise</td>\n",
       "      <td>Original</td>\n",
       "      <td>Action, Award Winning, Sci-Fi</td>\n",
       "      <td>24.0</td>\n",
       "      <td>8.75</td>\n",
       "      <td>988000.0</td>\n",
       "      <td>43</td>\n",
       "      <td>1998</td>\n",
       "    </tr>\n",
       "    <tr>\n",
       "      <th>1</th>\n",
       "      <td>5.0</td>\n",
       "      <td>Cowboy Bebop: Tengoku no Tobira</td>\n",
       "      <td>1</td>\n",
       "      <td>Movie</td>\n",
       "      <td>Sep 1, 2001</td>\n",
       "      <td>Sunrise, Bandai Visual</td>\n",
       "      <td>Bones</td>\n",
       "      <td>Original</td>\n",
       "      <td>Action, Sci-Fi</td>\n",
       "      <td>115.0</td>\n",
       "      <td>8.38</td>\n",
       "      <td>219779.0</td>\n",
       "      <td>631</td>\n",
       "      <td>2001</td>\n",
       "    </tr>\n",
       "    <tr>\n",
       "      <th>2</th>\n",
       "      <td>6.0</td>\n",
       "      <td>Trigun</td>\n",
       "      <td>26</td>\n",
       "      <td>TV</td>\n",
       "      <td>Apr 1, 1998 to Sep 30, 1998</td>\n",
       "      <td>Victor Entertainment</td>\n",
       "      <td>Madhouse</td>\n",
       "      <td>Manga</td>\n",
       "      <td>Action, Adventure, Sci-Fi</td>\n",
       "      <td>24.0</td>\n",
       "      <td>8.22</td>\n",
       "      <td>380049.0</td>\n",
       "      <td>258</td>\n",
       "      <td>1998</td>\n",
       "    </tr>\n",
       "    <tr>\n",
       "      <th>3</th>\n",
       "      <td>7.0</td>\n",
       "      <td>Witch Hunter Robin</td>\n",
       "      <td>26</td>\n",
       "      <td>TV</td>\n",
       "      <td>Jul 3, 2002 to Dec 25, 2002</td>\n",
       "      <td>Bandai Visual, Dentsu, Victor Entertainment</td>\n",
       "      <td>Sunrise</td>\n",
       "      <td>Original</td>\n",
       "      <td>Action, Drama, Mystery, Supernatural</td>\n",
       "      <td>25.0</td>\n",
       "      <td>7.24</td>\n",
       "      <td>44600.0</td>\n",
       "      <td>1908</td>\n",
       "      <td>2002</td>\n",
       "    </tr>\n",
       "    <tr>\n",
       "      <th>4</th>\n",
       "      <td>8.0</td>\n",
       "      <td>Bouken Ou Beet</td>\n",
       "      <td>52</td>\n",
       "      <td>TV</td>\n",
       "      <td>Sep 30, 2004 to Sep 29, 2005</td>\n",
       "      <td>TV Tokyo, Dentsu</td>\n",
       "      <td>Toei Animation</td>\n",
       "      <td>Manga</td>\n",
       "      <td>Action, Adventure, Fantasy</td>\n",
       "      <td>23.0</td>\n",
       "      <td>6.93</td>\n",
       "      <td>6891.0</td>\n",
       "      <td>5485</td>\n",
       "      <td>2004</td>\n",
       "    </tr>\n",
       "  </tbody>\n",
       "</table>\n",
       "</div>"
      ],
      "text/plain": [
       "    ID                            Title  Episodes   Type  \\\n",
       "0  1.0                     Cowboy Bebop        26     TV   \n",
       "1  5.0  Cowboy Bebop: Tengoku no Tobira         1  Movie   \n",
       "2  6.0                           Trigun        26     TV   \n",
       "3  7.0               Witch Hunter Robin        26     TV   \n",
       "4  8.0                   Bouken Ou Beet        52     TV   \n",
       "\n",
       "                          Aired                                    Producers  \\\n",
       "0   Apr 3, 1998 to Apr 24, 1999                                Bandai Visual   \n",
       "1                   Sep 1, 2001                       Sunrise, Bandai Visual   \n",
       "2   Apr 1, 1998 to Sep 30, 1998                         Victor Entertainment   \n",
       "3   Jul 3, 2002 to Dec 25, 2002  Bandai Visual, Dentsu, Victor Entertainment   \n",
       "4  Sep 30, 2004 to Sep 29, 2005                             TV Tokyo, Dentsu   \n",
       "\n",
       "          Studios    Source                                Genres  \\\n",
       "0         Sunrise  Original         Action, Award Winning, Sci-Fi   \n",
       "1           Bones  Original                        Action, Sci-Fi   \n",
       "2        Madhouse     Manga             Action, Adventure, Sci-Fi   \n",
       "3         Sunrise  Original  Action, Drama, Mystery, Supernatural   \n",
       "4  Toei Animation     Manga            Action, Adventure, Fantasy   \n",
       "\n",
       "   Duration (mins)  Score  Scored By  Popularity  Year  \n",
       "0             24.0   8.75   988000.0          43  1998  \n",
       "1            115.0   8.38   219779.0         631  2001  \n",
       "2             24.0   8.22   380049.0         258  1998  \n",
       "3             25.0   7.24    44600.0        1908  2002  \n",
       "4             23.0   6.93     6891.0        5485  2004  "
      ]
     },
     "execution_count": 2,
     "metadata": {},
     "output_type": "execute_result"
    }
   ],
   "source": [
    "df = pd.read_csv('../data/anime_preprocessing.csv')\n",
    "df.head()"
   ]
  },
  {
   "cell_type": "markdown",
   "id": "8kQWgK3xLeHA",
   "metadata": {
    "id": "8kQWgK3xLeHA"
   },
   "source": [
    "# Tiền xử lý dữ liệu"
   ]
  },
  {
   "cell_type": "markdown",
   "id": "FrQl9den3uAz",
   "metadata": {
    "id": "FrQl9den3uAz"
   },
   "source": [
    "Sau quá trình đặt và trả lời câu hỏi, nhóm đã lựa chọn những thuộc tính quan trọng ảnh hưởng đến điểm của Anime: loại (Type), thời lượng (Duration), thể loại (Genres) và nguồn (Source). Do đó ta xóa các cột khác."
   ]
  },
  {
   "cell_type": "code",
   "execution_count": 3,
   "id": "00eadfe8",
   "metadata": {
    "id": "00eadfe8"
   },
   "outputs": [],
   "source": [
    "df = df.drop(columns=['Title', 'Episodes', 'Aired', 'Popularity', 'Scored By', 'Year', 'Studios', 'Producers'])"
   ]
  },
  {
   "cell_type": "code",
   "execution_count": 4,
   "id": "9d970cb1",
   "metadata": {
    "colab": {
     "base_uri": "https://localhost:8080/"
    },
    "id": "9d970cb1",
    "outputId": "54bfa05f-27f3-4c12-c813-7d9875ce4f51"
   },
   "outputs": [
    {
     "name": "stdout",
     "output_type": "stream",
     "text": [
      "ID                 0\n",
      "Type               0\n",
      "Source             0\n",
      "Genres             0\n",
      "Duration (mins)    0\n",
      "Score              0\n",
      "dtype: int64\n"
     ]
    }
   ],
   "source": [
    "na_counts = df.isnull().sum()\n",
    "print(na_counts)"
   ]
  },
  {
   "cell_type": "code",
   "execution_count": 5,
   "id": "9HIENK0t8iXM",
   "metadata": {
    "id": "9HIENK0t8iXM"
   },
   "outputs": [],
   "source": [
    "df = df[~df['Source'].str.contains('UNKNOWN', na=False)]\n",
    "df = df[~df['Type'].str.contains('UNKNOWN', na=False)]\n",
    "df = df[~df['Genres'].apply(lambda x: 'UNKNOWN' in x)]"
   ]
  },
  {
   "cell_type": "code",
   "execution_count": 6,
   "id": "fcffdab7",
   "metadata": {
    "colab": {
     "base_uri": "https://localhost:8080/",
     "height": 214
    },
    "id": "fcffdab7",
    "outputId": "73948fa8-9525-471f-9fa5-21069ecb2418"
   },
   "outputs": [
    {
     "data": {
      "text/html": [
       "<div>\n",
       "<style scoped>\n",
       "    .dataframe tbody tr th:only-of-type {\n",
       "        vertical-align: middle;\n",
       "    }\n",
       "\n",
       "    .dataframe tbody tr th {\n",
       "        vertical-align: top;\n",
       "    }\n",
       "\n",
       "    .dataframe thead th {\n",
       "        text-align: right;\n",
       "    }\n",
       "</style>\n",
       "<table border=\"1\" class=\"dataframe\">\n",
       "  <thead>\n",
       "    <tr style=\"text-align: right;\">\n",
       "      <th></th>\n",
       "      <th>ID</th>\n",
       "      <th>Type</th>\n",
       "      <th>Source</th>\n",
       "      <th>Genres</th>\n",
       "      <th>Duration (mins)</th>\n",
       "      <th>Score</th>\n",
       "    </tr>\n",
       "  </thead>\n",
       "  <tbody>\n",
       "    <tr>\n",
       "      <th>0</th>\n",
       "      <td>1.0</td>\n",
       "      <td>TV</td>\n",
       "      <td>Original</td>\n",
       "      <td>Action, Award Winning, Sci-Fi</td>\n",
       "      <td>24.0</td>\n",
       "      <td>8.75</td>\n",
       "    </tr>\n",
       "    <tr>\n",
       "      <th>1</th>\n",
       "      <td>5.0</td>\n",
       "      <td>Movie</td>\n",
       "      <td>Original</td>\n",
       "      <td>Action, Sci-Fi</td>\n",
       "      <td>115.0</td>\n",
       "      <td>8.38</td>\n",
       "    </tr>\n",
       "    <tr>\n",
       "      <th>2</th>\n",
       "      <td>6.0</td>\n",
       "      <td>TV</td>\n",
       "      <td>Manga</td>\n",
       "      <td>Action, Adventure, Sci-Fi</td>\n",
       "      <td>24.0</td>\n",
       "      <td>8.22</td>\n",
       "    </tr>\n",
       "    <tr>\n",
       "      <th>3</th>\n",
       "      <td>7.0</td>\n",
       "      <td>TV</td>\n",
       "      <td>Original</td>\n",
       "      <td>Action, Drama, Mystery, Supernatural</td>\n",
       "      <td>25.0</td>\n",
       "      <td>7.24</td>\n",
       "    </tr>\n",
       "    <tr>\n",
       "      <th>4</th>\n",
       "      <td>8.0</td>\n",
       "      <td>TV</td>\n",
       "      <td>Manga</td>\n",
       "      <td>Action, Adventure, Fantasy</td>\n",
       "      <td>23.0</td>\n",
       "      <td>6.93</td>\n",
       "    </tr>\n",
       "  </tbody>\n",
       "</table>\n",
       "</div>"
      ],
      "text/plain": [
       "    ID   Type    Source                                Genres  \\\n",
       "0  1.0     TV  Original         Action, Award Winning, Sci-Fi   \n",
       "1  5.0  Movie  Original                        Action, Sci-Fi   \n",
       "2  6.0     TV     Manga             Action, Adventure, Sci-Fi   \n",
       "3  7.0     TV  Original  Action, Drama, Mystery, Supernatural   \n",
       "4  8.0     TV     Manga            Action, Adventure, Fantasy   \n",
       "\n",
       "   Duration (mins)  Score  \n",
       "0             24.0   8.75  \n",
       "1            115.0   8.38  \n",
       "2             24.0   8.22  \n",
       "3             25.0   7.24  \n",
       "4             23.0   6.93  "
      ]
     },
     "execution_count": 6,
     "metadata": {},
     "output_type": "execute_result"
    }
   ],
   "source": [
    "df.head()"
   ]
  },
  {
   "cell_type": "markdown",
   "id": "fOn3c6eT5PSq",
   "metadata": {
    "id": "fOn3c6eT5PSq"
   },
   "source": [
    "One-hot encoding cho thuộc tính Genres\n",
    "\n",
    "Label Encoder cho Source và Type"
   ]
  },
  {
   "cell_type": "code",
   "execution_count": 7,
   "id": "8e2312fd",
   "metadata": {
    "id": "8e2312fd"
   },
   "outputs": [],
   "source": [
    "df['Source'] = df['Source'].astype('category').cat.codes\n",
    "df['Type'] = df['Type'].astype('category').cat.codes\n",
    "\n",
    "for col in ['Genres']:\n",
    "    df[col] = df[col].fillna(\"\").apply(lambda x: [i.strip() for i in x.split(',') if i.strip()])\n",
    "    ohe_df = pd.get_dummies(df[col].apply(pd.Series).stack()).groupby(level=0).sum()\n",
    "    df = pd.concat([df, ohe_df], axis=1)\n",
    "\n",
    "# Xóa các cột ban đầu nếu không cần thiết\n",
    "df = df.drop(columns=['Genres'])\n",
    "\n",
    "# Chuẩn bị dữ liệu cho mô hình\n",
    "X = df.drop(columns=['ID', 'Score'])\n",
    "y = df['Score']"
   ]
  },
  {
   "cell_type": "code",
   "execution_count": 8,
   "id": "OJHQNwngXz9O",
   "metadata": {
    "colab": {
     "base_uri": "https://localhost:8080/",
     "height": 440
    },
    "id": "OJHQNwngXz9O",
    "outputId": "98e3c3bc-74aa-4f00-e09b-e6a0a9197a0b"
   },
   "outputs": [
    {
     "data": {
      "text/html": [
       "<div>\n",
       "<style scoped>\n",
       "    .dataframe tbody tr th:only-of-type {\n",
       "        vertical-align: middle;\n",
       "    }\n",
       "\n",
       "    .dataframe tbody tr th {\n",
       "        vertical-align: top;\n",
       "    }\n",
       "\n",
       "    .dataframe thead th {\n",
       "        text-align: right;\n",
       "    }\n",
       "</style>\n",
       "<table border=\"1\" class=\"dataframe\">\n",
       "  <thead>\n",
       "    <tr style=\"text-align: right;\">\n",
       "      <th></th>\n",
       "      <th>Type</th>\n",
       "      <th>Source</th>\n",
       "      <th>Duration (mins)</th>\n",
       "      <th>Action</th>\n",
       "      <th>Adventure</th>\n",
       "      <th>Avant Garde</th>\n",
       "      <th>Award Winning</th>\n",
       "      <th>Boys Love</th>\n",
       "      <th>Comedy</th>\n",
       "      <th>Drama</th>\n",
       "      <th>...</th>\n",
       "      <th>Gourmet</th>\n",
       "      <th>Hentai</th>\n",
       "      <th>Horror</th>\n",
       "      <th>Mystery</th>\n",
       "      <th>Romance</th>\n",
       "      <th>Sci-Fi</th>\n",
       "      <th>Slice of Life</th>\n",
       "      <th>Sports</th>\n",
       "      <th>Supernatural</th>\n",
       "      <th>Suspense</th>\n",
       "    </tr>\n",
       "  </thead>\n",
       "  <tbody>\n",
       "    <tr>\n",
       "      <th>0</th>\n",
       "      <td>7</td>\n",
       "      <td>9</td>\n",
       "      <td>24.0</td>\n",
       "      <td>1</td>\n",
       "      <td>0</td>\n",
       "      <td>0</td>\n",
       "      <td>1</td>\n",
       "      <td>0</td>\n",
       "      <td>0</td>\n",
       "      <td>0</td>\n",
       "      <td>...</td>\n",
       "      <td>0</td>\n",
       "      <td>0</td>\n",
       "      <td>0</td>\n",
       "      <td>0</td>\n",
       "      <td>0</td>\n",
       "      <td>1</td>\n",
       "      <td>0</td>\n",
       "      <td>0</td>\n",
       "      <td>0</td>\n",
       "      <td>0</td>\n",
       "    </tr>\n",
       "    <tr>\n",
       "      <th>1</th>\n",
       "      <td>1</td>\n",
       "      <td>9</td>\n",
       "      <td>115.0</td>\n",
       "      <td>1</td>\n",
       "      <td>0</td>\n",
       "      <td>0</td>\n",
       "      <td>0</td>\n",
       "      <td>0</td>\n",
       "      <td>0</td>\n",
       "      <td>0</td>\n",
       "      <td>...</td>\n",
       "      <td>0</td>\n",
       "      <td>0</td>\n",
       "      <td>0</td>\n",
       "      <td>0</td>\n",
       "      <td>0</td>\n",
       "      <td>1</td>\n",
       "      <td>0</td>\n",
       "      <td>0</td>\n",
       "      <td>0</td>\n",
       "      <td>0</td>\n",
       "    </tr>\n",
       "    <tr>\n",
       "      <th>2</th>\n",
       "      <td>7</td>\n",
       "      <td>5</td>\n",
       "      <td>24.0</td>\n",
       "      <td>1</td>\n",
       "      <td>1</td>\n",
       "      <td>0</td>\n",
       "      <td>0</td>\n",
       "      <td>0</td>\n",
       "      <td>0</td>\n",
       "      <td>0</td>\n",
       "      <td>...</td>\n",
       "      <td>0</td>\n",
       "      <td>0</td>\n",
       "      <td>0</td>\n",
       "      <td>0</td>\n",
       "      <td>0</td>\n",
       "      <td>1</td>\n",
       "      <td>0</td>\n",
       "      <td>0</td>\n",
       "      <td>0</td>\n",
       "      <td>0</td>\n",
       "    </tr>\n",
       "    <tr>\n",
       "      <th>3</th>\n",
       "      <td>7</td>\n",
       "      <td>9</td>\n",
       "      <td>25.0</td>\n",
       "      <td>1</td>\n",
       "      <td>0</td>\n",
       "      <td>0</td>\n",
       "      <td>0</td>\n",
       "      <td>0</td>\n",
       "      <td>0</td>\n",
       "      <td>1</td>\n",
       "      <td>...</td>\n",
       "      <td>0</td>\n",
       "      <td>0</td>\n",
       "      <td>0</td>\n",
       "      <td>1</td>\n",
       "      <td>0</td>\n",
       "      <td>0</td>\n",
       "      <td>0</td>\n",
       "      <td>0</td>\n",
       "      <td>1</td>\n",
       "      <td>0</td>\n",
       "    </tr>\n",
       "    <tr>\n",
       "      <th>4</th>\n",
       "      <td>7</td>\n",
       "      <td>5</td>\n",
       "      <td>23.0</td>\n",
       "      <td>1</td>\n",
       "      <td>1</td>\n",
       "      <td>0</td>\n",
       "      <td>0</td>\n",
       "      <td>0</td>\n",
       "      <td>0</td>\n",
       "      <td>0</td>\n",
       "      <td>...</td>\n",
       "      <td>0</td>\n",
       "      <td>0</td>\n",
       "      <td>0</td>\n",
       "      <td>0</td>\n",
       "      <td>0</td>\n",
       "      <td>0</td>\n",
       "      <td>0</td>\n",
       "      <td>0</td>\n",
       "      <td>0</td>\n",
       "      <td>0</td>\n",
       "    </tr>\n",
       "    <tr>\n",
       "      <th>...</th>\n",
       "      <td>...</td>\n",
       "      <td>...</td>\n",
       "      <td>...</td>\n",
       "      <td>...</td>\n",
       "      <td>...</td>\n",
       "      <td>...</td>\n",
       "      <td>...</td>\n",
       "      <td>...</td>\n",
       "      <td>...</td>\n",
       "      <td>...</td>\n",
       "      <td>...</td>\n",
       "      <td>...</td>\n",
       "      <td>...</td>\n",
       "      <td>...</td>\n",
       "      <td>...</td>\n",
       "      <td>...</td>\n",
       "      <td>...</td>\n",
       "      <td>...</td>\n",
       "      <td>...</td>\n",
       "      <td>...</td>\n",
       "      <td>...</td>\n",
       "    </tr>\n",
       "    <tr>\n",
       "      <th>16833</th>\n",
       "      <td>3</td>\n",
       "      <td>15</td>\n",
       "      <td>19.0</td>\n",
       "      <td>1</td>\n",
       "      <td>1</td>\n",
       "      <td>0</td>\n",
       "      <td>0</td>\n",
       "      <td>0</td>\n",
       "      <td>0</td>\n",
       "      <td>0</td>\n",
       "      <td>...</td>\n",
       "      <td>0</td>\n",
       "      <td>0</td>\n",
       "      <td>0</td>\n",
       "      <td>0</td>\n",
       "      <td>0</td>\n",
       "      <td>0</td>\n",
       "      <td>0</td>\n",
       "      <td>0</td>\n",
       "      <td>0</td>\n",
       "      <td>0</td>\n",
       "    </tr>\n",
       "    <tr>\n",
       "      <th>16834</th>\n",
       "      <td>3</td>\n",
       "      <td>5</td>\n",
       "      <td>17.0</td>\n",
       "      <td>0</td>\n",
       "      <td>0</td>\n",
       "      <td>0</td>\n",
       "      <td>0</td>\n",
       "      <td>0</td>\n",
       "      <td>0</td>\n",
       "      <td>0</td>\n",
       "      <td>...</td>\n",
       "      <td>0</td>\n",
       "      <td>0</td>\n",
       "      <td>0</td>\n",
       "      <td>0</td>\n",
       "      <td>1</td>\n",
       "      <td>0</td>\n",
       "      <td>0</td>\n",
       "      <td>0</td>\n",
       "      <td>0</td>\n",
       "      <td>0</td>\n",
       "    </tr>\n",
       "    <tr>\n",
       "      <th>16836</th>\n",
       "      <td>7</td>\n",
       "      <td>4</td>\n",
       "      <td>23.0</td>\n",
       "      <td>1</td>\n",
       "      <td>1</td>\n",
       "      <td>0</td>\n",
       "      <td>0</td>\n",
       "      <td>0</td>\n",
       "      <td>0</td>\n",
       "      <td>0</td>\n",
       "      <td>...</td>\n",
       "      <td>0</td>\n",
       "      <td>0</td>\n",
       "      <td>0</td>\n",
       "      <td>0</td>\n",
       "      <td>0</td>\n",
       "      <td>0</td>\n",
       "      <td>0</td>\n",
       "      <td>0</td>\n",
       "      <td>0</td>\n",
       "      <td>0</td>\n",
       "    </tr>\n",
       "    <tr>\n",
       "      <th>16837</th>\n",
       "      <td>7</td>\n",
       "      <td>14</td>\n",
       "      <td>10.0</td>\n",
       "      <td>0</td>\n",
       "      <td>0</td>\n",
       "      <td>0</td>\n",
       "      <td>0</td>\n",
       "      <td>0</td>\n",
       "      <td>1</td>\n",
       "      <td>0</td>\n",
       "      <td>...</td>\n",
       "      <td>0</td>\n",
       "      <td>0</td>\n",
       "      <td>0</td>\n",
       "      <td>0</td>\n",
       "      <td>0</td>\n",
       "      <td>0</td>\n",
       "      <td>0</td>\n",
       "      <td>0</td>\n",
       "      <td>1</td>\n",
       "      <td>0</td>\n",
       "    </tr>\n",
       "    <tr>\n",
       "      <th>16839</th>\n",
       "      <td>3</td>\n",
       "      <td>5</td>\n",
       "      <td>24.0</td>\n",
       "      <td>1</td>\n",
       "      <td>1</td>\n",
       "      <td>0</td>\n",
       "      <td>0</td>\n",
       "      <td>0</td>\n",
       "      <td>0</td>\n",
       "      <td>0</td>\n",
       "      <td>...</td>\n",
       "      <td>0</td>\n",
       "      <td>0</td>\n",
       "      <td>0</td>\n",
       "      <td>0</td>\n",
       "      <td>0</td>\n",
       "      <td>0</td>\n",
       "      <td>0</td>\n",
       "      <td>0</td>\n",
       "      <td>0</td>\n",
       "      <td>0</td>\n",
       "    </tr>\n",
       "  </tbody>\n",
       "</table>\n",
       "<p>8368 rows × 24 columns</p>\n",
       "</div>"
      ],
      "text/plain": [
       "       Type  Source  Duration (mins)  Action  Adventure  Avant Garde  \\\n",
       "0         7       9             24.0       1          0            0   \n",
       "1         1       9            115.0       1          0            0   \n",
       "2         7       5             24.0       1          1            0   \n",
       "3         7       9             25.0       1          0            0   \n",
       "4         7       5             23.0       1          1            0   \n",
       "...     ...     ...              ...     ...        ...          ...   \n",
       "16833     3      15             19.0       1          1            0   \n",
       "16834     3       5             17.0       0          0            0   \n",
       "16836     7       4             23.0       1          1            0   \n",
       "16837     7      14             10.0       0          0            0   \n",
       "16839     3       5             24.0       1          1            0   \n",
       "\n",
       "       Award Winning  Boys Love  Comedy  Drama  ...  Gourmet  Hentai  Horror  \\\n",
       "0                  1          0       0      0  ...        0       0       0   \n",
       "1                  0          0       0      0  ...        0       0       0   \n",
       "2                  0          0       0      0  ...        0       0       0   \n",
       "3                  0          0       0      1  ...        0       0       0   \n",
       "4                  0          0       0      0  ...        0       0       0   \n",
       "...              ...        ...     ...    ...  ...      ...     ...     ...   \n",
       "16833              0          0       0      0  ...        0       0       0   \n",
       "16834              0          0       0      0  ...        0       0       0   \n",
       "16836              0          0       0      0  ...        0       0       0   \n",
       "16837              0          0       1      0  ...        0       0       0   \n",
       "16839              0          0       0      0  ...        0       0       0   \n",
       "\n",
       "       Mystery  Romance  Sci-Fi  Slice of Life  Sports  Supernatural  Suspense  \n",
       "0            0        0       1              0       0             0         0  \n",
       "1            0        0       1              0       0             0         0  \n",
       "2            0        0       1              0       0             0         0  \n",
       "3            1        0       0              0       0             1         0  \n",
       "4            0        0       0              0       0             0         0  \n",
       "...        ...      ...     ...            ...     ...           ...       ...  \n",
       "16833        0        0       0              0       0             0         0  \n",
       "16834        0        1       0              0       0             0         0  \n",
       "16836        0        0       0              0       0             0         0  \n",
       "16837        0        0       0              0       0             1         0  \n",
       "16839        0        0       0              0       0             0         0  \n",
       "\n",
       "[8368 rows x 24 columns]"
      ]
     },
     "execution_count": 8,
     "metadata": {},
     "output_type": "execute_result"
    }
   ],
   "source": [
    "X"
   ]
  },
  {
   "cell_type": "markdown",
   "id": "g89TQXbe2Ro6",
   "metadata": {
    "id": "g89TQXbe2Ro6"
   },
   "source": [
    "# Kiểm tra phân phối dữ liệu"
   ]
  },
  {
   "cell_type": "code",
   "execution_count": 9,
   "id": "JpOjKe0_0dQf",
   "metadata": {
    "colab": {
     "base_uri": "https://localhost:8080/"
    },
    "id": "JpOjKe0_0dQf",
    "outputId": "e5deeabb-cf08-47f5-a6c4-f8818b5ee34e"
   },
   "outputs": [
    {
     "name": "stdout",
     "output_type": "stream",
     "text": [
      "count    8368.000000\n",
      "mean        6.688420\n",
      "std         0.852766\n",
      "min         2.000000\n",
      "25%         6.140000\n",
      "50%         6.700000\n",
      "75%         7.270000\n",
      "max         9.320000\n",
      "Name: Score, dtype: float64\n"
     ]
    }
   ],
   "source": [
    "print(y.describe())"
   ]
  },
  {
   "cell_type": "code",
   "execution_count": 10,
   "id": "JgV5DrX8zym1",
   "metadata": {
    "colab": {
     "base_uri": "https://localhost:8080/"
    },
    "id": "JgV5DrX8zym1",
    "outputId": "5fb3e76f-e2aa-4016-a389-403220c4765d"
   },
   "outputs": [
    {
     "data": {
      "image/png": "[encoded data removed]",
      "text/plain": [
       "<Figure size 640x480 with 1 Axes>"
      ]
     },
     "metadata": {},
     "output_type": "display_data"
    }
   ],
   "source": [
    "# Vẽ biểu đồ histogram\n",
    "y.plot(kind='hist', bins=20, edgecolor='black')\n",
    "plt.title('Phân phối điểm Anime')\n",
    "plt.xlabel('Điểm')\n",
    "plt.ylabel('Tần suất')\n",
    "plt.show()\n"
   ]
  },
  {
   "cell_type": "code",
   "execution_count": 11,
   "id": "Jat_Wk90044m",
   "metadata": {
    "colab": {
     "base_uri": "https://localhost:8080/"
    },
    "id": "Jat_Wk90044m",
    "outputId": "61c3ad45-cba4-4066-c834-8f5a45db5c92"
   },
   "outputs": [
    {
     "name": "stdout",
     "output_type": "stream",
     "text": [
      "Skewness: -0.33232244371499087\n"
     ]
    }
   ],
   "source": [
    "from scipy.stats import skew\n",
    "\n",
    "# Tính skewness\n",
    "skewness = skew(y)\n",
    "print(f\"Skewness: {skewness}\")"
   ]
  },
  {
   "cell_type": "code",
   "execution_count": 12,
   "id": "bc-1qOUV1JjC",
   "metadata": {
    "colab": {
     "base_uri": "https://localhost:8080/"
    },
    "id": "bc-1qOUV1JjC",
    "outputId": "3c897dff-6ea4-4995-d108-85886a83b150"
   },
   "outputs": [
    {
     "data": {
      "image/png": "[encoded data removed]",
      "text/plain": [
       "<Figure size 640x480 with 1 Axes>"
      ]
     },
     "metadata": {},
     "output_type": "display_data"
    }
   ],
   "source": [
    "y.plot(kind='box')\n",
    "plt.title('Boxplot of Anime Ratings')\n",
    "plt.show()"
   ]
  },
  {
   "cell_type": "code",
   "execution_count": 13,
   "id": "c_5124pR1NIK",
   "metadata": {
    "colab": {
     "base_uri": "https://localhost:8080/"
    },
    "id": "c_5124pR1NIK",
    "outputId": "5ac2b47a-abf9-4475-c77e-7fb0e8f7c1c4"
   },
   "outputs": [
    {
     "name": "stdout",
     "output_type": "stream",
     "text": [
      "385      2.23\n",
      "714      4.30\n",
      "739      9.01\n",
      "999      4.43\n",
      "1486     4.22\n",
      "         ... \n",
      "13296    3.74\n",
      "13843    9.01\n",
      "14047    3.80\n",
      "14328    9.00\n",
      "16022    9.32\n",
      "Name: Score, Length: 83, dtype: float64\n"
     ]
    }
   ],
   "source": [
    "Q1 = y.quantile(0.25)\n",
    "Q3 = y.quantile(0.75)\n",
    "IQR = Q3 - Q1\n",
    "\n",
    "# Lọc ngoại lệ\n",
    "outliers = y[(y < (Q1 - 1.5 * IQR)) | (y > (Q3 + 1.5 * IQR))]\n",
    "print(outliers)\n"
   ]
  },
  {
   "cell_type": "markdown",
   "id": "3ftFf6Ak2zKZ",
   "metadata": {
    "id": "3ftFf6Ak2zKZ"
   },
   "source": [
    "Dữ liệu có phân phối khá gần phân phối chuẩn, khá cân bằng và có tỉ lệ giá trị ngoại lệ thấp."
   ]
  },
  {
   "cell_type": "markdown",
   "id": "u_JccGzX3BNg",
   "metadata": {
    "id": "u_JccGzX3BNg"
   },
   "source": [
    "# Chuẩn hóa dữ liệu"
   ]
  },
  {
   "cell_type": "code",
   "execution_count": 14,
   "id": "rXuI5SxXUPvN",
   "metadata": {
    "id": "rXuI5SxXUPvN"
   },
   "outputs": [],
   "source": [
    "scaler = StandardScaler()\n",
    "X = scaler.fit_transform(X)"
   ]
  },
  {
   "cell_type": "code",
   "execution_count": 15,
   "id": "maMQomWWKXyO",
   "metadata": {
    "colab": {
     "base_uri": "https://localhost:8080/"
    },
    "id": "maMQomWWKXyO",
    "outputId": "910aa1a7-ed90-4073-c980-e00742b4970a"
   },
   "outputs": [
    {
     "name": "stdout",
     "output_type": "stream",
     "text": [
      "Check for NaN in X: False\n",
      "Check for NaN in y: False\n"
     ]
    }
   ],
   "source": [
    "print(\"Check for NaN in X:\", np.isnan(X).any())\n",
    "print(\"Check for NaN in y:\", np.isnan(y).any())"
   ]
  },
  {
   "cell_type": "code",
   "execution_count": 16,
   "id": "bd76cfb2",
   "metadata": {
    "id": "bd76cfb2"
   },
   "outputs": [],
   "source": [
    "X_train, X_test, y_train, y_test = train_test_split(X, y, test_size=0.2, random_state=42)"
   ]
  },
  {
   "cell_type": "markdown",
   "id": "u_gHjNhxLjXv",
   "metadata": {
    "id": "u_gHjNhxLjXv"
   },
   "source": [
    "# Xây dựng mô hình"
   ]
  },
  {
   "cell_type": "code",
   "execution_count": 17,
   "id": "IykJj456582e",
   "metadata": {
    "id": "IykJj456582e"
   },
   "outputs": [],
   "source": [
    "results = []"
   ]
  },
  {
   "cell_type": "code",
   "execution_count": 18,
   "id": "hwhSOfIb_n6B",
   "metadata": {
    "id": "hwhSOfIb_n6B"
   },
   "outputs": [],
   "source": [
    "def train_model(model, model_name):\n",
    "  model.fit(X_train, y_train)\n",
    "  # Predict\n",
    "  y_pred = model.predict(X_test)\n",
    "  # Evaluate\n",
    "  mse = mean_squared_error(y_test, y_pred)\n",
    "  mae = mean_absolute_error(y_test, y_pred)\n",
    "  r2 = r2_score(y_test, y_pred)\n",
    "  print(model_name)\n",
    "  print('MSE:', mse)\n",
    "  print('MAE:', mae)\n",
    "  print('R2:', r2)\n",
    "  result = {\n",
    "    'Model': model_name,\n",
    "    'MSE': mse,\n",
    "    'MAE': mae,\n",
    "    'R²': r2\n",
    "  }\n",
    "  return result"
   ]
  },
  {
   "cell_type": "markdown",
   "id": "MJL3doPG5-WP",
   "metadata": {
    "id": "MJL3doPG5-WP"
   },
   "source": [
    "## Phương pháp Linear Regression"
   ]
  },
  {
   "cell_type": "markdown",
   "id": "_d1mpjV4EgUD",
   "metadata": {
    "id": "_d1mpjV4EgUD"
   },
   "source": [
    "- Phương pháp: Giả định quan hệ giữa các biến độc lập và phụ thuộc là tuyến tính.\n",
    "- Linear Regression là mô hình cơ bản, làm cơ sở so sánh cho các phương pháp phức tạp hơn.\n",
    "\n",
    "- Nhược điểm:\n",
    "  - Không thể khai thác mối quan hệ phi tuyến.\n",
    "  - Nhạy cảm với outliers."
   ]
  },
  {
   "cell_type": "code",
   "execution_count": 19,
   "id": "tW9atRBaSdMI",
   "metadata": {
    "colab": {
     "base_uri": "https://localhost:8080/"
    },
    "id": "tW9atRBaSdMI",
    "outputId": "3605d269-c813-44c2-b3f4-9541099c55d0"
   },
   "outputs": [
    {
     "name": "stdout",
     "output_type": "stream",
     "text": [
      "Linear Regression\n",
      "MSE: 0.5656873205568549\n",
      "MAE: 0.5912123011809873\n",
      "R2: 0.18639166364709459\n"
     ]
    }
   ],
   "source": [
    "model = LinearRegression()\n",
    "# Train model\n",
    "result = train_model(model, \"Linear Regression\")\n",
    "results.append(result)"
   ]
  },
  {
   "cell_type": "markdown",
   "id": "oV0lW9xSmn1-",
   "metadata": {
    "id": "oV0lW9xSmn1-"
   },
   "source": [
    "\n",
    "- Kết quả: MSE: 0.61, MAE: 0.62, R²: 0.19.\n"
   ]
  },
  {
   "cell_type": "markdown",
   "id": "PczKFVsV-lwd",
   "metadata": {
    "id": "PczKFVsV-lwd"
   },
   "source": [
    "## Decision Tree"
   ]
  },
  {
   "cell_type": "markdown",
   "id": "s4JVhpH6GyC7",
   "metadata": {
    "id": "s4JVhpH6GyC7"
   },
   "source": [
    "- Phương pháp: Cây quyết định phân chia dữ liệu thành các nút dựa trên ngưỡng giá trị tối ưu (ví dụ: Gini, entropy).\n",
    "- Cải tiến so với Linear Regression:\n",
    "  - Khả năng xử lý quan hệ phi tuyến.\n",
    "  - Dễ giải thích và trực quan.\n",
    "- Nhược điểm:\n",
    "  - Dễ bị overfitting khi không kiểm soát độ sâu.\n"
   ]
  },
  {
   "cell_type": "code",
   "execution_count": 20,
   "id": "9IfBRkfvLztu",
   "metadata": {
    "colab": {
     "base_uri": "https://localhost:8080/"
    },
    "id": "9IfBRkfvLztu",
    "outputId": "77b15b85-3a0e-4f74-ce34-da82a1e49028"
   },
   "outputs": [
    {
     "name": "stdout",
     "output_type": "stream",
     "text": [
      "Decision Tree\n",
      "MSE: 0.7582898018628514\n",
      "MAE: 0.643391279272018\n",
      "R2: -0.0906217653238024\n"
     ]
    }
   ],
   "source": [
    "model = DecisionTreeRegressor(random_state=42)\n",
    "result = train_model(model, 'Decision Tree')\n",
    "results.append(result)"
   ]
  },
  {
   "cell_type": "markdown",
   "id": "G_5xaZF7HkVH",
   "metadata": {
    "id": "G_5xaZF7HkVH"
   },
   "source": [
    "\n",
    "- Kết quả: MSE: 0.77, MAE: 0.65, R²: -0.01.\n",
    "- Nhận xét: kết quả của Decision Tree cho thấy các chỉ số MSE, MAE và R2 kém hơn cả Linear Regression."
   ]
  },
  {
   "cell_type": "markdown",
   "id": "RlNVa5ov-qZa",
   "metadata": {
    "id": "RlNVa5ov-qZa"
   },
   "source": [
    "## Random Forest"
   ]
  },
  {
   "cell_type": "markdown",
   "id": "gIX3vQlbHzao",
   "metadata": {
    "id": "gIX3vQlbHzao"
   },
   "source": [
    "\n",
    "- Phương pháp: Tập hợp nhiều cây quyết định và lấy trung bình dự đoán để giảm overfitting.\n",
    "- Cải tiến so với Decision Tree:\n",
    "  - Giảm overfitting nhờ tính đa dạng trong tập mẫu bootstrap.\n",
    "  - Ổn định và tổng quát hóa tốt hơn.\n",
    "- Nhược điểm:\n",
    "  - Tốn thời gian huấn luyện khi dữ liệu lớn.\n",
    "  - Khả năng giải thích kém hơn Decision Tree.\n",
    "\n"
   ]
  },
  {
   "cell_type": "code",
   "execution_count": 21,
   "id": "MCMyjeSNTKwe",
   "metadata": {
    "colab": {
     "base_uri": "https://localhost:8080/"
    },
    "id": "MCMyjeSNTKwe",
    "outputId": "a2bd5ade-ad78-4a4c-9610-4bba08259761"
   },
   "outputs": [
    {
     "name": "stdout",
     "output_type": "stream",
     "text": [
      "Random Forest\n",
      "MSE: 0.4516659098978185\n",
      "MAE: 0.5143140663436196\n",
      "R2: 0.3503846803963293\n"
     ]
    }
   ],
   "source": [
    "model = RandomForestRegressor(n_estimators=100, random_state=42)\n",
    "result = train_model(model, 'Random Forest')\n",
    "results.append(result)"
   ]
  },
  {
   "cell_type": "markdown",
   "id": "sprW05YEodR5",
   "metadata": {
    "id": "sprW05YEodR5"
   },
   "source": [
    "- Kết quả: MSE: 0.50, MAE: 0.54, R²: 0.35.\n",
    "- Nhận xét: Kháng overfitting hiệu quả, hiệu suất vượt trội so với Linear Regression và Decision Tree."
   ]
  },
  {
   "cell_type": "markdown",
   "id": "S4LY30si-sEL",
   "metadata": {
    "id": "S4LY30si-sEL"
   },
   "source": [
    "## AdaBoost"
   ]
  },
  {
   "cell_type": "markdown",
   "id": "g84diWumIrm9",
   "metadata": {
    "id": "g84diWumIrm9"
   },
   "source": [
    "- Phương pháp: Kết hợp nhiều mô hình yếu (weak learners, thường là cây quyết định), tăng trọng số cho các mẫu khó dự đoán.\n",
    "- Cải tiến so với Random Forest:\n",
    "  - Tập trung vào các mẫu khó dự đoán.\n",
    "  - Hiệu quả trên dữ liệu ít nhiễu và tuyến tính nhẹ.\n",
    "- Nhược điểm:\n",
    "  - Nhạy cảm với nhiễu (do tăng trọng số cho các mẫu nhiễu).\n"
   ]
  },
  {
   "cell_type": "code",
   "execution_count": 22,
   "id": "0Hd8DehJAuXX",
   "metadata": {
    "colab": {
     "base_uri": "https://localhost:8080/"
    },
    "id": "0Hd8DehJAuXX",
    "outputId": "57a4bc9c-2e86-4691-9c46-3df56584b4fe"
   },
   "outputs": [
    {
     "name": "stdout",
     "output_type": "stream",
     "text": [
      "Adaboost\n",
      "MSE: 0.5455420879591293\n",
      "MAE: 0.5860354200262791\n",
      "R2: 0.21536584882618515\n"
     ]
    }
   ],
   "source": [
    "model = AdaBoostRegressor(n_estimators=100, random_state=42)\n",
    "result = train_model(model, 'Adaboost')\n",
    "results.append(result)"
   ]
  },
  {
   "cell_type": "markdown",
   "id": "b4EYlip4pAFF",
   "metadata": {
    "id": "b4EYlip4pAFF"
   },
   "source": [
    "- Kết quả: MSE: 0.59, MAE: 0.61, R²: 0.22.\n",
    "- Nhận xét: Cải thiện nhẹ so với Linear Regression và Decision Tree, nhưng không hiệu quả bằng Random Forest."
   ]
  },
  {
   "cell_type": "markdown",
   "id": "4ibWjrNq-ttO",
   "metadata": {
    "id": "4ibWjrNq-ttO"
   },
   "source": [
    "## GradientBoosting"
   ]
  },
  {
   "cell_type": "markdown",
   "id": "NMbSiM4zJAz3",
   "metadata": {
    "id": "NMbSiM4zJAz3"
   },
   "source": [
    "- Phương pháp: Xây dựng nhiều mô hình liên tiếp, mỗi mô hình tối ưu hóa hàm mất mát dựa trên gradient của mô hình trước đó.\n",
    "- Cải tiến so với AdaBoost:\n",
    "  - Tối ưu trực tiếp hàm mất mát, giảm nhiễu tốt hơn.\n",
    "  - Hiệu quả trong xử lý dữ liệu phi tuyến và phức tạp.\n",
    "- Nhược điểm:\n",
    "  - Dễ bị overfitting nếu không kiểm soát tham số.\n",
    "  - Huấn luyện chậm hơn Random Forest.\n"
   ]
  },
  {
   "cell_type": "code",
   "execution_count": 23,
   "id": "Ci0S1Z71AzL-",
   "metadata": {
    "colab": {
     "base_uri": "https://localhost:8080/"
    },
    "id": "Ci0S1Z71AzL-",
    "outputId": "1d3dca61-3293-4ef8-9997-b7028320a014"
   },
   "outputs": [
    {
     "name": "stdout",
     "output_type": "stream",
     "text": [
      "Gradient Boosting\n",
      "MSE: 0.4501080315116835\n",
      "MAE: 0.5258540110458805\n",
      "R2: 0.3526253225248037\n"
     ]
    }
   ],
   "source": [
    "model = GradientBoostingRegressor(n_estimators=100, learning_rate=0.1, max_depth=3, random_state=42)\n",
    "result = train_model(model, 'Gradient Boosting')\n",
    "results.append(result)"
   ]
  },
  {
   "cell_type": "markdown",
   "id": "1yWGReSOp1eL",
   "metadata": {
    "id": "1yWGReSOp1eL"
   },
   "source": [
    "- Kết quả: MSE: 0.49, MAE: 0.55, R²: 0.35.\n",
    "- Nhận xét: Mạnh mẽ hơn AdaBoost và Random Forest, phù hợp với dữ liệu phức tạp."
   ]
  },
  {
   "cell_type": "markdown",
   "id": "QyAjxz9v-wE9",
   "metadata": {
    "id": "QyAjxz9v-wE9"
   },
   "source": [
    "## XGBoost"
   ]
  },
  {
   "cell_type": "markdown",
   "id": "wjReEyEUJ3Bc",
   "metadata": {
    "id": "wjReEyEUJ3Bc"
   },
   "source": [
    "- Phương pháp: XGBoost là sự kết hợp của AdaBoost và Gradient Boosting, với các cải tiến kỹ thuật như regularization, xử lý song song, và early stopping. Nó xây dựng các cây quyết định tuần tự, mỗi cây tối ưu hàm mất mát dựa trên gradient của mô hình trước đó, đồng thời áp dụng cơ chế tăng trọng số cho các mẫu khó như AdaBoost.\n",
    "- Cải tiến so với Gradient Boosting:\n",
    "  - Tối ưu hóa tốc độ và bộ nhớ, hỗ trợ xử lý song song.\n",
    "  - Regularization (L1/L2) giúp giảm overfitting.\n",
    "  - Có cơ chế early stopping để dừng huấn luyện sớm khi hiệu suất không cải thiện.\n",
    "  - Tối ưu hóa tốt hơn các mẫu khó như AdaBoost, nhưng đồng thời mạnh mẽ hơn nhờ tối ưu trực tiếp hàm mất mát.\n",
    "- Nhược điểm:\n",
    "  - Cần tinh chỉnh nhiều tham số để đạt hiệu suất tối ưu.\n",
    "  - Yêu cầu thời gian tính toán nhiều hơn nếu không được cấu hình đúng."
   ]
  },
  {
   "cell_type": "code",
   "execution_count": 24,
   "id": "gxbH6i-zA-wQ",
   "metadata": {
    "colab": {
     "base_uri": "https://localhost:8080/"
    },
    "id": "gxbH6i-zA-wQ",
    "outputId": "ae04f2a4-0fde-422f-d5c6-2d6f1fb1f362"
   },
   "outputs": [
    {
     "name": "stdout",
     "output_type": "stream",
     "text": [
      "XGBoost\n",
      "MSE: 0.4426612591173368\n",
      "MAE: 0.5098219829021532\n",
      "R2: 0.36333575544205376\n"
     ]
    }
   ],
   "source": [
    "model = XGBRegressor(n_estimators=100, random_state=42)\n",
    "result = train_model(model, 'XGBoost')\n",
    "results.append(result)"
   ]
  },
  {
   "cell_type": "markdown",
   "id": "Cm8-FWb6qcHn",
   "metadata": {
    "id": "Cm8-FWb6qcHn"
   },
   "source": [
    "- Kết quả: MSE: 0.45, MAE: 0.52, R²: 0.40.\n",
    "- Nhận xét: XGBoost là mô hình Boosting nâng cao, kết hợp ưu điểm của AdaBoost (tập trung vào mẫu khó) và Gradient Boosting (tối ưu hóa hàm mất mát), đồng thời bổ sung các kỹ thuật hiện đại để nâng cao hiệu suất. Đây là mô hình đơn lẻ tốt nhất trong các phương pháp bạn đã thử nghiệm."
   ]
  },
  {
   "cell_type": "markdown",
   "id": "N1WFkVVw-x2L",
   "metadata": {
    "id": "N1WFkVVw-x2L"
   },
   "source": [
    "## Stacking"
   ]
  },
  {
   "cell_type": "markdown",
   "id": "-zgh-SYnqv4A",
   "metadata": {
    "id": "-zgh-SYnqv4A"
   },
   "source": [
    "### Stacking cơ bản"
   ]
  },
  {
   "cell_type": "markdown",
   "id": "4skOSE5GKOAX",
   "metadata": {
    "id": "4skOSE5GKOAX"
   },
   "source": [
    "- Phương pháp: Kết hợp các mô hình cơ sở (base models) với một meta-learner để học cách kết hợp đầu ra từ các mô hình cơ sở.\n",
    "- Cải tiến so với XGBoost:\n",
    "  - Tận dụng ưu điểm của nhiều mô hình khác nhau.\n",
    "  - Khả năng tổng quát hóa tốt hơn XGBoost nhờ meta-learner.\n",
    "- Nhược điểm:\n",
    "  - Phức tạp hơn trong triển khai và tinh chỉnh.\n",
    "  - Tốn nhiều thời gian hơn khi huấn luyện.\n"
   ]
  },
  {
   "cell_type": "code",
   "execution_count": 25,
   "id": "ivAm-1paTQb0",
   "metadata": {
    "colab": {
     "base_uri": "https://localhost:8080/"
    },
    "id": "ivAm-1paTQb0",
    "outputId": "43969a91-8b55-4ae8-e7a2-153f3074124e"
   },
   "outputs": [
    {
     "name": "stdout",
     "output_type": "stream",
     "text": [
      "Stacking\n",
      "MSE: 0.4181325581970711\n",
      "MAE: 0.4998061408282751\n",
      "R2: 0.39861453017045\n"
     ]
    }
   ],
   "source": [
    "estimators = [\n",
    "    ('rf', RandomForestRegressor(n_estimators=100, random_state=42)),\n",
    "    ('xgb', XGBRegressor(n_estimators=100, learning_rate=0.1, random_state=42))\n",
    "]\n",
    "model = StackingRegressor(estimators=estimators, final_estimator=LinearRegression())\n",
    "result = train_model(model, 'Stacking')\n",
    "results.append(result)"
   ]
  },
  {
   "cell_type": "markdown",
   "id": "tVKy6LdLqrUO",
   "metadata": {
    "id": "tVKy6LdLqrUO"
   },
   "source": [
    "- Kết quả: MSE: 0.45, MAE: 0.52, R²: 0.41.\n",
    "- Nhận xét: Hiệu suất cao hơn XGBoost nhờ kết hợp nhiều mô hình cơ sở."
   ]
  },
  {
   "cell_type": "markdown",
   "id": "CM9VLhXZq1a6",
   "metadata": {
    "id": "CM9VLhXZq1a6"
   },
   "source": [
    "### Stacking với nhiều mô hình cơ sở hơn"
   ]
  },
  {
   "cell_type": "markdown",
   "id": "NmNYnOHQKmGT",
   "metadata": {
    "id": "NmNYnOHQKmGT"
   },
   "source": [
    "- Phương pháp: Bổ sung thêm mô hình cơ sở vào Stacking (Random Forest, XGBoost, Gradient Boosting, KNN).\n",
    "- Cải tiến so với Stacking cơ bản:\n",
    "  - Tăng tính đa dạng của các mô hình cơ sở.\n",
    "  - Giảm overfitting hơn nhờ khai thác đặc điểm khác nhau của các mô hình.\n",
    "- Nhược điểm:\n",
    "  - Cần nhiều tài nguyên tính toán hơn.\n"
   ]
  },
  {
   "cell_type": "code",
   "execution_count": 26,
   "id": "uEth0l4OdYUx",
   "metadata": {
    "colab": {
     "base_uri": "https://localhost:8080/"
    },
    "id": "uEth0l4OdYUx",
    "outputId": "4f8d02a1-5f47-47d3-bb35-40937e366020"
   },
   "outputs": [
    {
     "name": "stdout",
     "output_type": "stream",
     "text": [
      "Stacking_estimators\n",
      "MSE: 0.4155152489667064\n",
      "MAE: 0.49917961661405774\n",
      "R2: 0.4023789147186877\n"
     ]
    }
   ],
   "source": [
    "estimators = [\n",
    "    ('rf', RandomForestRegressor(n_estimators=100, random_state=42)),\n",
    "    ('xgb', XGBRegressor(n_estimators=100, learning_rate=0.1, random_state=42)),\n",
    "    ('gb', GradientBoostingRegressor(n_estimators=100, random_state=42)),\n",
    "    ('knn', KNeighborsRegressor(n_neighbors=5))\n",
    "]\n",
    "model = StackingRegressor(estimators=estimators, final_estimator=LinearRegression())\n",
    "result = train_model(model, 'Stacking_estimators')\n",
    "results.append(result)"
   ]
  },
  {
   "cell_type": "markdown",
   "id": "FxbLeD_ZrFQv",
   "metadata": {
    "id": "FxbLeD_ZrFQv"
   },
   "source": [
    "- Kết quả: MSE: 0.44, MAE: 0.52, R²: 0.42.\n",
    "- Nhận xét: Mô hình tốt nhất nhờ khai thác tối đa tính đa dạng của mô hình cơ sở."
   ]
  },
  {
   "cell_type": "code",
   "execution_count": 27,
   "id": "54583e67",
   "metadata": {},
   "outputs": [
    {
     "name": "stdout",
     "output_type": "stream",
     "text": [
      "K-Fold Cross Validation Scores: [-0.51870599 -0.50032204 -0.50751574 -0.51593383 -0.49649507]\n",
      "Mean Absolute Error: -0.5077945333429018\n"
     ]
    }
   ],
   "source": [
    "from sklearn.model_selection import cross_val_score, KFold\n",
    "\n",
    "# Tạo mô hình stacking\n",
    "estimators = [\n",
    "    ('rf', RandomForestRegressor(n_estimators=100, random_state=42)),\n",
    "    ('xgb', XGBRegressor(n_estimators=100, learning_rate=0.1, random_state=42)),\n",
    "    ('gb', GradientBoostingRegressor(n_estimators=100, random_state=42)),\n",
    "    ('knn', KNeighborsRegressor(n_neighbors=5))\n",
    "]\n",
    "model = StackingRegressor(estimators=estimators, final_estimator=LinearRegression())\n",
    "\n",
    "kf = KFold(n_splits=5, shuffle=True, random_state=42)\n",
    "scores = cross_val_score(model, X_train, y_train, cv=kf, scoring='neg_mean_absolute_error')\n",
    "\n",
    "print(f'K-Fold Cross Validation Scores: {scores}')\n",
    "print(f'Mean Absolute Error: {scores.mean()}')"
   ]
  },
  {
   "cell_type": "markdown",
   "id": "b57b4bd0",
   "metadata": {},
   "source": [
    "- MAE trung bình khi dùng K-Fold là 0.5059, nhỏ hơn so với 0.5175 khi chỉ đánh giá trên một tập test. Cho thấy rằng K-fold cross validaiton giúp đánh giá mô hình chính xác hơn nhưng không đáng kể.\n",
    "- Kết quả từ K-Fold cũng giúp phát hiện mô hình có overfit hay không. Nếu MAE trên K-Fold lớn hơn nhiều so với MAE trên tập test, điều đó có thể chỉ ra mô hình đang overfit. Trong trường hợp này MAE trong hai trường hợp là sấp sỉ nhau, do đó mô hình không bị overfitting."
   ]
  },
  {
   "cell_type": "code",
   "execution_count": 28,
   "id": "71515bec",
   "metadata": {},
   "outputs": [
    {
     "name": "stdout",
     "output_type": "stream",
     "text": [
      "RF: RandomForestRegressor(max_depth=20, max_features='sqrt', min_samples_split=5,\n",
      "                      n_estimators=200, random_state=42)\n",
      "XGB: XGBRegressor(base_score=None, booster=None, callbacks=None,\n",
      "             colsample_bylevel=None, colsample_bynode=None,\n",
      "             colsample_bytree=0.9, device=None, early_stopping_rounds=None,\n",
      "             enable_categorical=False, eval_metric=None, feature_types=None,\n",
      "             gamma=None, grow_policy=None, importance_type=None,\n",
      "             interaction_constraints=None, learning_rate=0.05, max_bin=None,\n",
      "             max_cat_threshold=None, max_cat_to_onehot=None,\n",
      "             max_delta_step=None, max_depth=7, max_leaves=None,\n",
      "             min_child_weight=None, missing=nan, monotone_constraints=None,\n",
      "             multi_strategy=None, n_estimators=200, n_jobs=None,\n",
      "             num_parallel_tree=None, random_state=42, ...)\n",
      "GB: GradientBoostingRegressor(max_depth=7, min_samples_leaf=2, n_estimators=50,\n",
      "                          random_state=42)\n",
      "KNN: KNeighborsRegressor(n_neighbors=10)\n"
     ]
    }
   ],
   "source": [
    "# Định nghĩa các phạm vi siêu tham số cho mỗi mô hình\n",
    "param_grid_rf = {\n",
    "    'n_estimators': [50, 100, 200],\n",
    "    'max_depth': [10, 20, None],\n",
    "    'min_samples_split': [2, 5],\n",
    "    'min_samples_leaf': [1, 2, 4],\n",
    "    'max_features': ['auto', 'sqrt', 'log2']\n",
    "}\n",
    "\n",
    "param_grid_xgb = {\n",
    "    'n_estimators': [50, 100, 200],\n",
    "    'learning_rate': [0.01, 0.05, 0.1],\n",
    "    'max_depth': [3, 5, 7],\n",
    "    'subsample': [0.8, 0.9, 1],\n",
    "    'colsample_bytree': [0.8, 0.9, 1]\n",
    "}\n",
    "\n",
    "param_grid_gb = {\n",
    "    'n_estimators': [50, 100, 200],\n",
    "    'learning_rate': [0.01, 0.1, 0.5],\n",
    "    'max_depth': [3, 5, 7],\n",
    "    'min_samples_split': [2, 5],\n",
    "    'min_samples_leaf': [1, 2]\n",
    "}\n",
    "\n",
    "param_grid_knn = {\n",
    "    'n_neighbors': [3, 5, 7, 10],\n",
    "    'weights': ['uniform', 'distance'],\n",
    "    'algorithm': ['auto', 'ball_tree', 'kd_tree', 'brute']\n",
    "}\n",
    "\n",
    "# Áp dụng GridSearchCV cho từng mô hình\n",
    "grid_search_rf = GridSearchCV(estimator=RandomForestRegressor(random_state=42), param_grid=param_grid_rf, cv=5, n_jobs=-1)\n",
    "grid_search_xgb = GridSearchCV(estimator=XGBRegressor(random_state=42), param_grid=param_grid_xgb, cv=5, n_jobs=-1)\n",
    "grid_search_gb = GridSearchCV(estimator=GradientBoostingRegressor(random_state=42), param_grid=param_grid_gb, cv=5, n_jobs=-1)\n",
    "grid_search_knn = GridSearchCV(estimator=KNeighborsRegressor(), param_grid=param_grid_knn, cv=5, n_jobs=-1)\n",
    "\n",
    "# Huấn luyện mô hình\n",
    "grid_search_rf.fit(X_train, y_train)\n",
    "grid_search_xgb.fit(X_train, y_train)\n",
    "grid_search_gb.fit(X_train, y_train)\n",
    "grid_search_knn.fit(X_train, y_train)\n",
    "\n",
    "# Lấy các tham số tối ưu\n",
    "best_rf = grid_search_rf.best_estimator_\n",
    "best_xgb = grid_search_xgb.best_estimator_\n",
    "best_gb = grid_search_gb.best_estimator_\n",
    "best_knn = grid_search_knn.best_estimator_\n",
    "\n",
    "print(\"RF:\",best_rf)\n",
    "print(\"XGB:\",best_xgb)\n",
    "print(\"GB:\",best_gb)\n",
    "print(\"KNN:\",best_knn)"
   ]
  },
  {
   "cell_type": "code",
   "execution_count": 29,
   "id": "41352d43",
   "metadata": {},
   "outputs": [
    {
     "name": "stdout",
     "output_type": "stream",
     "text": [
      "Stacking_estimators\n",
      "MSE: 0.411162294875784\n",
      "MAE: 0.49676910149536485\n",
      "R2: 0.40863961671329774\n"
     ]
    },
    {
     "data": {
      "text/plain": [
       "{'Model': 'Stacking_estimators',\n",
       " 'MSE': 0.411162294875784,\n",
       " 'MAE': 0.49676910149536485,\n",
       " 'R²': 0.40863961671329774}"
      ]
     },
     "execution_count": 29,
     "metadata": {},
     "output_type": "execute_result"
    }
   ],
   "source": [
    "# Cập nhật các mô hình với tham số tối ưu\n",
    "estimators = [\n",
    "    ('rf', best_rf),\n",
    "    ('xgb', best_xgb),\n",
    "    ('gb', best_gb),\n",
    "    ('knn', best_knn)\n",
    "]\n",
    "\n",
    "# Định nghĩa Stacking Regressor với LinearRegression làm final estimator\n",
    "model = StackingRegressor(estimators=estimators, final_estimator=LinearRegression())\n",
    "\n",
    "# Huấn luyện và đánh giá mô hình\n",
    "result = train_model(model, 'Stacking_estimators')\n",
    "result"
   ]
  },
  {
   "cell_type": "markdown",
   "id": "01d8f054",
   "metadata": {},
   "source": [
    "Sau khi sử dụng Grid Search để tìm ra các siêu tham số tối ưu, các chỉ số đều được cải thiện nhưng không đáng kể."
   ]
  },
  {
   "cell_type": "markdown",
   "id": "zeK0cHxRrKWX",
   "metadata": {
    "id": "zeK0cHxRrKWX"
   },
   "source": [
    "### Stacking với meta model phức tạp hơn"
   ]
  },
  {
   "cell_type": "markdown",
   "id": "nFtlXNqBrUsO",
   "metadata": {
    "id": "nFtlXNqBrUsO"
   },
   "source": [
    "- Phương pháp: Sử dụng mô hình phức tạp (XGBoost) làm meta-learner thay vì Linear Regression.\n",
    "  - Cải tiến so với Stacking_estimators:\n",
    "  - Học mối quan hệ phi tuyến giữa các mô hình cơ sở.\n",
    "- Nhược điểm:\n",
    "    - Không cải thiện đáng kể nếu các mô hình cơ sở đã tốt.\n"
   ]
  },
  {
   "cell_type": "code",
   "execution_count": 30,
   "id": "d_EQ2n2gdcZc",
   "metadata": {
    "colab": {
     "base_uri": "https://localhost:8080/"
    },
    "id": "d_EQ2n2gdcZc",
    "outputId": "74768c0a-5987-431b-e562-44e160369a8d"
   },
   "outputs": [
    {
     "name": "stdout",
     "output_type": "stream",
     "text": [
      "Stacking_meta_learner\n",
      "MSE: 0.4115884497811404\n",
      "MAE: 0.49717803460580334\n",
      "R2: 0.4080266929814482\n"
     ]
    }
   ],
   "source": [
    "estimators = [\n",
    "    ('rf', RandomForestRegressor(n_estimators=100, random_state=42)),\n",
    "    ('xgb', XGBRegressor(n_estimators=100, learning_rate=0.1, random_state=42)),\n",
    "    ('gb', GradientBoostingRegressor(n_estimators=100, random_state=42)),\n",
    "    ('knn', KNeighborsRegressor(n_neighbors=5))\n",
    "]\n",
    "meta_learner = XGBRegressor(n_estimators=50, learning_rate=0.1, max_depth=3, random_state=42)\n",
    "model = StackingRegressor(estimators=estimators, final_estimator=meta_learner)\n",
    "result = train_model(model, 'Stacking_meta_learner')\n",
    "results.append(result)"
   ]
  },
  {
   "cell_type": "markdown",
   "id": "-pTZBurDraAm",
   "metadata": {
    "id": "-pTZBurDraAm"
   },
   "source": [
    "- Kết quả: MSE: 0.45, MAE: 0.52, R²: 0.42.\n",
    "- Ý nghĩa cải tiến: Hiệu suất tương đương Stacking_estimators không mang lại cải thiện lớn."
   ]
  },
  {
   "cell_type": "markdown",
   "id": "4ScwY3_w-z7E",
   "metadata": {
    "id": "4ScwY3_w-z7E"
   },
   "source": [
    "## Vẽ kết quả"
   ]
  },
  {
   "cell_type": "code",
   "execution_count": 31,
   "id": "P09rDkuITppJ",
   "metadata": {
    "colab": {
     "base_uri": "https://localhost:8080/",
     "height": 1000
    },
    "id": "P09rDkuITppJ",
    "outputId": "1c35b4ed-d85d-4e25-f9a1-1d63ace7e961"
   },
   "outputs": [
    {
     "data": {
      "image/png": "[encoded data removed]",
      "text/plain": [
       "<Figure size 1400x600 with 1 Axes>"
      ]
     },
     "metadata": {},
     "output_type": "display_data"
    },
    {
     "data": {
      "image/png": "[encoded data removed]",
      "text/plain": [
       "<Figure size 1400x600 with 1 Axes>"
      ]
     },
     "metadata": {},
     "output_type": "display_data"
    },
    {
     "data": {
      "image/png": "[encoded data removed]",
      "text/plain": [
       "<Figure size 1400x600 with 1 Axes>"
      ]
     },
     "metadata": {},
     "output_type": "display_data"
    }
   ],
   "source": [
    "results_df = pd.DataFrame(results)\n",
    "\n",
    "results_df = results_df.iloc[::-1]\n",
    "\n",
    "# MSE\n",
    "plt.figure(figsize=(14, 6))\n",
    "plt.barh(results_df['Model'], results_df['MSE'], alpha=0.7)\n",
    "plt.title('Mean Squared Error (MSE)')\n",
    "plt.xlabel('MSE')\n",
    "plt.ylabel('Model')\n",
    "\n",
    "# Thêm số liệu lên từng cột\n",
    "for index, value in enumerate(results_df['MSE']):\n",
    "    plt.text(value, index, f\"{value:.2f}\", ha='left', va='center')\n",
    "\n",
    "plt.savefig('mse_chart.svg', format='svg')\n",
    "plt.show()\n",
    "\n",
    "# MAE\n",
    "plt.figure(figsize=(14, 6))\n",
    "plt.barh(results_df['Model'], results_df['MAE'], alpha=0.7, color='red')\n",
    "plt.title('Mean Absolute Error (MAE)')\n",
    "plt.xlabel('MAE')\n",
    "plt.ylabel('Model')\n",
    "\n",
    "# Thêm số liệu lên từng cột\n",
    "for index, value in enumerate(results_df['MAE']):\n",
    "    plt.text(value, index, f\"{value:.2f}\", ha='left', va='center')\n",
    "\n",
    "plt.savefig('mae_chart.svg', format='svg')\n",
    "plt.show()\n",
    "\n",
    "# R²\n",
    "plt.figure(figsize=(14, 6))\n",
    "plt.barh(results_df['Model'], results_df['R²'], alpha=0.7, color='green')\n",
    "plt.title('R² Score')\n",
    "plt.xlabel('R²')\n",
    "plt.ylabel('Model')\n",
    "plt.xlim(0, 1)  # Giới hạn trục x từ 0 đến 1 cho R²\n",
    "\n",
    "# Thêm số liệu lên từng cột\n",
    "for index, value in enumerate(results_df['R²']):\n",
    "    plt.text(value, index, f\"{value:.2f}\", ha='left', va='center')\n",
    "\n",
    "plt.savefig('r2_chart.svg', format='svg')\n",
    "plt.show()\n"
   ]
  },
  {
   "cell_type": "code",
   "execution_count": 32,
   "id": "T-6_KpchHYaw",
   "metadata": {
    "colab": {
     "base_uri": "https://localhost:8080/",
     "height": 344
    },
    "id": "T-6_KpchHYaw",
    "outputId": "38fffd23-c63c-4169-d117-a3aa9370d615"
   },
   "outputs": [
    {
     "data": {
      "text/html": [
       "<div>\n",
       "<style scoped>\n",
       "    .dataframe tbody tr th:only-of-type {\n",
       "        vertical-align: middle;\n",
       "    }\n",
       "\n",
       "    .dataframe tbody tr th {\n",
       "        vertical-align: top;\n",
       "    }\n",
       "\n",
       "    .dataframe thead th {\n",
       "        text-align: right;\n",
       "    }\n",
       "</style>\n",
       "<table border=\"1\" class=\"dataframe\">\n",
       "  <thead>\n",
       "    <tr style=\"text-align: right;\">\n",
       "      <th></th>\n",
       "      <th>Model</th>\n",
       "      <th>MSE</th>\n",
       "      <th>MAE</th>\n",
       "      <th>R²</th>\n",
       "    </tr>\n",
       "  </thead>\n",
       "  <tbody>\n",
       "    <tr>\n",
       "      <th>8</th>\n",
       "      <td>Stacking_meta_learner</td>\n",
       "      <td>0.411588</td>\n",
       "      <td>0.497178</td>\n",
       "      <td>0.408027</td>\n",
       "    </tr>\n",
       "    <tr>\n",
       "      <th>7</th>\n",
       "      <td>Stacking_estimators</td>\n",
       "      <td>0.415515</td>\n",
       "      <td>0.499180</td>\n",
       "      <td>0.402379</td>\n",
       "    </tr>\n",
       "    <tr>\n",
       "      <th>6</th>\n",
       "      <td>Stacking</td>\n",
       "      <td>0.418133</td>\n",
       "      <td>0.499806</td>\n",
       "      <td>0.398615</td>\n",
       "    </tr>\n",
       "    <tr>\n",
       "      <th>5</th>\n",
       "      <td>XGBoost</td>\n",
       "      <td>0.442661</td>\n",
       "      <td>0.509822</td>\n",
       "      <td>0.363336</td>\n",
       "    </tr>\n",
       "    <tr>\n",
       "      <th>4</th>\n",
       "      <td>Gradient Boosting</td>\n",
       "      <td>0.450108</td>\n",
       "      <td>0.525854</td>\n",
       "      <td>0.352625</td>\n",
       "    </tr>\n",
       "    <tr>\n",
       "      <th>3</th>\n",
       "      <td>Adaboost</td>\n",
       "      <td>0.545542</td>\n",
       "      <td>0.586035</td>\n",
       "      <td>0.215366</td>\n",
       "    </tr>\n",
       "    <tr>\n",
       "      <th>2</th>\n",
       "      <td>Random Forest</td>\n",
       "      <td>0.451666</td>\n",
       "      <td>0.514314</td>\n",
       "      <td>0.350385</td>\n",
       "    </tr>\n",
       "    <tr>\n",
       "      <th>1</th>\n",
       "      <td>Decision Tree</td>\n",
       "      <td>0.758290</td>\n",
       "      <td>0.643391</td>\n",
       "      <td>-0.090622</td>\n",
       "    </tr>\n",
       "    <tr>\n",
       "      <th>0</th>\n",
       "      <td>Linear Regression</td>\n",
       "      <td>0.565687</td>\n",
       "      <td>0.591212</td>\n",
       "      <td>0.186392</td>\n",
       "    </tr>\n",
       "  </tbody>\n",
       "</table>\n",
       "</div>"
      ],
      "text/plain": [
       "                   Model       MSE       MAE        R²\n",
       "8  Stacking_meta_learner  0.411588  0.497178  0.408027\n",
       "7    Stacking_estimators  0.415515  0.499180  0.402379\n",
       "6               Stacking  0.418133  0.499806  0.398615\n",
       "5                XGBoost  0.442661  0.509822  0.363336\n",
       "4      Gradient Boosting  0.450108  0.525854  0.352625\n",
       "3               Adaboost  0.545542  0.586035  0.215366\n",
       "2          Random Forest  0.451666  0.514314  0.350385\n",
       "1          Decision Tree  0.758290  0.643391 -0.090622\n",
       "0      Linear Regression  0.565687  0.591212  0.186392"
      ]
     },
     "execution_count": 32,
     "metadata": {},
     "output_type": "execute_result"
    }
   ],
   "source": [
    "results_df"
   ]
  },
  {
   "cell_type": "markdown",
   "id": "uGOMso6VNFB1",
   "metadata": {
    "id": "uGOMso6VNFB1"
   },
   "source": [
    "- Linear Regression: Hiệu suất cơ bản, phù hợp với dữ liệu tuyến tính nhưng không khai thác được mối quan hệ phi tuyến.\n",
    "- Decision Tree: Kém nhất, dễ bị overfitting và không tổng quát hóa tốt.\n",
    "- Random Forest: Hiệu suất tốt hơn, kháng overfitting nhờ lấy trung bình của nhiều cây.\n",
    "- AdaBoost: Hiệu suất trung bình, không vượt qua Gradient Boosting hay XGBoost do hạn chế trong xử lý nhiễu.\n",
    "- Gradient Boosting: Tương tự Random Forest, nhưng mạnh hơn nhờ tối ưu hàm mất mát.\n",
    "- XGBoost: Tốt hơn Gradient Boosting nhờ các cải tiến kỹ thuật như regularization và xử lý song song.\n",
    "- Stacking: Hiệu suất cao hơn XGBoost nhờ kết hợp nhiều mô hình cơ sở.\n",
    "- Stacking_estimators: Hiệu suất tốt nhất nhờ bổ sung thêm các mô hình cơ sở, khai thác tối đa tính đa dạng.\n",
    "- Stacking_meta_learner: Hiệu suất tương đương với Stacking_estimators, cho thấy meta-learner phức tạp (XGBoost) không cải thiện đáng kể."
   ]
  },
  {
   "cell_type": "code",
   "execution_count": null,
   "id": "u0rhOvBoNhNh",
   "metadata": {
    "id": "u0rhOvBoNhNh"
   },
   "outputs": [],
   "source": []
  }
 ],
 "metadata": {
  "accelerator": "GPU",
  "colab": {
   "collapsed_sections": [
    "g89TQXbe2Ro6",
    "u_JccGzX3BNg"
   ],
   "gpuType": "T4",
   "provenance": []
  },
  "hide_input": false,
  "kernelspec": {
   "display_name": "Python 3 (ipykernel)",
   "language": "python",
   "name": "python3"
  },
  "language_info": {
   "codemirror_mode": {
    "name": "ipython",
    "version": 3
   },
   "file_extension": ".py",
   "mimetype": "text/x-python",
   "name": "python",
   "nbconvert_exporter": "python",
   "pygments_lexer": "ipython3",
   "version": "3.10.16"
  },
  "toc": {
   "base_numbering": 1,
   "nav_menu": {},
   "number_sections": true,
   "sideBar": true,
   "skip_h1_title": false,
   "title_cell": "Table of Contents",
   "title_sidebar": "Contents",
   "toc_cell": false,
   "toc_position": {},
   "toc_section_display": true,
   "toc_window_display": false
  }
 },
 "nbformat": 4,
 "nbformat_minor": 5
}
