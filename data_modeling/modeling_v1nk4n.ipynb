{
  "cells": [
    {
      "cell_type": "code",
      "source": [
        "from google.colab import drive\n",
        "drive.mount('/content/drive')"
      ],
      "metadata": {
        "colab": {
          "base_uri": "https://localhost:8080/"
        },
        "id": "jEii61dlOxr1",
        "outputId": "8f4e6850-091c-49ca-b152-5e208d877be1"
      },
      "id": "jEii61dlOxr1",
      "execution_count": null,
      "outputs": [
        {
          "output_type": "stream",
          "name": "stdout",
          "text": [
            "Drive already mounted at /content/drive; to attempt to forcibly remount, call drive.mount(\"/content/drive\", force_remount=True).\n"
          ]
        }
      ]
    },
    {
      "cell_type": "markdown",
      "source": [
        "# Import thư viện"
      ],
      "metadata": {
        "id": "mny1CGpbLUji"
      },
      "id": "mny1CGpbLUji"
    },
    {
      "cell_type": "code",
      "execution_count": null,
      "id": "f8326ccf",
      "metadata": {
        "id": "f8326ccf"
      },
      "outputs": [],
      "source": [
        "import pandas as pd\n",
        "import numpy as np\n",
        "import matplotlib.pyplot as plt\n",
        "\n",
        "from sklearn.preprocessing import StandardScaler\n",
        "from sklearn.preprocessing import OneHotEncoder\n",
        "\n",
        "from sklearn.model_selection import train_test_split, GridSearchCV\n",
        "from sklearn.preprocessing import MultiLabelBinarizer, LabelEncoder\n",
        "\n",
        "from sklearn.linear_model import LinearRegression\n",
        "from sklearn.tree import DecisionTreeRegressor\n",
        "\n",
        "from sklearn.ensemble import RandomForestRegressor\n",
        "\n",
        "from sklearn.ensemble import AdaBoostRegressor\n",
        "from sklearn.ensemble import GradientBoostingRegressor\n",
        "from xgboost import XGBRegressor\n",
        "\n",
        "from sklearn.ensemble import StackingRegressor\n",
        "\n",
        "from sklearn.neighbors import KNeighborsRegressor\n",
        "\n",
        "from sklearn.metrics import mean_squared_error, mean_absolute_error, r2_score"
      ]
    },
    {
      "cell_type": "markdown",
      "source": [
        "# Đọc dữ liệu"
      ],
      "metadata": {
        "id": "eG4sFX02LWtY"
      },
      "id": "eG4sFX02LWtY"
    },
    {
      "cell_type": "code",
      "execution_count": null,
      "id": "a264d5f6",
      "metadata": {
        "colab": {
          "base_uri": "https://localhost:8080/",
          "height": 214
        },
        "id": "a264d5f6",
        "outputId": "38b56fe0-fc7f-46de-fa7b-063a95fb16ff"
      },
      "outputs": [
        {
          "output_type": "execute_result",
          "data": {
            "text/plain": [
              "    ID                            Title  Episodes   Type  \\\n",
              "0  1.0                     Cowboy Bebop      26.0     TV   \n",
              "1  5.0  Cowboy Bebop: Tengoku no Tobira       1.0  Movie   \n",
              "2  6.0                           Trigun      26.0     TV   \n",
              "3  7.0               Witch Hunter Robin      26.0     TV   \n",
              "4  8.0                   Bouken Ou Beet      52.0     TV   \n",
              "\n",
              "                          Aired                                    Producers  \\\n",
              "0   Apr 3, 1998 to Apr 24, 1999                                Bandai Visual   \n",
              "1                   Sep 1, 2001                       Sunrise, Bandai Visual   \n",
              "2   Apr 1, 1998 to Sep 30, 1998                         Victor Entertainment   \n",
              "3   Jul 3, 2002 to Dec 25, 2002  Bandai Visual, Dentsu, Victor Entertainment   \n",
              "4  Sep 30, 2004 to Sep 29, 2005                             TV Tokyo, Dentsu   \n",
              "\n",
              "          Studios    Source                                Genres  \\\n",
              "0         Sunrise  Original         Action, Award Winning, Sci-Fi   \n",
              "1           Bones  Original                        Action, Sci-Fi   \n",
              "2        Madhouse     Manga             Action, Adventure, Sci-Fi   \n",
              "3         Sunrise  Original  Action, Drama, Mystery, Supernatural   \n",
              "4  Toei Animation     Manga            Action, Adventure, Fantasy   \n",
              "\n",
              "   Duration (mins)  Score  Scored By     Rank  Popularity    Year  \n",
              "0             24.0   8.75   988000.0    482.0        43.0  1998.0  \n",
              "1            115.0   8.38   219779.0   2092.0       631.0  2001.0  \n",
              "2             24.0   8.22   380049.0   3602.0       258.0  1998.0  \n",
              "3             25.0   7.24    44600.0  30982.0      1908.0  2002.0  \n",
              "4             23.0   6.93     6891.0  45862.0      5485.0  2004.0  "
            ],
            "text/html": [
              "\n",
              "  <div id=\"df-c2dcaa8a-4966-4056-879d-1499cc91570e\" class=\"colab-df-container\">\n",
              "    <div>\n",
              "<style scoped>\n",
              "    .dataframe tbody tr th:only-of-type {\n",
              "        vertical-align: middle;\n",
              "    }\n",
              "\n",
              "    .dataframe tbody tr th {\n",
              "        vertical-align: top;\n",
              "    }\n",
              "\n",
              "    .dataframe thead th {\n",
              "        text-align: right;\n",
              "    }\n",
              "</style>\n",
              "<table border=\"1\" class=\"dataframe\">\n",
              "  <thead>\n",
              "    <tr style=\"text-align: right;\">\n",
              "      <th></th>\n",
              "      <th>ID</th>\n",
              "      <th>Title</th>\n",
              "      <th>Episodes</th>\n",
              "      <th>Type</th>\n",
              "      <th>Aired</th>\n",
              "      <th>Producers</th>\n",
              "      <th>Studios</th>\n",
              "      <th>Source</th>\n",
              "      <th>Genres</th>\n",
              "      <th>Duration (mins)</th>\n",
              "      <th>Score</th>\n",
              "      <th>Scored By</th>\n",
              "      <th>Rank</th>\n",
              "      <th>Popularity</th>\n",
              "      <th>Year</th>\n",
              "    </tr>\n",
              "  </thead>\n",
              "  <tbody>\n",
              "    <tr>\n",
              "      <th>0</th>\n",
              "      <td>1.0</td>\n",
              "      <td>Cowboy Bebop</td>\n",
              "      <td>26.0</td>\n",
              "      <td>TV</td>\n",
              "      <td>Apr 3, 1998 to Apr 24, 1999</td>\n",
              "      <td>Bandai Visual</td>\n",
              "      <td>Sunrise</td>\n",
              "      <td>Original</td>\n",
              "      <td>Action, Award Winning, Sci-Fi</td>\n",
              "      <td>24.0</td>\n",
              "      <td>8.75</td>\n",
              "      <td>988000.0</td>\n",
              "      <td>482.0</td>\n",
              "      <td>43.0</td>\n",
              "      <td>1998.0</td>\n",
              "    </tr>\n",
              "    <tr>\n",
              "      <th>1</th>\n",
              "      <td>5.0</td>\n",
              "      <td>Cowboy Bebop: Tengoku no Tobira</td>\n",
              "      <td>1.0</td>\n",
              "      <td>Movie</td>\n",
              "      <td>Sep 1, 2001</td>\n",
              "      <td>Sunrise, Bandai Visual</td>\n",
              "      <td>Bones</td>\n",
              "      <td>Original</td>\n",
              "      <td>Action, Sci-Fi</td>\n",
              "      <td>115.0</td>\n",
              "      <td>8.38</td>\n",
              "      <td>219779.0</td>\n",
              "      <td>2092.0</td>\n",
              "      <td>631.0</td>\n",
              "      <td>2001.0</td>\n",
              "    </tr>\n",
              "    <tr>\n",
              "      <th>2</th>\n",
              "      <td>6.0</td>\n",
              "      <td>Trigun</td>\n",
              "      <td>26.0</td>\n",
              "      <td>TV</td>\n",
              "      <td>Apr 1, 1998 to Sep 30, 1998</td>\n",
              "      <td>Victor Entertainment</td>\n",
              "      <td>Madhouse</td>\n",
              "      <td>Manga</td>\n",
              "      <td>Action, Adventure, Sci-Fi</td>\n",
              "      <td>24.0</td>\n",
              "      <td>8.22</td>\n",
              "      <td>380049.0</td>\n",
              "      <td>3602.0</td>\n",
              "      <td>258.0</td>\n",
              "      <td>1998.0</td>\n",
              "    </tr>\n",
              "    <tr>\n",
              "      <th>3</th>\n",
              "      <td>7.0</td>\n",
              "      <td>Witch Hunter Robin</td>\n",
              "      <td>26.0</td>\n",
              "      <td>TV</td>\n",
              "      <td>Jul 3, 2002 to Dec 25, 2002</td>\n",
              "      <td>Bandai Visual, Dentsu, Victor Entertainment</td>\n",
              "      <td>Sunrise</td>\n",
              "      <td>Original</td>\n",
              "      <td>Action, Drama, Mystery, Supernatural</td>\n",
              "      <td>25.0</td>\n",
              "      <td>7.24</td>\n",
              "      <td>44600.0</td>\n",
              "      <td>30982.0</td>\n",
              "      <td>1908.0</td>\n",
              "      <td>2002.0</td>\n",
              "    </tr>\n",
              "    <tr>\n",
              "      <th>4</th>\n",
              "      <td>8.0</td>\n",
              "      <td>Bouken Ou Beet</td>\n",
              "      <td>52.0</td>\n",
              "      <td>TV</td>\n",
              "      <td>Sep 30, 2004 to Sep 29, 2005</td>\n",
              "      <td>TV Tokyo, Dentsu</td>\n",
              "      <td>Toei Animation</td>\n",
              "      <td>Manga</td>\n",
              "      <td>Action, Adventure, Fantasy</td>\n",
              "      <td>23.0</td>\n",
              "      <td>6.93</td>\n",
              "      <td>6891.0</td>\n",
              "      <td>45862.0</td>\n",
              "      <td>5485.0</td>\n",
              "      <td>2004.0</td>\n",
              "    </tr>\n",
              "  </tbody>\n",
              "</table>\n",
              "</div>\n",
              "    <div class=\"colab-df-buttons\">\n",
              "\n",
              "  <div class=\"colab-df-container\">\n",
              "    <button class=\"colab-df-convert\" onclick=\"convertToInteractive('df-c2dcaa8a-4966-4056-879d-1499cc91570e')\"\n",
              "            title=\"Convert this dataframe to an interactive table.\"\n",
              "            style=\"display:none;\">\n",
              "\n",
              "  <svg xmlns=\"http://www.w3.org/2000/svg\" height=\"24px\" viewBox=\"0 -960 960 960\">\n",
              "    <path d=\"M120-120v-720h720v720H120Zm60-500h600v-160H180v160Zm220 220h160v-160H400v160Zm0 220h160v-160H400v160ZM180-400h160v-160H180v160Zm440 0h160v-160H620v160ZM180-180h160v-160H180v160Zm440 0h160v-160H620v160Z\"/>\n",
              "  </svg>\n",
              "    </button>\n",
              "\n",
              "  <style>\n",
              "    .colab-df-container {\n",
              "      display:flex;\n",
              "      gap: 12px;\n",
              "    }\n",
              "\n",
              "    .colab-df-convert {\n",
              "      background-color: #E8F0FE;\n",
              "      border: none;\n",
              "      border-radius: 50%;\n",
              "      cursor: pointer;\n",
              "      display: none;\n",
              "      fill: #1967D2;\n",
              "      height: 32px;\n",
              "      padding: 0 0 0 0;\n",
              "      width: 32px;\n",
              "    }\n",
              "\n",
              "    .colab-df-convert:hover {\n",
              "      background-color: #E2EBFA;\n",
              "      box-shadow: 0px 1px 2px rgba(60, 64, 67, 0.3), 0px 1px 3px 1px rgba(60, 64, 67, 0.15);\n",
              "      fill: #174EA6;\n",
              "    }\n",
              "\n",
              "    .colab-df-buttons div {\n",
              "      margin-bottom: 4px;\n",
              "    }\n",
              "\n",
              "    [theme=dark] .colab-df-convert {\n",
              "      background-color: #3B4455;\n",
              "      fill: #D2E3FC;\n",
              "    }\n",
              "\n",
              "    [theme=dark] .colab-df-convert:hover {\n",
              "      background-color: #434B5C;\n",
              "      box-shadow: 0px 1px 3px 1px rgba(0, 0, 0, 0.15);\n",
              "      filter: drop-shadow(0px 1px 2px rgba(0, 0, 0, 0.3));\n",
              "      fill: #FFFFFF;\n",
              "    }\n",
              "  </style>\n",
              "\n",
              "    <script>\n",
              "      const buttonEl =\n",
              "        document.querySelector('#df-c2dcaa8a-4966-4056-879d-1499cc91570e button.colab-df-convert');\n",
              "      buttonEl.style.display =\n",
              "        google.colab.kernel.accessAllowed ? 'block' : 'none';\n",
              "\n",
              "      async function convertToInteractive(key) {\n",
              "        const element = document.querySelector('#df-c2dcaa8a-4966-4056-879d-1499cc91570e');\n",
              "        const dataTable =\n",
              "          await google.colab.kernel.invokeFunction('convertToInteractive',\n",
              "                                                    [key], {});\n",
              "        if (!dataTable) return;\n",
              "\n",
              "        const docLinkHtml = 'Like what you see? Visit the ' +\n",
              "          '<a target=\"_blank\" href=https://colab.research.google.com/notebooks/data_table.ipynb>data table notebook</a>'\n",
              "          + ' to learn more about interactive tables.';\n",
              "        element.innerHTML = '';\n",
              "        dataTable['output_type'] = 'display_data';\n",
              "        await google.colab.output.renderOutput(dataTable, element);\n",
              "        const docLink = document.createElement('div');\n",
              "        docLink.innerHTML = docLinkHtml;\n",
              "        element.appendChild(docLink);\n",
              "      }\n",
              "    </script>\n",
              "  </div>\n",
              "\n",
              "\n",
              "<div id=\"df-20640106-c626-424d-ae6a-99465eeb6e22\">\n",
              "  <button class=\"colab-df-quickchart\" onclick=\"quickchart('df-20640106-c626-424d-ae6a-99465eeb6e22')\"\n",
              "            title=\"Suggest charts\"\n",
              "            style=\"display:none;\">\n",
              "\n",
              "<svg xmlns=\"http://www.w3.org/2000/svg\" height=\"24px\"viewBox=\"0 0 24 24\"\n",
              "     width=\"24px\">\n",
              "    <g>\n",
              "        <path d=\"M19 3H5c-1.1 0-2 .9-2 2v14c0 1.1.9 2 2 2h14c1.1 0 2-.9 2-2V5c0-1.1-.9-2-2-2zM9 17H7v-7h2v7zm4 0h-2V7h2v10zm4 0h-2v-4h2v4z\"/>\n",
              "    </g>\n",
              "</svg>\n",
              "  </button>\n",
              "\n",
              "<style>\n",
              "  .colab-df-quickchart {\n",
              "      --bg-color: #E8F0FE;\n",
              "      --fill-color: #1967D2;\n",
              "      --hover-bg-color: #E2EBFA;\n",
              "      --hover-fill-color: #174EA6;\n",
              "      --disabled-fill-color: #AAA;\n",
              "      --disabled-bg-color: #DDD;\n",
              "  }\n",
              "\n",
              "  [theme=dark] .colab-df-quickchart {\n",
              "      --bg-color: #3B4455;\n",
              "      --fill-color: #D2E3FC;\n",
              "      --hover-bg-color: #434B5C;\n",
              "      --hover-fill-color: #FFFFFF;\n",
              "      --disabled-bg-color: #3B4455;\n",
              "      --disabled-fill-color: #666;\n",
              "  }\n",
              "\n",
              "  .colab-df-quickchart {\n",
              "    background-color: var(--bg-color);\n",
              "    border: none;\n",
              "    border-radius: 50%;\n",
              "    cursor: pointer;\n",
              "    display: none;\n",
              "    fill: var(--fill-color);\n",
              "    height: 32px;\n",
              "    padding: 0;\n",
              "    width: 32px;\n",
              "  }\n",
              "\n",
              "  .colab-df-quickchart:hover {\n",
              "    background-color: var(--hover-bg-color);\n",
              "    box-shadow: 0 1px 2px rgba(60, 64, 67, 0.3), 0 1px 3px 1px rgba(60, 64, 67, 0.15);\n",
              "    fill: var(--button-hover-fill-color);\n",
              "  }\n",
              "\n",
              "  .colab-df-quickchart-complete:disabled,\n",
              "  .colab-df-quickchart-complete:disabled:hover {\n",
              "    background-color: var(--disabled-bg-color);\n",
              "    fill: var(--disabled-fill-color);\n",
              "    box-shadow: none;\n",
              "  }\n",
              "\n",
              "  .colab-df-spinner {\n",
              "    border: 2px solid var(--fill-color);\n",
              "    border-color: transparent;\n",
              "    border-bottom-color: var(--fill-color);\n",
              "    animation:\n",
              "      spin 1s steps(1) infinite;\n",
              "  }\n",
              "\n",
              "  @keyframes spin {\n",
              "    0% {\n",
              "      border-color: transparent;\n",
              "      border-bottom-color: var(--fill-color);\n",
              "      border-left-color: var(--fill-color);\n",
              "    }\n",
              "    20% {\n",
              "      border-color: transparent;\n",
              "      border-left-color: var(--fill-color);\n",
              "      border-top-color: var(--fill-color);\n",
              "    }\n",
              "    30% {\n",
              "      border-color: transparent;\n",
              "      border-left-color: var(--fill-color);\n",
              "      border-top-color: var(--fill-color);\n",
              "      border-right-color: var(--fill-color);\n",
              "    }\n",
              "    40% {\n",
              "      border-color: transparent;\n",
              "      border-right-color: var(--fill-color);\n",
              "      border-top-color: var(--fill-color);\n",
              "    }\n",
              "    60% {\n",
              "      border-color: transparent;\n",
              "      border-right-color: var(--fill-color);\n",
              "    }\n",
              "    80% {\n",
              "      border-color: transparent;\n",
              "      border-right-color: var(--fill-color);\n",
              "      border-bottom-color: var(--fill-color);\n",
              "    }\n",
              "    90% {\n",
              "      border-color: transparent;\n",
              "      border-bottom-color: var(--fill-color);\n",
              "    }\n",
              "  }\n",
              "</style>\n",
              "\n",
              "  <script>\n",
              "    async function quickchart(key) {\n",
              "      const quickchartButtonEl =\n",
              "        document.querySelector('#' + key + ' button');\n",
              "      quickchartButtonEl.disabled = true;  // To prevent multiple clicks.\n",
              "      quickchartButtonEl.classList.add('colab-df-spinner');\n",
              "      try {\n",
              "        const charts = await google.colab.kernel.invokeFunction(\n",
              "            'suggestCharts', [key], {});\n",
              "      } catch (error) {\n",
              "        console.error('Error during call to suggestCharts:', error);\n",
              "      }\n",
              "      quickchartButtonEl.classList.remove('colab-df-spinner');\n",
              "      quickchartButtonEl.classList.add('colab-df-quickchart-complete');\n",
              "    }\n",
              "    (() => {\n",
              "      let quickchartButtonEl =\n",
              "        document.querySelector('#df-20640106-c626-424d-ae6a-99465eeb6e22 button');\n",
              "      quickchartButtonEl.style.display =\n",
              "        google.colab.kernel.accessAllowed ? 'block' : 'none';\n",
              "    })();\n",
              "  </script>\n",
              "</div>\n",
              "\n",
              "    </div>\n",
              "  </div>\n"
            ],
            "application/vnd.google.colaboratory.intrinsic+json": {
              "type": "dataframe",
              "variable_name": "df",
              "summary": "{\n  \"name\": \"df\",\n  \"rows\": 16932,\n  \"fields\": [\n    {\n      \"column\": \"ID\",\n      \"properties\": {\n        \"dtype\": \"number\",\n        \"std\": 17988.690848712635,\n        \"min\": 1.0,\n        \"max\": 57160.0,\n        \"num_unique_values\": 16932,\n        \"samples\": [\n          17445.0,\n          32936.0,\n          5085.0\n        ],\n        \"semantic_type\": \"\",\n        \"description\": \"\"\n      }\n    },\n    {\n      \"column\": \"Title\",\n      \"properties\": {\n        \"dtype\": \"string\",\n        \"num_unique_values\": 16932,\n        \"samples\": [\n          \"Kyojin no Hoshi: Dai League Ball\",\n          \"Gin no Guardian\",\n          \"Nakedyouth\"\n        ],\n        \"semantic_type\": \"\",\n        \"description\": \"\"\n      }\n    },\n    {\n      \"column\": \"Episodes\",\n      \"properties\": {\n        \"dtype\": \"number\",\n        \"std\": 49.13385553838832,\n        \"min\": 1.0,\n        \"max\": 3057.0,\n        \"num_unique_values\": 201,\n        \"samples\": [\n          56.0,\n          3.0,\n          44.0\n        ],\n        \"semantic_type\": \"\",\n        \"description\": \"\"\n      }\n    },\n    {\n      \"column\": \"Type\",\n      \"properties\": {\n        \"dtype\": \"category\",\n        \"num_unique_values\": 10,\n        \"samples\": [\n          \"PV\",\n          \"Movie\",\n          \"ONA\"\n        ],\n        \"semantic_type\": \"\",\n        \"description\": \"\"\n      }\n    },\n    {\n      \"column\": \"Aired\",\n      \"properties\": {\n        \"dtype\": \"string\",\n        \"num_unique_values\": 12166,\n        \"samples\": [\n          \"Apr 25, 2008\",\n          \"Dec 25, 2010\",\n          \"Nov 25, 2010\"\n        ],\n        \"semantic_type\": \"\",\n        \"description\": \"\"\n      }\n    },\n    {\n      \"column\": \"Producers\",\n      \"properties\": {\n        \"dtype\": \"category\",\n        \"num_unique_values\": 4477,\n        \"samples\": [\n          \"Tencent Animation & Comics, Tencent Games, Friendly Land, Stray Cats\",\n          \"Pony Canyon, DAX Production, Hobby Japan, BS NTV, MAGNET\",\n          \"Movic, Kadokawa Pictures Japan\"\n        ],\n        \"semantic_type\": \"\",\n        \"description\": \"\"\n      }\n    },\n    {\n      \"column\": \"Studios\",\n      \"properties\": {\n        \"dtype\": \"category\",\n        \"num_unique_values\": 1497,\n        \"samples\": [\n          \"asread., White Fox\",\n          \"PONOS Corporation\",\n          \"Heart & Soul Animation\"\n        ],\n        \"semantic_type\": \"\",\n        \"description\": \"\"\n      }\n    },\n    {\n      \"column\": \"Source\",\n      \"properties\": {\n        \"dtype\": \"category\",\n        \"num_unique_values\": 17,\n        \"samples\": [\n          \"Original\",\n          \"Manga\",\n          \"4-koma manga\"\n        ],\n        \"semantic_type\": \"\",\n        \"description\": \"\"\n      }\n    },\n    {\n      \"column\": \"Genres\",\n      \"properties\": {\n        \"dtype\": \"category\",\n        \"num_unique_values\": 898,\n        \"samples\": [\n          \"Drama, Supernatural, Ecchi\",\n          \"Avant Garde, Drama, Fantasy, Mystery\",\n          \"Comedy, Drama, Mystery, Sci-Fi, Ecchi\"\n        ],\n        \"semantic_type\": \"\",\n        \"description\": \"\"\n      }\n    },\n    {\n      \"column\": \"Duration (mins)\",\n      \"properties\": {\n        \"dtype\": \"number\",\n        \"std\": 25.047487793156368,\n        \"min\": 0.1,\n        \"max\": 168.0,\n        \"num_unique_values\": 203,\n        \"samples\": [\n          28.0,\n          29.0,\n          114.0\n        ],\n        \"semantic_type\": \"\",\n        \"description\": \"\"\n      }\n    },\n    {\n      \"column\": \"Score\",\n      \"properties\": {\n        \"dtype\": \"number\",\n        \"std\": 0.8929917618894294,\n        \"min\": 1.88,\n        \"max\": 9.32,\n        \"num_unique_values\": 562,\n        \"samples\": [\n          4.25,\n          3.62,\n          4.91\n        ],\n        \"semantic_type\": \"\",\n        \"description\": \"\"\n      }\n    },\n    {\n      \"column\": \"Scored By\",\n      \"properties\": {\n        \"dtype\": \"number\",\n        \"std\": 118257.28331127504,\n        \"min\": 103.0,\n        \"max\": 2858563.0,\n        \"num_unique_values\": 8660,\n        \"samples\": [\n          41368.0,\n          304931.0,\n          45001.0\n        ],\n        \"semantic_type\": \"\",\n        \"description\": \"\"\n      }\n    },\n    {\n      \"column\": \"Rank\",\n      \"properties\": {\n        \"dtype\": \"number\",\n        \"std\": 39299.117631184025,\n        \"min\": 12.0,\n        \"max\": 136132.0,\n        \"num_unique_values\": 9263,\n        \"samples\": [\n          47322.0,\n          1362.0,\n          91032.0\n        ],\n        \"semantic_type\": \"\",\n        \"description\": \"\"\n      }\n    },\n    {\n      \"column\": \"Popularity\",\n      \"properties\": {\n        \"dtype\": \"number\",\n        \"std\": 5512.791557170974,\n        \"min\": 1.0,\n        \"max\": 21347.0,\n        \"num_unique_values\": 12837,\n        \"samples\": [\n          9713.0,\n          18715.0,\n          20067.0\n        ],\n        \"semantic_type\": \"\",\n        \"description\": \"\"\n      }\n    },\n    {\n      \"column\": \"Year\",\n      \"properties\": {\n        \"dtype\": \"number\",\n        \"std\": 14.510606894668925,\n        \"min\": 1917.0,\n        \"max\": 2024.0,\n        \"num_unique_values\": 100,\n        \"samples\": [\n          1952.0,\n          1943.0,\n          1941.0\n        ],\n        \"semantic_type\": \"\",\n        \"description\": \"\"\n      }\n    }\n  ]\n}"
            }
          },
          "metadata": {},
          "execution_count": 3
        }
      ],
      "source": [
        "df = pd.read_csv('/content/drive/MyDrive/NMKHDL/anime_preprocessing.csv')\n",
        "df.head()"
      ]
    },
    {
      "cell_type": "markdown",
      "source": [
        "# Tiền xử lý dữ liệu"
      ],
      "metadata": {
        "id": "8kQWgK3xLeHA"
      },
      "id": "8kQWgK3xLeHA"
    },
    {
      "cell_type": "markdown",
      "source": [
        "Sau quá trình đặt và trả lời câu hỏi, nhóm đã lựa chọn những thuộc tính quan trọng ảnh hưởng đến điểm của Anime: loại (Type), thời lượng (Duration), thể loại (Genres) và nguồn (Source). Do đó ta xóa các cột khác."
      ],
      "metadata": {
        "id": "FrQl9den3uAz"
      },
      "id": "FrQl9den3uAz"
    },
    {
      "cell_type": "code",
      "execution_count": null,
      "id": "00eadfe8",
      "metadata": {
        "id": "00eadfe8"
      },
      "outputs": [],
      "source": [
        "df = df.drop(columns=['Title', 'Episodes', 'Aired', 'Rank', 'Popularity', 'Scored By', 'Year', 'Studios', 'Producers'])"
      ]
    },
    {
      "cell_type": "code",
      "execution_count": null,
      "id": "a12513f2",
      "metadata": {
        "colab": {
          "base_uri": "https://localhost:8080/"
        },
        "id": "a12513f2",
        "outputId": "3dec578b-a503-433c-9f8e-d4edd50aae24"
      },
      "outputs": [
        {
          "output_type": "stream",
          "name": "stdout",
          "text": [
            "ID                  0\n",
            "Type                0\n",
            "Source              0\n",
            "Genres              0\n",
            "Duration (mins)    15\n",
            "Score               0\n",
            "dtype: int64\n"
          ]
        }
      ],
      "source": [
        "na_counts = df.isnull().sum()\n",
        "print(na_counts)"
      ]
    },
    {
      "cell_type": "code",
      "execution_count": null,
      "id": "7b5e4984",
      "metadata": {
        "id": "7b5e4984"
      },
      "outputs": [],
      "source": [
        "df = df.dropna(subset=['Duration (mins)'])"
      ]
    },
    {
      "cell_type": "code",
      "execution_count": null,
      "id": "9d970cb1",
      "metadata": {
        "colab": {
          "base_uri": "https://localhost:8080/"
        },
        "id": "9d970cb1",
        "outputId": "54bfa05f-27f3-4c12-c813-7d9875ce4f51"
      },
      "outputs": [
        {
          "output_type": "stream",
          "name": "stdout",
          "text": [
            "ID                 0\n",
            "Type               0\n",
            "Source             0\n",
            "Genres             0\n",
            "Duration (mins)    0\n",
            "Score              0\n",
            "dtype: int64\n"
          ]
        }
      ],
      "source": [
        "na_counts = df.isnull().sum()\n",
        "print(na_counts)"
      ]
    },
    {
      "cell_type": "code",
      "source": [
        "df = df[~df['Source'].str.contains('UNKNOWN', na=False)]\n",
        "df = df[~df['Type'].str.contains('UNKNOWN', na=False)]\n",
        "df = df[~df['Genres'].apply(lambda x: 'UNKNOWN' in x)]"
      ],
      "metadata": {
        "id": "9HIENK0t8iXM"
      },
      "id": "9HIENK0t8iXM",
      "execution_count": null,
      "outputs": []
    },
    {
      "cell_type": "code",
      "execution_count": null,
      "id": "fcffdab7",
      "metadata": {
        "colab": {
          "base_uri": "https://localhost:8080/",
          "height": 214
        },
        "id": "fcffdab7",
        "outputId": "73948fa8-9525-471f-9fa5-21069ecb2418"
      },
      "outputs": [
        {
          "output_type": "execute_result",
          "data": {
            "text/plain": [
              "    ID   Type    Source                                Genres  \\\n",
              "0  1.0     TV  Original         Action, Award Winning, Sci-Fi   \n",
              "1  5.0  Movie  Original                        Action, Sci-Fi   \n",
              "2  6.0     TV     Manga             Action, Adventure, Sci-Fi   \n",
              "3  7.0     TV  Original  Action, Drama, Mystery, Supernatural   \n",
              "4  8.0     TV     Manga            Action, Adventure, Fantasy   \n",
              "\n",
              "   Duration (mins)  Score  \n",
              "0             24.0   8.75  \n",
              "1            115.0   8.38  \n",
              "2             24.0   8.22  \n",
              "3             25.0   7.24  \n",
              "4             23.0   6.93  "
            ],
            "text/html": [
              "\n",
              "  <div id=\"df-a47c6856-7c7d-4dd6-9b9f-16bb21ca589e\" class=\"colab-df-container\">\n",
              "    <div>\n",
              "<style scoped>\n",
              "    .dataframe tbody tr th:only-of-type {\n",
              "        vertical-align: middle;\n",
              "    }\n",
              "\n",
              "    .dataframe tbody tr th {\n",
              "        vertical-align: top;\n",
              "    }\n",
              "\n",
              "    .dataframe thead th {\n",
              "        text-align: right;\n",
              "    }\n",
              "</style>\n",
              "<table border=\"1\" class=\"dataframe\">\n",
              "  <thead>\n",
              "    <tr style=\"text-align: right;\">\n",
              "      <th></th>\n",
              "      <th>ID</th>\n",
              "      <th>Type</th>\n",
              "      <th>Source</th>\n",
              "      <th>Genres</th>\n",
              "      <th>Duration (mins)</th>\n",
              "      <th>Score</th>\n",
              "    </tr>\n",
              "  </thead>\n",
              "  <tbody>\n",
              "    <tr>\n",
              "      <th>0</th>\n",
              "      <td>1.0</td>\n",
              "      <td>TV</td>\n",
              "      <td>Original</td>\n",
              "      <td>Action, Award Winning, Sci-Fi</td>\n",
              "      <td>24.0</td>\n",
              "      <td>8.75</td>\n",
              "    </tr>\n",
              "    <tr>\n",
              "      <th>1</th>\n",
              "      <td>5.0</td>\n",
              "      <td>Movie</td>\n",
              "      <td>Original</td>\n",
              "      <td>Action, Sci-Fi</td>\n",
              "      <td>115.0</td>\n",
              "      <td>8.38</td>\n",
              "    </tr>\n",
              "    <tr>\n",
              "      <th>2</th>\n",
              "      <td>6.0</td>\n",
              "      <td>TV</td>\n",
              "      <td>Manga</td>\n",
              "      <td>Action, Adventure, Sci-Fi</td>\n",
              "      <td>24.0</td>\n",
              "      <td>8.22</td>\n",
              "    </tr>\n",
              "    <tr>\n",
              "      <th>3</th>\n",
              "      <td>7.0</td>\n",
              "      <td>TV</td>\n",
              "      <td>Original</td>\n",
              "      <td>Action, Drama, Mystery, Supernatural</td>\n",
              "      <td>25.0</td>\n",
              "      <td>7.24</td>\n",
              "    </tr>\n",
              "    <tr>\n",
              "      <th>4</th>\n",
              "      <td>8.0</td>\n",
              "      <td>TV</td>\n",
              "      <td>Manga</td>\n",
              "      <td>Action, Adventure, Fantasy</td>\n",
              "      <td>23.0</td>\n",
              "      <td>6.93</td>\n",
              "    </tr>\n",
              "  </tbody>\n",
              "</table>\n",
              "</div>\n",
              "    <div class=\"colab-df-buttons\">\n",
              "\n",
              "  <div class=\"colab-df-container\">\n",
              "    <button class=\"colab-df-convert\" onclick=\"convertToInteractive('df-a47c6856-7c7d-4dd6-9b9f-16bb21ca589e')\"\n",
              "            title=\"Convert this dataframe to an interactive table.\"\n",
              "            style=\"display:none;\">\n",
              "\n",
              "  <svg xmlns=\"http://www.w3.org/2000/svg\" height=\"24px\" viewBox=\"0 -960 960 960\">\n",
              "    <path d=\"M120-120v-720h720v720H120Zm60-500h600v-160H180v160Zm220 220h160v-160H400v160Zm0 220h160v-160H400v160ZM180-400h160v-160H180v160Zm440 0h160v-160H620v160ZM180-180h160v-160H180v160Zm440 0h160v-160H620v160Z\"/>\n",
              "  </svg>\n",
              "    </button>\n",
              "\n",
              "  <style>\n",
              "    .colab-df-container {\n",
              "      display:flex;\n",
              "      gap: 12px;\n",
              "    }\n",
              "\n",
              "    .colab-df-convert {\n",
              "      background-color: #E8F0FE;\n",
              "      border: none;\n",
              "      border-radius: 50%;\n",
              "      cursor: pointer;\n",
              "      display: none;\n",
              "      fill: #1967D2;\n",
              "      height: 32px;\n",
              "      padding: 0 0 0 0;\n",
              "      width: 32px;\n",
              "    }\n",
              "\n",
              "    .colab-df-convert:hover {\n",
              "      background-color: #E2EBFA;\n",
              "      box-shadow: 0px 1px 2px rgba(60, 64, 67, 0.3), 0px 1px 3px 1px rgba(60, 64, 67, 0.15);\n",
              "      fill: #174EA6;\n",
              "    }\n",
              "\n",
              "    .colab-df-buttons div {\n",
              "      margin-bottom: 4px;\n",
              "    }\n",
              "\n",
              "    [theme=dark] .colab-df-convert {\n",
              "      background-color: #3B4455;\n",
              "      fill: #D2E3FC;\n",
              "    }\n",
              "\n",
              "    [theme=dark] .colab-df-convert:hover {\n",
              "      background-color: #434B5C;\n",
              "      box-shadow: 0px 1px 3px 1px rgba(0, 0, 0, 0.15);\n",
              "      filter: drop-shadow(0px 1px 2px rgba(0, 0, 0, 0.3));\n",
              "      fill: #FFFFFF;\n",
              "    }\n",
              "  </style>\n",
              "\n",
              "    <script>\n",
              "      const buttonEl =\n",
              "        document.querySelector('#df-a47c6856-7c7d-4dd6-9b9f-16bb21ca589e button.colab-df-convert');\n",
              "      buttonEl.style.display =\n",
              "        google.colab.kernel.accessAllowed ? 'block' : 'none';\n",
              "\n",
              "      async function convertToInteractive(key) {\n",
              "        const element = document.querySelector('#df-a47c6856-7c7d-4dd6-9b9f-16bb21ca589e');\n",
              "        const dataTable =\n",
              "          await google.colab.kernel.invokeFunction('convertToInteractive',\n",
              "                                                    [key], {});\n",
              "        if (!dataTable) return;\n",
              "\n",
              "        const docLinkHtml = 'Like what you see? Visit the ' +\n",
              "          '<a target=\"_blank\" href=https://colab.research.google.com/notebooks/data_table.ipynb>data table notebook</a>'\n",
              "          + ' to learn more about interactive tables.';\n",
              "        element.innerHTML = '';\n",
              "        dataTable['output_type'] = 'display_data';\n",
              "        await google.colab.output.renderOutput(dataTable, element);\n",
              "        const docLink = document.createElement('div');\n",
              "        docLink.innerHTML = docLinkHtml;\n",
              "        element.appendChild(docLink);\n",
              "      }\n",
              "    </script>\n",
              "  </div>\n",
              "\n",
              "\n",
              "<div id=\"df-9576eeca-58ca-4afa-93bb-e27d6390464b\">\n",
              "  <button class=\"colab-df-quickchart\" onclick=\"quickchart('df-9576eeca-58ca-4afa-93bb-e27d6390464b')\"\n",
              "            title=\"Suggest charts\"\n",
              "            style=\"display:none;\">\n",
              "\n",
              "<svg xmlns=\"http://www.w3.org/2000/svg\" height=\"24px\"viewBox=\"0 0 24 24\"\n",
              "     width=\"24px\">\n",
              "    <g>\n",
              "        <path d=\"M19 3H5c-1.1 0-2 .9-2 2v14c0 1.1.9 2 2 2h14c1.1 0 2-.9 2-2V5c0-1.1-.9-2-2-2zM9 17H7v-7h2v7zm4 0h-2V7h2v10zm4 0h-2v-4h2v4z\"/>\n",
              "    </g>\n",
              "</svg>\n",
              "  </button>\n",
              "\n",
              "<style>\n",
              "  .colab-df-quickchart {\n",
              "      --bg-color: #E8F0FE;\n",
              "      --fill-color: #1967D2;\n",
              "      --hover-bg-color: #E2EBFA;\n",
              "      --hover-fill-color: #174EA6;\n",
              "      --disabled-fill-color: #AAA;\n",
              "      --disabled-bg-color: #DDD;\n",
              "  }\n",
              "\n",
              "  [theme=dark] .colab-df-quickchart {\n",
              "      --bg-color: #3B4455;\n",
              "      --fill-color: #D2E3FC;\n",
              "      --hover-bg-color: #434B5C;\n",
              "      --hover-fill-color: #FFFFFF;\n",
              "      --disabled-bg-color: #3B4455;\n",
              "      --disabled-fill-color: #666;\n",
              "  }\n",
              "\n",
              "  .colab-df-quickchart {\n",
              "    background-color: var(--bg-color);\n",
              "    border: none;\n",
              "    border-radius: 50%;\n",
              "    cursor: pointer;\n",
              "    display: none;\n",
              "    fill: var(--fill-color);\n",
              "    height: 32px;\n",
              "    padding: 0;\n",
              "    width: 32px;\n",
              "  }\n",
              "\n",
              "  .colab-df-quickchart:hover {\n",
              "    background-color: var(--hover-bg-color);\n",
              "    box-shadow: 0 1px 2px rgba(60, 64, 67, 0.3), 0 1px 3px 1px rgba(60, 64, 67, 0.15);\n",
              "    fill: var(--button-hover-fill-color);\n",
              "  }\n",
              "\n",
              "  .colab-df-quickchart-complete:disabled,\n",
              "  .colab-df-quickchart-complete:disabled:hover {\n",
              "    background-color: var(--disabled-bg-color);\n",
              "    fill: var(--disabled-fill-color);\n",
              "    box-shadow: none;\n",
              "  }\n",
              "\n",
              "  .colab-df-spinner {\n",
              "    border: 2px solid var(--fill-color);\n",
              "    border-color: transparent;\n",
              "    border-bottom-color: var(--fill-color);\n",
              "    animation:\n",
              "      spin 1s steps(1) infinite;\n",
              "  }\n",
              "\n",
              "  @keyframes spin {\n",
              "    0% {\n",
              "      border-color: transparent;\n",
              "      border-bottom-color: var(--fill-color);\n",
              "      border-left-color: var(--fill-color);\n",
              "    }\n",
              "    20% {\n",
              "      border-color: transparent;\n",
              "      border-left-color: var(--fill-color);\n",
              "      border-top-color: var(--fill-color);\n",
              "    }\n",
              "    30% {\n",
              "      border-color: transparent;\n",
              "      border-left-color: var(--fill-color);\n",
              "      border-top-color: var(--fill-color);\n",
              "      border-right-color: var(--fill-color);\n",
              "    }\n",
              "    40% {\n",
              "      border-color: transparent;\n",
              "      border-right-color: var(--fill-color);\n",
              "      border-top-color: var(--fill-color);\n",
              "    }\n",
              "    60% {\n",
              "      border-color: transparent;\n",
              "      border-right-color: var(--fill-color);\n",
              "    }\n",
              "    80% {\n",
              "      border-color: transparent;\n",
              "      border-right-color: var(--fill-color);\n",
              "      border-bottom-color: var(--fill-color);\n",
              "    }\n",
              "    90% {\n",
              "      border-color: transparent;\n",
              "      border-bottom-color: var(--fill-color);\n",
              "    }\n",
              "  }\n",
              "</style>\n",
              "\n",
              "  <script>\n",
              "    async function quickchart(key) {\n",
              "      const quickchartButtonEl =\n",
              "        document.querySelector('#' + key + ' button');\n",
              "      quickchartButtonEl.disabled = true;  // To prevent multiple clicks.\n",
              "      quickchartButtonEl.classList.add('colab-df-spinner');\n",
              "      try {\n",
              "        const charts = await google.colab.kernel.invokeFunction(\n",
              "            'suggestCharts', [key], {});\n",
              "      } catch (error) {\n",
              "        console.error('Error during call to suggestCharts:', error);\n",
              "      }\n",
              "      quickchartButtonEl.classList.remove('colab-df-spinner');\n",
              "      quickchartButtonEl.classList.add('colab-df-quickchart-complete');\n",
              "    }\n",
              "    (() => {\n",
              "      let quickchartButtonEl =\n",
              "        document.querySelector('#df-9576eeca-58ca-4afa-93bb-e27d6390464b button');\n",
              "      quickchartButtonEl.style.display =\n",
              "        google.colab.kernel.accessAllowed ? 'block' : 'none';\n",
              "    })();\n",
              "  </script>\n",
              "</div>\n",
              "\n",
              "    </div>\n",
              "  </div>\n"
            ],
            "application/vnd.google.colaboratory.intrinsic+json": {
              "type": "dataframe",
              "variable_name": "df",
              "summary": "{\n  \"name\": \"df\",\n  \"rows\": 8392,\n  \"fields\": [\n    {\n      \"column\": \"ID\",\n      \"properties\": {\n        \"dtype\": \"number\",\n        \"std\": 18426.25854513905,\n        \"min\": 1.0,\n        \"max\": 57160.0,\n        \"num_unique_values\": 8392,\n        \"samples\": [\n          6024.0,\n          30714.0,\n          2768.0\n        ],\n        \"semantic_type\": \"\",\n        \"description\": \"\"\n      }\n    },\n    {\n      \"column\": \"Type\",\n      \"properties\": {\n        \"dtype\": \"category\",\n        \"num_unique_values\": 9,\n        \"samples\": [\n          \"PV\",\n          \"Movie\",\n          \"ONA\"\n        ],\n        \"semantic_type\": \"\",\n        \"description\": \"\"\n      }\n    },\n    {\n      \"column\": \"Source\",\n      \"properties\": {\n        \"dtype\": \"category\",\n        \"num_unique_values\": 16,\n        \"samples\": [\n          \"Original\",\n          \"Manga\",\n          \"Novel\"\n        ],\n        \"semantic_type\": \"\",\n        \"description\": \"\"\n      }\n    },\n    {\n      \"column\": \"Genres\",\n      \"properties\": {\n        \"dtype\": \"category\",\n        \"num_unique_values\": 886,\n        \"samples\": [\n          \"Action, Drama, Romance, Sci-Fi\",\n          \"Slice of Life, Supernatural\",\n          \"Action, Fantasy, Romance, Suspense\"\n        ],\n        \"semantic_type\": \"\",\n        \"description\": \"\"\n      }\n    },\n    {\n      \"column\": \"Duration (mins)\",\n      \"properties\": {\n        \"dtype\": \"number\",\n        \"std\": 26.918467205027827,\n        \"min\": 0.17,\n        \"max\": 168.0,\n        \"num_unique_values\": 179,\n        \"samples\": [\n          8.0,\n          120.0,\n          92.0\n        ],\n        \"semantic_type\": \"\",\n        \"description\": \"\"\n      }\n    },\n    {\n      \"column\": \"Score\",\n      \"properties\": {\n        \"dtype\": \"number\",\n        \"std\": 0.8533040378307257,\n        \"min\": 2.0,\n        \"max\": 9.32,\n        \"num_unique_values\": 508,\n        \"samples\": [\n          6.74,\n          5.01,\n          8.39\n        ],\n        \"semantic_type\": \"\",\n        \"description\": \"\"\n      }\n    }\n  ]\n}"
            }
          },
          "metadata": {},
          "execution_count": 9
        }
      ],
      "source": [
        "df.head()"
      ]
    },
    {
      "cell_type": "markdown",
      "source": [
        "One-hot encoding cho thuộc tính Genres\n",
        "\n",
        "Label Encoder cho Source"
      ],
      "metadata": {
        "id": "fOn3c6eT5PSq"
      },
      "id": "fOn3c6eT5PSq"
    },
    {
      "cell_type": "code",
      "execution_count": null,
      "id": "8e2312fd",
      "metadata": {
        "id": "8e2312fd"
      },
      "outputs": [],
      "source": [
        "df['Source'] = df['Source'].astype('category').cat.codes\n",
        "df['Type'] = df['Type'].astype('category').cat.codes\n",
        "\n",
        "for col in ['Genres']:\n",
        "    df[col] = df[col].fillna(\"\").apply(lambda x: [i.strip() for i in x.split(',') if i.strip()])\n",
        "    ohe_df = pd.get_dummies(df[col].apply(pd.Series).stack()).groupby(level=0).sum()\n",
        "    df = pd.concat([df, ohe_df], axis=1)\n",
        "\n",
        "# Xóa các cột ban đầu nếu không cần thiết\n",
        "df = df.drop(columns=['Genres'])\n",
        "\n",
        "# Chuẩn bị dữ liệu cho mô hình\n",
        "X = df.drop(columns=['ID', 'Score'])\n",
        "y = df['Score']"
      ]
    },
    {
      "cell_type": "code",
      "source": [
        "X"
      ],
      "metadata": {
        "colab": {
          "base_uri": "https://localhost:8080/",
          "height": 440
        },
        "id": "OJHQNwngXz9O",
        "outputId": "98e3c3bc-74aa-4f00-e09b-e6a0a9197a0b"
      },
      "id": "OJHQNwngXz9O",
      "execution_count": null,
      "outputs": [
        {
          "output_type": "execute_result",
          "data": {
            "text/plain": [
              "       Type  Source  Duration (mins)  Action  Adventure  Avant Garde  \\\n",
              "0         7       9             24.0       1          0            0   \n",
              "1         1       9            115.0       1          0            0   \n",
              "2         7       5             24.0       1          1            0   \n",
              "3         7       9             25.0       1          0            0   \n",
              "4         7       5             23.0       1          1            0   \n",
              "...     ...     ...              ...     ...        ...          ...   \n",
              "16925     3      15             19.0       1          1            0   \n",
              "16926     3       5             17.0       0          0            0   \n",
              "16928     7       4             23.0       1          1            0   \n",
              "16929     7      14             10.0       0          0            0   \n",
              "16931     3       5             24.0       1          1            0   \n",
              "\n",
              "       Award Winning  Boys Love  Comedy  Drama  ...  Gourmet  Hentai  Horror  \\\n",
              "0                  1          0       0      0  ...        0       0       0   \n",
              "1                  0          0       0      0  ...        0       0       0   \n",
              "2                  0          0       0      0  ...        0       0       0   \n",
              "3                  0          0       0      1  ...        0       0       0   \n",
              "4                  0          0       0      0  ...        0       0       0   \n",
              "...              ...        ...     ...    ...  ...      ...     ...     ...   \n",
              "16925              0          0       0      0  ...        0       0       0   \n",
              "16926              0          0       0      0  ...        0       0       0   \n",
              "16928              0          0       0      0  ...        0       0       0   \n",
              "16929              0          0       1      0  ...        0       0       0   \n",
              "16931              0          0       0      0  ...        0       0       0   \n",
              "\n",
              "       Mystery  Romance  Sci-Fi  Slice of Life  Sports  Supernatural  Suspense  \n",
              "0            0        0       1              0       0             0         0  \n",
              "1            0        0       1              0       0             0         0  \n",
              "2            0        0       1              0       0             0         0  \n",
              "3            1        0       0              0       0             1         0  \n",
              "4            0        0       0              0       0             0         0  \n",
              "...        ...      ...     ...            ...     ...           ...       ...  \n",
              "16925        0        0       0              0       0             0         0  \n",
              "16926        0        1       0              0       0             0         0  \n",
              "16928        0        0       0              0       0             0         0  \n",
              "16929        0        0       0              0       0             1         0  \n",
              "16931        0        0       0              0       0             0         0  \n",
              "\n",
              "[8392 rows x 24 columns]"
            ],
            "text/html": [
              "\n",
              "  <div id=\"df-617e6990-0fa7-4017-8af9-9f4d6a173e47\" class=\"colab-df-container\">\n",
              "    <div>\n",
              "<style scoped>\n",
              "    .dataframe tbody tr th:only-of-type {\n",
              "        vertical-align: middle;\n",
              "    }\n",
              "\n",
              "    .dataframe tbody tr th {\n",
              "        vertical-align: top;\n",
              "    }\n",
              "\n",
              "    .dataframe thead th {\n",
              "        text-align: right;\n",
              "    }\n",
              "</style>\n",
              "<table border=\"1\" class=\"dataframe\">\n",
              "  <thead>\n",
              "    <tr style=\"text-align: right;\">\n",
              "      <th></th>\n",
              "      <th>Type</th>\n",
              "      <th>Source</th>\n",
              "      <th>Duration (mins)</th>\n",
              "      <th>Action</th>\n",
              "      <th>Adventure</th>\n",
              "      <th>Avant Garde</th>\n",
              "      <th>Award Winning</th>\n",
              "      <th>Boys Love</th>\n",
              "      <th>Comedy</th>\n",
              "      <th>Drama</th>\n",
              "      <th>...</th>\n",
              "      <th>Gourmet</th>\n",
              "      <th>Hentai</th>\n",
              "      <th>Horror</th>\n",
              "      <th>Mystery</th>\n",
              "      <th>Romance</th>\n",
              "      <th>Sci-Fi</th>\n",
              "      <th>Slice of Life</th>\n",
              "      <th>Sports</th>\n",
              "      <th>Supernatural</th>\n",
              "      <th>Suspense</th>\n",
              "    </tr>\n",
              "  </thead>\n",
              "  <tbody>\n",
              "    <tr>\n",
              "      <th>0</th>\n",
              "      <td>7</td>\n",
              "      <td>9</td>\n",
              "      <td>24.0</td>\n",
              "      <td>1</td>\n",
              "      <td>0</td>\n",
              "      <td>0</td>\n",
              "      <td>1</td>\n",
              "      <td>0</td>\n",
              "      <td>0</td>\n",
              "      <td>0</td>\n",
              "      <td>...</td>\n",
              "      <td>0</td>\n",
              "      <td>0</td>\n",
              "      <td>0</td>\n",
              "      <td>0</td>\n",
              "      <td>0</td>\n",
              "      <td>1</td>\n",
              "      <td>0</td>\n",
              "      <td>0</td>\n",
              "      <td>0</td>\n",
              "      <td>0</td>\n",
              "    </tr>\n",
              "    <tr>\n",
              "      <th>1</th>\n",
              "      <td>1</td>\n",
              "      <td>9</td>\n",
              "      <td>115.0</td>\n",
              "      <td>1</td>\n",
              "      <td>0</td>\n",
              "      <td>0</td>\n",
              "      <td>0</td>\n",
              "      <td>0</td>\n",
              "      <td>0</td>\n",
              "      <td>0</td>\n",
              "      <td>...</td>\n",
              "      <td>0</td>\n",
              "      <td>0</td>\n",
              "      <td>0</td>\n",
              "      <td>0</td>\n",
              "      <td>0</td>\n",
              "      <td>1</td>\n",
              "      <td>0</td>\n",
              "      <td>0</td>\n",
              "      <td>0</td>\n",
              "      <td>0</td>\n",
              "    </tr>\n",
              "    <tr>\n",
              "      <th>2</th>\n",
              "      <td>7</td>\n",
              "      <td>5</td>\n",
              "      <td>24.0</td>\n",
              "      <td>1</td>\n",
              "      <td>1</td>\n",
              "      <td>0</td>\n",
              "      <td>0</td>\n",
              "      <td>0</td>\n",
              "      <td>0</td>\n",
              "      <td>0</td>\n",
              "      <td>...</td>\n",
              "      <td>0</td>\n",
              "      <td>0</td>\n",
              "      <td>0</td>\n",
              "      <td>0</td>\n",
              "      <td>0</td>\n",
              "      <td>1</td>\n",
              "      <td>0</td>\n",
              "      <td>0</td>\n",
              "      <td>0</td>\n",
              "      <td>0</td>\n",
              "    </tr>\n",
              "    <tr>\n",
              "      <th>3</th>\n",
              "      <td>7</td>\n",
              "      <td>9</td>\n",
              "      <td>25.0</td>\n",
              "      <td>1</td>\n",
              "      <td>0</td>\n",
              "      <td>0</td>\n",
              "      <td>0</td>\n",
              "      <td>0</td>\n",
              "      <td>0</td>\n",
              "      <td>1</td>\n",
              "      <td>...</td>\n",
              "      <td>0</td>\n",
              "      <td>0</td>\n",
              "      <td>0</td>\n",
              "      <td>1</td>\n",
              "      <td>0</td>\n",
              "      <td>0</td>\n",
              "      <td>0</td>\n",
              "      <td>0</td>\n",
              "      <td>1</td>\n",
              "      <td>0</td>\n",
              "    </tr>\n",
              "    <tr>\n",
              "      <th>4</th>\n",
              "      <td>7</td>\n",
              "      <td>5</td>\n",
              "      <td>23.0</td>\n",
              "      <td>1</td>\n",
              "      <td>1</td>\n",
              "      <td>0</td>\n",
              "      <td>0</td>\n",
              "      <td>0</td>\n",
              "      <td>0</td>\n",
              "      <td>0</td>\n",
              "      <td>...</td>\n",
              "      <td>0</td>\n",
              "      <td>0</td>\n",
              "      <td>0</td>\n",
              "      <td>0</td>\n",
              "      <td>0</td>\n",
              "      <td>0</td>\n",
              "      <td>0</td>\n",
              "      <td>0</td>\n",
              "      <td>0</td>\n",
              "      <td>0</td>\n",
              "    </tr>\n",
              "    <tr>\n",
              "      <th>...</th>\n",
              "      <td>...</td>\n",
              "      <td>...</td>\n",
              "      <td>...</td>\n",
              "      <td>...</td>\n",
              "      <td>...</td>\n",
              "      <td>...</td>\n",
              "      <td>...</td>\n",
              "      <td>...</td>\n",
              "      <td>...</td>\n",
              "      <td>...</td>\n",
              "      <td>...</td>\n",
              "      <td>...</td>\n",
              "      <td>...</td>\n",
              "      <td>...</td>\n",
              "      <td>...</td>\n",
              "      <td>...</td>\n",
              "      <td>...</td>\n",
              "      <td>...</td>\n",
              "      <td>...</td>\n",
              "      <td>...</td>\n",
              "      <td>...</td>\n",
              "    </tr>\n",
              "    <tr>\n",
              "      <th>16925</th>\n",
              "      <td>3</td>\n",
              "      <td>15</td>\n",
              "      <td>19.0</td>\n",
              "      <td>1</td>\n",
              "      <td>1</td>\n",
              "      <td>0</td>\n",
              "      <td>0</td>\n",
              "      <td>0</td>\n",
              "      <td>0</td>\n",
              "      <td>0</td>\n",
              "      <td>...</td>\n",
              "      <td>0</td>\n",
              "      <td>0</td>\n",
              "      <td>0</td>\n",
              "      <td>0</td>\n",
              "      <td>0</td>\n",
              "      <td>0</td>\n",
              "      <td>0</td>\n",
              "      <td>0</td>\n",
              "      <td>0</td>\n",
              "      <td>0</td>\n",
              "    </tr>\n",
              "    <tr>\n",
              "      <th>16926</th>\n",
              "      <td>3</td>\n",
              "      <td>5</td>\n",
              "      <td>17.0</td>\n",
              "      <td>0</td>\n",
              "      <td>0</td>\n",
              "      <td>0</td>\n",
              "      <td>0</td>\n",
              "      <td>0</td>\n",
              "      <td>0</td>\n",
              "      <td>0</td>\n",
              "      <td>...</td>\n",
              "      <td>0</td>\n",
              "      <td>0</td>\n",
              "      <td>0</td>\n",
              "      <td>0</td>\n",
              "      <td>1</td>\n",
              "      <td>0</td>\n",
              "      <td>0</td>\n",
              "      <td>0</td>\n",
              "      <td>0</td>\n",
              "      <td>0</td>\n",
              "    </tr>\n",
              "    <tr>\n",
              "      <th>16928</th>\n",
              "      <td>7</td>\n",
              "      <td>4</td>\n",
              "      <td>23.0</td>\n",
              "      <td>1</td>\n",
              "      <td>1</td>\n",
              "      <td>0</td>\n",
              "      <td>0</td>\n",
              "      <td>0</td>\n",
              "      <td>0</td>\n",
              "      <td>0</td>\n",
              "      <td>...</td>\n",
              "      <td>0</td>\n",
              "      <td>0</td>\n",
              "      <td>0</td>\n",
              "      <td>0</td>\n",
              "      <td>0</td>\n",
              "      <td>0</td>\n",
              "      <td>0</td>\n",
              "      <td>0</td>\n",
              "      <td>0</td>\n",
              "      <td>0</td>\n",
              "    </tr>\n",
              "    <tr>\n",
              "      <th>16929</th>\n",
              "      <td>7</td>\n",
              "      <td>14</td>\n",
              "      <td>10.0</td>\n",
              "      <td>0</td>\n",
              "      <td>0</td>\n",
              "      <td>0</td>\n",
              "      <td>0</td>\n",
              "      <td>0</td>\n",
              "      <td>1</td>\n",
              "      <td>0</td>\n",
              "      <td>...</td>\n",
              "      <td>0</td>\n",
              "      <td>0</td>\n",
              "      <td>0</td>\n",
              "      <td>0</td>\n",
              "      <td>0</td>\n",
              "      <td>0</td>\n",
              "      <td>0</td>\n",
              "      <td>0</td>\n",
              "      <td>1</td>\n",
              "      <td>0</td>\n",
              "    </tr>\n",
              "    <tr>\n",
              "      <th>16931</th>\n",
              "      <td>3</td>\n",
              "      <td>5</td>\n",
              "      <td>24.0</td>\n",
              "      <td>1</td>\n",
              "      <td>1</td>\n",
              "      <td>0</td>\n",
              "      <td>0</td>\n",
              "      <td>0</td>\n",
              "      <td>0</td>\n",
              "      <td>0</td>\n",
              "      <td>...</td>\n",
              "      <td>0</td>\n",
              "      <td>0</td>\n",
              "      <td>0</td>\n",
              "      <td>0</td>\n",
              "      <td>0</td>\n",
              "      <td>0</td>\n",
              "      <td>0</td>\n",
              "      <td>0</td>\n",
              "      <td>0</td>\n",
              "      <td>0</td>\n",
              "    </tr>\n",
              "  </tbody>\n",
              "</table>\n",
              "<p>8392 rows × 24 columns</p>\n",
              "</div>\n",
              "    <div class=\"colab-df-buttons\">\n",
              "\n",
              "  <div class=\"colab-df-container\">\n",
              "    <button class=\"colab-df-convert\" onclick=\"convertToInteractive('df-617e6990-0fa7-4017-8af9-9f4d6a173e47')\"\n",
              "            title=\"Convert this dataframe to an interactive table.\"\n",
              "            style=\"display:none;\">\n",
              "\n",
              "  <svg xmlns=\"http://www.w3.org/2000/svg\" height=\"24px\" viewBox=\"0 -960 960 960\">\n",
              "    <path d=\"M120-120v-720h720v720H120Zm60-500h600v-160H180v160Zm220 220h160v-160H400v160Zm0 220h160v-160H400v160ZM180-400h160v-160H180v160Zm440 0h160v-160H620v160ZM180-180h160v-160H180v160Zm440 0h160v-160H620v160Z\"/>\n",
              "  </svg>\n",
              "    </button>\n",
              "\n",
              "  <style>\n",
              "    .colab-df-container {\n",
              "      display:flex;\n",
              "      gap: 12px;\n",
              "    }\n",
              "\n",
              "    .colab-df-convert {\n",
              "      background-color: #E8F0FE;\n",
              "      border: none;\n",
              "      border-radius: 50%;\n",
              "      cursor: pointer;\n",
              "      display: none;\n",
              "      fill: #1967D2;\n",
              "      height: 32px;\n",
              "      padding: 0 0 0 0;\n",
              "      width: 32px;\n",
              "    }\n",
              "\n",
              "    .colab-df-convert:hover {\n",
              "      background-color: #E2EBFA;\n",
              "      box-shadow: 0px 1px 2px rgba(60, 64, 67, 0.3), 0px 1px 3px 1px rgba(60, 64, 67, 0.15);\n",
              "      fill: #174EA6;\n",
              "    }\n",
              "\n",
              "    .colab-df-buttons div {\n",
              "      margin-bottom: 4px;\n",
              "    }\n",
              "\n",
              "    [theme=dark] .colab-df-convert {\n",
              "      background-color: #3B4455;\n",
              "      fill: #D2E3FC;\n",
              "    }\n",
              "\n",
              "    [theme=dark] .colab-df-convert:hover {\n",
              "      background-color: #434B5C;\n",
              "      box-shadow: 0px 1px 3px 1px rgba(0, 0, 0, 0.15);\n",
              "      filter: drop-shadow(0px 1px 2px rgba(0, 0, 0, 0.3));\n",
              "      fill: #FFFFFF;\n",
              "    }\n",
              "  </style>\n",
              "\n",
              "    <script>\n",
              "      const buttonEl =\n",
              "        document.querySelector('#df-617e6990-0fa7-4017-8af9-9f4d6a173e47 button.colab-df-convert');\n",
              "      buttonEl.style.display =\n",
              "        google.colab.kernel.accessAllowed ? 'block' : 'none';\n",
              "\n",
              "      async function convertToInteractive(key) {\n",
              "        const element = document.querySelector('#df-617e6990-0fa7-4017-8af9-9f4d6a173e47');\n",
              "        const dataTable =\n",
              "          await google.colab.kernel.invokeFunction('convertToInteractive',\n",
              "                                                    [key], {});\n",
              "        if (!dataTable) return;\n",
              "\n",
              "        const docLinkHtml = 'Like what you see? Visit the ' +\n",
              "          '<a target=\"_blank\" href=https://colab.research.google.com/notebooks/data_table.ipynb>data table notebook</a>'\n",
              "          + ' to learn more about interactive tables.';\n",
              "        element.innerHTML = '';\n",
              "        dataTable['output_type'] = 'display_data';\n",
              "        await google.colab.output.renderOutput(dataTable, element);\n",
              "        const docLink = document.createElement('div');\n",
              "        docLink.innerHTML = docLinkHtml;\n",
              "        element.appendChild(docLink);\n",
              "      }\n",
              "    </script>\n",
              "  </div>\n",
              "\n",
              "\n",
              "<div id=\"df-61118337-f196-4780-9821-f893cabd108a\">\n",
              "  <button class=\"colab-df-quickchart\" onclick=\"quickchart('df-61118337-f196-4780-9821-f893cabd108a')\"\n",
              "            title=\"Suggest charts\"\n",
              "            style=\"display:none;\">\n",
              "\n",
              "<svg xmlns=\"http://www.w3.org/2000/svg\" height=\"24px\"viewBox=\"0 0 24 24\"\n",
              "     width=\"24px\">\n",
              "    <g>\n",
              "        <path d=\"M19 3H5c-1.1 0-2 .9-2 2v14c0 1.1.9 2 2 2h14c1.1 0 2-.9 2-2V5c0-1.1-.9-2-2-2zM9 17H7v-7h2v7zm4 0h-2V7h2v10zm4 0h-2v-4h2v4z\"/>\n",
              "    </g>\n",
              "</svg>\n",
              "  </button>\n",
              "\n",
              "<style>\n",
              "  .colab-df-quickchart {\n",
              "      --bg-color: #E8F0FE;\n",
              "      --fill-color: #1967D2;\n",
              "      --hover-bg-color: #E2EBFA;\n",
              "      --hover-fill-color: #174EA6;\n",
              "      --disabled-fill-color: #AAA;\n",
              "      --disabled-bg-color: #DDD;\n",
              "  }\n",
              "\n",
              "  [theme=dark] .colab-df-quickchart {\n",
              "      --bg-color: #3B4455;\n",
              "      --fill-color: #D2E3FC;\n",
              "      --hover-bg-color: #434B5C;\n",
              "      --hover-fill-color: #FFFFFF;\n",
              "      --disabled-bg-color: #3B4455;\n",
              "      --disabled-fill-color: #666;\n",
              "  }\n",
              "\n",
              "  .colab-df-quickchart {\n",
              "    background-color: var(--bg-color);\n",
              "    border: none;\n",
              "    border-radius: 50%;\n",
              "    cursor: pointer;\n",
              "    display: none;\n",
              "    fill: var(--fill-color);\n",
              "    height: 32px;\n",
              "    padding: 0;\n",
              "    width: 32px;\n",
              "  }\n",
              "\n",
              "  .colab-df-quickchart:hover {\n",
              "    background-color: var(--hover-bg-color);\n",
              "    box-shadow: 0 1px 2px rgba(60, 64, 67, 0.3), 0 1px 3px 1px rgba(60, 64, 67, 0.15);\n",
              "    fill: var(--button-hover-fill-color);\n",
              "  }\n",
              "\n",
              "  .colab-df-quickchart-complete:disabled,\n",
              "  .colab-df-quickchart-complete:disabled:hover {\n",
              "    background-color: var(--disabled-bg-color);\n",
              "    fill: var(--disabled-fill-color);\n",
              "    box-shadow: none;\n",
              "  }\n",
              "\n",
              "  .colab-df-spinner {\n",
              "    border: 2px solid var(--fill-color);\n",
              "    border-color: transparent;\n",
              "    border-bottom-color: var(--fill-color);\n",
              "    animation:\n",
              "      spin 1s steps(1) infinite;\n",
              "  }\n",
              "\n",
              "  @keyframes spin {\n",
              "    0% {\n",
              "      border-color: transparent;\n",
              "      border-bottom-color: var(--fill-color);\n",
              "      border-left-color: var(--fill-color);\n",
              "    }\n",
              "    20% {\n",
              "      border-color: transparent;\n",
              "      border-left-color: var(--fill-color);\n",
              "      border-top-color: var(--fill-color);\n",
              "    }\n",
              "    30% {\n",
              "      border-color: transparent;\n",
              "      border-left-color: var(--fill-color);\n",
              "      border-top-color: var(--fill-color);\n",
              "      border-right-color: var(--fill-color);\n",
              "    }\n",
              "    40% {\n",
              "      border-color: transparent;\n",
              "      border-right-color: var(--fill-color);\n",
              "      border-top-color: var(--fill-color);\n",
              "    }\n",
              "    60% {\n",
              "      border-color: transparent;\n",
              "      border-right-color: var(--fill-color);\n",
              "    }\n",
              "    80% {\n",
              "      border-color: transparent;\n",
              "      border-right-color: var(--fill-color);\n",
              "      border-bottom-color: var(--fill-color);\n",
              "    }\n",
              "    90% {\n",
              "      border-color: transparent;\n",
              "      border-bottom-color: var(--fill-color);\n",
              "    }\n",
              "  }\n",
              "</style>\n",
              "\n",
              "  <script>\n",
              "    async function quickchart(key) {\n",
              "      const quickchartButtonEl =\n",
              "        document.querySelector('#' + key + ' button');\n",
              "      quickchartButtonEl.disabled = true;  // To prevent multiple clicks.\n",
              "      quickchartButtonEl.classList.add('colab-df-spinner');\n",
              "      try {\n",
              "        const charts = await google.colab.kernel.invokeFunction(\n",
              "            'suggestCharts', [key], {});\n",
              "      } catch (error) {\n",
              "        console.error('Error during call to suggestCharts:', error);\n",
              "      }\n",
              "      quickchartButtonEl.classList.remove('colab-df-spinner');\n",
              "      quickchartButtonEl.classList.add('colab-df-quickchart-complete');\n",
              "    }\n",
              "    (() => {\n",
              "      let quickchartButtonEl =\n",
              "        document.querySelector('#df-61118337-f196-4780-9821-f893cabd108a button');\n",
              "      quickchartButtonEl.style.display =\n",
              "        google.colab.kernel.accessAllowed ? 'block' : 'none';\n",
              "    })();\n",
              "  </script>\n",
              "</div>\n",
              "\n",
              "  <div id=\"id_694949c2-f2f7-4f4f-8a38-605cee295830\">\n",
              "    <style>\n",
              "      .colab-df-generate {\n",
              "        background-color: #E8F0FE;\n",
              "        border: none;\n",
              "        border-radius: 50%;\n",
              "        cursor: pointer;\n",
              "        display: none;\n",
              "        fill: #1967D2;\n",
              "        height: 32px;\n",
              "        padding: 0 0 0 0;\n",
              "        width: 32px;\n",
              "      }\n",
              "\n",
              "      .colab-df-generate:hover {\n",
              "        background-color: #E2EBFA;\n",
              "        box-shadow: 0px 1px 2px rgba(60, 64, 67, 0.3), 0px 1px 3px 1px rgba(60, 64, 67, 0.15);\n",
              "        fill: #174EA6;\n",
              "      }\n",
              "\n",
              "      [theme=dark] .colab-df-generate {\n",
              "        background-color: #3B4455;\n",
              "        fill: #D2E3FC;\n",
              "      }\n",
              "\n",
              "      [theme=dark] .colab-df-generate:hover {\n",
              "        background-color: #434B5C;\n",
              "        box-shadow: 0px 1px 3px 1px rgba(0, 0, 0, 0.15);\n",
              "        filter: drop-shadow(0px 1px 2px rgba(0, 0, 0, 0.3));\n",
              "        fill: #FFFFFF;\n",
              "      }\n",
              "    </style>\n",
              "    <button class=\"colab-df-generate\" onclick=\"generateWithVariable('X')\"\n",
              "            title=\"Generate code using this dataframe.\"\n",
              "            style=\"display:none;\">\n",
              "\n",
              "  <svg xmlns=\"http://www.w3.org/2000/svg\" height=\"24px\"viewBox=\"0 0 24 24\"\n",
              "       width=\"24px\">\n",
              "    <path d=\"M7,19H8.4L18.45,9,17,7.55,7,17.6ZM5,21V16.75L18.45,3.32a2,2,0,0,1,2.83,0l1.4,1.43a1.91,1.91,0,0,1,.58,1.4,1.91,1.91,0,0,1-.58,1.4L9.25,21ZM18.45,9,17,7.55Zm-12,3A5.31,5.31,0,0,0,4.9,8.1,5.31,5.31,0,0,0,1,6.5,5.31,5.31,0,0,0,4.9,4.9,5.31,5.31,0,0,0,6.5,1,5.31,5.31,0,0,0,8.1,4.9,5.31,5.31,0,0,0,12,6.5,5.46,5.46,0,0,0,6.5,12Z\"/>\n",
              "  </svg>\n",
              "    </button>\n",
              "    <script>\n",
              "      (() => {\n",
              "      const buttonEl =\n",
              "        document.querySelector('#id_694949c2-f2f7-4f4f-8a38-605cee295830 button.colab-df-generate');\n",
              "      buttonEl.style.display =\n",
              "        google.colab.kernel.accessAllowed ? 'block' : 'none';\n",
              "\n",
              "      buttonEl.onclick = () => {\n",
              "        google.colab.notebook.generateWithVariable('X');\n",
              "      }\n",
              "      })();\n",
              "    </script>\n",
              "  </div>\n",
              "\n",
              "    </div>\n",
              "  </div>\n"
            ],
            "application/vnd.google.colaboratory.intrinsic+json": {
              "type": "dataframe",
              "variable_name": "X"
            }
          },
          "metadata": {},
          "execution_count": 11
        }
      ]
    },
    {
      "cell_type": "markdown",
      "source": [
        "# Kiểm tra phân phối dữ liệu"
      ],
      "metadata": {
        "id": "g89TQXbe2Ro6"
      },
      "id": "g89TQXbe2Ro6"
    },
    {
      "cell_type": "code",
      "source": [
        "print(y.describe())"
      ],
      "metadata": {
        "colab": {
          "base_uri": "https://localhost:8080/"
        },
        "id": "JpOjKe0_0dQf",
        "outputId": "e5deeabb-cf08-47f5-a6c4-f8818b5ee34e"
      },
      "id": "JpOjKe0_0dQf",
      "execution_count": null,
      "outputs": [
        {
          "output_type": "stream",
          "name": "stdout",
          "text": [
            "count    8392.000000\n",
            "mean        6.689608\n",
            "std         0.853304\n",
            "min         2.000000\n",
            "25%         6.140000\n",
            "50%         6.700000\n",
            "75%         7.270000\n",
            "max         9.320000\n",
            "Name: Score, dtype: float64\n"
          ]
        }
      ]
    },
    {
      "cell_type": "code",
      "source": [
        "# Vẽ biểu đồ histogram\n",
        "y.plot(kind='hist', bins=20, edgecolor='black')\n",
        "plt.title('Phân phối điểm Anime')\n",
        "plt.xlabel('Điểm')\n",
        "plt.ylabel('Tần suất')\n",
        "plt.show()\n"
      ],
      "metadata": {
        "colab": {
          "base_uri": "https://localhost:8080/"
        },
        "id": "JgV5DrX8zym1",
        "outputId": "5fb3e76f-e2aa-4016-a389-403220c4765d"
      },
      "id": "JgV5DrX8zym1",
      "execution_count": null,
      "outputs": [
        {
          "output_type": "display_data",
          "data": {
            "text/plain": [
              "<Figure size 640x480 with 1 Axes>"
            ],
            "image/png": "[encoded data removed]"
          },
          "metadata": {}
        }
      ]
    },
    {
      "cell_type": "code",
      "source": [
        "from scipy.stats import skew\n",
        "\n",
        "# Tính skewness\n",
        "skewness = skew(y)\n",
        "print(f\"Skewness: {skewness}\")"
      ],
      "metadata": {
        "colab": {
          "base_uri": "https://localhost:8080/"
        },
        "id": "Jat_Wk90044m",
        "outputId": "61c3ad45-cba4-4066-c834-8f5a45db5c92"
      },
      "id": "Jat_Wk90044m",
      "execution_count": null,
      "outputs": [
        {
          "output_type": "stream",
          "name": "stdout",
          "text": [
            "Skewness: -0.32843227715505796\n"
          ]
        }
      ]
    },
    {
      "cell_type": "code",
      "source": [
        "y.plot(kind='box')\n",
        "plt.title('Boxplot of Anime Ratings')\n",
        "plt.show()"
      ],
      "metadata": {
        "colab": {
          "base_uri": "https://localhost:8080/"
        },
        "id": "bc-1qOUV1JjC",
        "outputId": "3c897dff-6ea4-4995-d108-85886a83b150"
      },
      "id": "bc-1qOUV1JjC",
      "execution_count": null,
      "outputs": [
        {
          "output_type": "display_data",
          "data": {
            "text/plain": [
              "<Figure size 640x480 with 1 Axes>"
            ],
            "image/png": "[encoded data removed]"
          },
          "metadata": {}
        }
      ]
    },
    {
      "cell_type": "code",
      "source": [
        "Q1 = y.quantile(0.25)\n",
        "Q3 = y.quantile(0.75)\n",
        "IQR = Q3 - Q1\n",
        "\n",
        "# Lọc ngoại lệ\n",
        "outliers = y[(y < (Q1 - 1.5 * IQR)) | (y > (Q3 + 1.5 * IQR))]\n",
        "print(outliers)\n"
      ],
      "metadata": {
        "colab": {
          "base_uri": "https://localhost:8080/"
        },
        "id": "c_5124pR1NIK",
        "outputId": "5ac2b47a-abf9-4475-c77e-7fb0e8f7c1c4"
      },
      "id": "c_5124pR1NIK",
      "execution_count": null,
      "outputs": [
        {
          "output_type": "stream",
          "name": "stdout",
          "text": [
            "387      2.23\n",
            "716      4.30\n",
            "741      9.01\n",
            "1002     4.43\n",
            "1490     4.22\n",
            "         ... \n",
            "13882    9.01\n",
            "14089    3.80\n",
            "14372    9.00\n",
            "16084    9.32\n",
            "16882    9.06\n",
            "Name: Score, Length: 84, dtype: float64\n"
          ]
        }
      ]
    },
    {
      "cell_type": "markdown",
      "source": [
        "Dữ liệu có phân phối khá gần phân phối chuẩn, khá cân bằng và có tỉ lệ giá trị ngoại lệ thấp."
      ],
      "metadata": {
        "id": "3ftFf6Ak2zKZ"
      },
      "id": "3ftFf6Ak2zKZ"
    },
    {
      "cell_type": "markdown",
      "source": [
        "# Chuẩn hóa dữ liệu"
      ],
      "metadata": {
        "id": "u_JccGzX3BNg"
      },
      "id": "u_JccGzX3BNg"
    },
    {
      "cell_type": "code",
      "source": [
        "scaler = StandardScaler()\n",
        "X = scaler.fit_transform(X)"
      ],
      "metadata": {
        "id": "rXuI5SxXUPvN"
      },
      "id": "rXuI5SxXUPvN",
      "execution_count": null,
      "outputs": []
    },
    {
      "cell_type": "code",
      "source": [
        "print(\"Check for NaN in X:\", np.isnan(X).any())\n",
        "print(\"Check for NaN in y:\", np.isnan(y).any())"
      ],
      "metadata": {
        "colab": {
          "base_uri": "https://localhost:8080/"
        },
        "id": "maMQomWWKXyO",
        "outputId": "910aa1a7-ed90-4073-c980-e00742b4970a"
      },
      "id": "maMQomWWKXyO",
      "execution_count": null,
      "outputs": [
        {
          "output_type": "stream",
          "name": "stdout",
          "text": [
            "Check for NaN in X: False\n",
            "Check for NaN in y: False\n"
          ]
        }
      ]
    },
    {
      "cell_type": "code",
      "execution_count": null,
      "id": "bd76cfb2",
      "metadata": {
        "id": "bd76cfb2"
      },
      "outputs": [],
      "source": [
        "X_train, X_test, y_train, y_test = train_test_split(X, y, test_size=0.2, random_state=42)"
      ]
    },
    {
      "cell_type": "markdown",
      "source": [
        "# Xây dựng mô hình"
      ],
      "metadata": {
        "id": "u_gHjNhxLjXv"
      },
      "id": "u_gHjNhxLjXv"
    },
    {
      "cell_type": "code",
      "source": [
        "results = []"
      ],
      "metadata": {
        "id": "IykJj456582e"
      },
      "id": "IykJj456582e",
      "execution_count": null,
      "outputs": []
    },
    {
      "cell_type": "code",
      "source": [
        "def train_model(model, model_name):\n",
        "  model.fit(X_train, y_train)\n",
        "  # Predict\n",
        "  y_pred = model.predict(X_test)\n",
        "  # Evaluate\n",
        "  mse = mean_squared_error(y_test, y_pred)\n",
        "  mae = mean_absolute_error(y_test, y_pred)\n",
        "  r2 = r2_score(y_test, y_pred)\n",
        "  print(model_name)\n",
        "  print('MSE:', mse)\n",
        "  print('MAE:', mae)\n",
        "  print('R2:', r2)\n",
        "  result = {\n",
        "    'Model': model_name,\n",
        "    'MSE': mse,\n",
        "    'MAE': mae,\n",
        "    'R²': r2\n",
        "  }\n",
        "  return result"
      ],
      "metadata": {
        "id": "hwhSOfIb_n6B"
      },
      "id": "hwhSOfIb_n6B",
      "execution_count": null,
      "outputs": []
    },
    {
      "cell_type": "markdown",
      "source": [
        "## Phương pháp Linear Regression"
      ],
      "metadata": {
        "id": "MJL3doPG5-WP"
      },
      "id": "MJL3doPG5-WP"
    },
    {
      "cell_type": "markdown",
      "source": [
        "- Phương pháp: Giả định quan hệ giữa các biến độc lập và phụ thuộc là tuyến tính.\n",
        "- Linear Regression là mô hình cơ bản, làm cơ sở so sánh cho các phương pháp phức tạp hơn.\n",
        "\n",
        "- Nhược điểm:\n",
        "  - Không thể khai thác mối quan hệ phi tuyến.\n",
        "  - Nhạy cảm với outliers."
      ],
      "metadata": {
        "id": "_d1mpjV4EgUD"
      },
      "id": "_d1mpjV4EgUD"
    },
    {
      "cell_type": "code",
      "source": [
        "model = LinearRegression()\n",
        "# Train model\n",
        "result = train_model(model, \"Linear Regression\")\n",
        "results.append(result)"
      ],
      "metadata": {
        "id": "tW9atRBaSdMI",
        "colab": {
          "base_uri": "https://localhost:8080/"
        },
        "outputId": "3605d269-c813-44c2-b3f4-9541099c55d0"
      },
      "id": "tW9atRBaSdMI",
      "execution_count": null,
      "outputs": [
        {
          "output_type": "stream",
          "name": "stdout",
          "text": [
            "Linear Regression\n",
            "MSE: 0.6140165489874092\n",
            "MAE: 0.6157813712589633\n",
            "R2: 0.19376990220135804\n"
          ]
        }
      ]
    },
    {
      "cell_type": "markdown",
      "source": [
        "\n",
        "- Kết quả: MSE: 0.61, MAE: 0.62, R²: 0.19.\n"
      ],
      "metadata": {
        "id": "oV0lW9xSmn1-"
      },
      "id": "oV0lW9xSmn1-"
    },
    {
      "cell_type": "markdown",
      "source": [
        "## Decision Tree"
      ],
      "metadata": {
        "id": "PczKFVsV-lwd"
      },
      "id": "PczKFVsV-lwd"
    },
    {
      "cell_type": "markdown",
      "source": [
        "- Phương pháp: Cây quyết định phân chia dữ liệu thành các nút dựa trên ngưỡng giá trị tối ưu (ví dụ: Gini, entropy).\n",
        "- Cải tiến so với Linear Regression:\n",
        "  - Khả năng xử lý quan hệ phi tuyến.\n",
        "  - Dễ giải thích và trực quan.\n",
        "- Nhược điểm:\n",
        "  - Dễ bị overfitting khi không kiểm soát độ sâu.\n"
      ],
      "metadata": {
        "id": "s4JVhpH6GyC7"
      },
      "id": "s4JVhpH6GyC7"
    },
    {
      "cell_type": "code",
      "source": [
        "model = DecisionTreeRegressor(random_state=42)\n",
        "result = train_model(model, 'Decision Tree')\n",
        "results.append(result)"
      ],
      "metadata": {
        "id": "9IfBRkfvLztu",
        "colab": {
          "base_uri": "https://localhost:8080/"
        },
        "outputId": "77b15b85-3a0e-4f74-ce34-da82a1e49028"
      },
      "id": "9IfBRkfvLztu",
      "execution_count": null,
      "outputs": [
        {
          "output_type": "stream",
          "name": "stdout",
          "text": [
            "Decision Tree\n",
            "MSE: 0.7666177854909793\n",
            "MAE: 0.6537548104769998\n",
            "R2: -0.006602074797245283\n"
          ]
        }
      ]
    },
    {
      "cell_type": "markdown",
      "source": [
        "\n",
        "- Kết quả: MSE: 0.77, MAE: 0.65, R²: -0.01.\n",
        "- Nhận xét: kết quả của Decision Tree cho thấy các chỉ số MSE, MAE và R2 kém hơn cả Linear Regression."
      ],
      "metadata": {
        "id": "G_5xaZF7HkVH"
      },
      "id": "G_5xaZF7HkVH"
    },
    {
      "cell_type": "markdown",
      "source": [
        "## Random Forest"
      ],
      "metadata": {
        "id": "RlNVa5ov-qZa"
      },
      "id": "RlNVa5ov-qZa"
    },
    {
      "cell_type": "markdown",
      "source": [
        "\n",
        "- Phương pháp: Tập hợp nhiều cây quyết định và lấy trung bình dự đoán để giảm overfitting.\n",
        "- Cải tiến so với Decision Tree:\n",
        "  - Giảm overfitting nhờ tính đa dạng trong tập mẫu bootstrap.\n",
        "  - Ổn định và tổng quát hóa tốt hơn.\n",
        "- Nhược điểm:\n",
        "  - Tốn thời gian huấn luyện khi dữ liệu lớn.\n",
        "  - Khả năng giải thích kém hơn Decision Tree.\n",
        "\n"
      ],
      "metadata": {
        "id": "gIX3vQlbHzao"
      },
      "id": "gIX3vQlbHzao"
    },
    {
      "cell_type": "code",
      "source": [
        "model = RandomForestRegressor(n_estimators=100, random_state=42)\n",
        "result = train_model(model, 'Random Forest')\n",
        "results.append(result)"
      ],
      "metadata": {
        "id": "MCMyjeSNTKwe",
        "colab": {
          "base_uri": "https://localhost:8080/"
        },
        "outputId": "a2bd5ade-ad78-4a4c-9610-4bba08259761"
      },
      "id": "MCMyjeSNTKwe",
      "execution_count": null,
      "outputs": [
        {
          "output_type": "stream",
          "name": "stdout",
          "text": [
            "Random Forest\n",
            "MSE: 0.4958143363315312\n",
            "MAE: 0.5380164470444386\n",
            "R2: 0.348974483619763\n"
          ]
        }
      ]
    },
    {
      "cell_type": "markdown",
      "source": [
        "- Kết quả: MSE: 0.50, MAE: 0.54, R²: 0.35.\n",
        "- Nhận xét: Kháng overfitting hiệu quả, hiệu suất vượt trội so với Linear Regression và Decision Tree."
      ],
      "metadata": {
        "id": "sprW05YEodR5"
      },
      "id": "sprW05YEodR5"
    },
    {
      "cell_type": "markdown",
      "source": [
        "## AdaBoost"
      ],
      "metadata": {
        "id": "S4LY30si-sEL"
      },
      "id": "S4LY30si-sEL"
    },
    {
      "cell_type": "markdown",
      "source": [
        "- Phương pháp: Kết hợp nhiều mô hình yếu (weak learners, thường là cây quyết định), tăng trọng số cho các mẫu khó dự đoán.\n",
        "- Cải tiến so với Random Forest:\n",
        "  - Tập trung vào các mẫu khó dự đoán.\n",
        "  - Hiệu quả trên dữ liệu ít nhiễu và tuyến tính nhẹ.\n",
        "- Nhược điểm:\n",
        "  - Nhạy cảm với nhiễu (do tăng trọng số cho các mẫu nhiễu).\n"
      ],
      "metadata": {
        "id": "g84diWumIrm9"
      },
      "id": "g84diWumIrm9"
    },
    {
      "cell_type": "code",
      "source": [
        "model = AdaBoostRegressor(n_estimators=100, random_state=42)\n",
        "result = train_model(model, 'Adaboost')\n",
        "results.append(result)"
      ],
      "metadata": {
        "colab": {
          "base_uri": "https://localhost:8080/"
        },
        "id": "0Hd8DehJAuXX",
        "outputId": "57a4bc9c-2e86-4691-9c46-3df56584b4fe"
      },
      "id": "0Hd8DehJAuXX",
      "execution_count": null,
      "outputs": [
        {
          "output_type": "stream",
          "name": "stdout",
          "text": [
            "Adaboost\n",
            "MSE: 0.5943476522098173\n",
            "MAE: 0.606607710939841\n",
            "R2: 0.21959600835230886\n"
          ]
        }
      ]
    },
    {
      "cell_type": "markdown",
      "source": [
        "- Kết quả: MSE: 0.59, MAE: 0.61, R²: 0.22.\n",
        "- Nhận xét: Cải thiện nhẹ so với Linear Regression và Decision Tree, nhưng không hiệu quả bằng Random Forest."
      ],
      "metadata": {
        "id": "b4EYlip4pAFF"
      },
      "id": "b4EYlip4pAFF"
    },
    {
      "cell_type": "markdown",
      "source": [
        "## GradientBoosting"
      ],
      "metadata": {
        "id": "4ibWjrNq-ttO"
      },
      "id": "4ibWjrNq-ttO"
    },
    {
      "cell_type": "markdown",
      "source": [
        "- Phương pháp: Xây dựng nhiều mô hình liên tiếp, mỗi mô hình tối ưu hóa hàm mất mát dựa trên gradient của mô hình trước đó.\n",
        "- Cải tiến so với AdaBoost:\n",
        "  - Tối ưu trực tiếp hàm mất mát, giảm nhiễu tốt hơn.\n",
        "  - Hiệu quả trong xử lý dữ liệu phi tuyến và phức tạp.\n",
        "- Nhược điểm:\n",
        "  - Dễ bị overfitting nếu không kiểm soát tham số.\n",
        "  - Huấn luyện chậm hơn Random Forest.\n"
      ],
      "metadata": {
        "id": "NMbSiM4zJAz3"
      },
      "id": "NMbSiM4zJAz3"
    },
    {
      "cell_type": "code",
      "source": [
        "model = GradientBoostingRegressor(n_estimators=100, learning_rate=0.1, max_depth=3, random_state=42)\n",
        "result = train_model(model, 'Gradient Boosting')\n",
        "results.append(result)"
      ],
      "metadata": {
        "colab": {
          "base_uri": "https://localhost:8080/"
        },
        "id": "Ci0S1Z71AzL-",
        "outputId": "1d3dca61-3293-4ef8-9997-b7028320a014"
      },
      "id": "Ci0S1Z71AzL-",
      "execution_count": null,
      "outputs": [
        {
          "output_type": "stream",
          "name": "stdout",
          "text": [
            "Gradient Boosting\n",
            "MSE: 0.4918744482826961\n",
            "MAE: 0.5486470934985936\n",
            "R2: 0.35414772582661624\n"
          ]
        }
      ]
    },
    {
      "cell_type": "markdown",
      "source": [
        "- Kết quả: MSE: 0.49, MAE: 0.55, R²: 0.35.\n",
        "- Nhận xét: Mạnh mẽ hơn AdaBoost và Random Forest, phù hợp với dữ liệu phức tạp."
      ],
      "metadata": {
        "id": "1yWGReSOp1eL"
      },
      "id": "1yWGReSOp1eL"
    },
    {
      "cell_type": "markdown",
      "source": [
        "## XGBoost"
      ],
      "metadata": {
        "id": "QyAjxz9v-wE9"
      },
      "id": "QyAjxz9v-wE9"
    },
    {
      "cell_type": "markdown",
      "source": [
        "- Phương pháp: XGBoost là sự kết hợp của AdaBoost và Gradient Boosting, với các cải tiến kỹ thuật như regularization, xử lý song song, và early stopping. Nó xây dựng các cây quyết định tuần tự, mỗi cây tối ưu hàm mất mát dựa trên gradient của mô hình trước đó, đồng thời áp dụng cơ chế tăng trọng số cho các mẫu khó như AdaBoost.\n",
        "- Cải tiến so với Gradient Boosting:\n",
        "  - Tối ưu hóa tốc độ và bộ nhớ, hỗ trợ xử lý song song.\n",
        "  - Regularization (L1/L2) giúp giảm overfitting.\n",
        "  - Có cơ chế early stopping để dừng huấn luyện sớm khi hiệu suất không cải thiện.\n",
        "  - Tối ưu hóa tốt hơn các mẫu khó như AdaBoost, nhưng đồng thời mạnh mẽ hơn nhờ tối ưu trực tiếp hàm mất mát.\n",
        "- Nhược điểm:\n",
        "  - Cần tinh chỉnh nhiều tham số để đạt hiệu suất tối ưu.\n",
        "  - Yêu cầu thời gian tính toán nhiều hơn nếu không được cấu hình đúng."
      ],
      "metadata": {
        "id": "wjReEyEUJ3Bc"
      },
      "id": "wjReEyEUJ3Bc"
    },
    {
      "cell_type": "code",
      "source": [
        "model = XGBRegressor(n_estimators=100, random_state=42)\n",
        "result = train_model(model, 'XGBoost')\n",
        "results.append(result)"
      ],
      "metadata": {
        "colab": {
          "base_uri": "https://localhost:8080/"
        },
        "id": "gxbH6i-zA-wQ",
        "outputId": "ae04f2a4-0fde-422f-d5c6-2d6f1fb1f362"
      },
      "id": "gxbH6i-zA-wQ",
      "execution_count": null,
      "outputs": [
        {
          "output_type": "stream",
          "name": "stdout",
          "text": [
            "XGBoost\n",
            "MSE: 0.45449515349897096\n",
            "MAE: 0.5206015816098384\n",
            "R2: 0.4032283451337434\n"
          ]
        }
      ]
    },
    {
      "cell_type": "markdown",
      "source": [
        "- Kết quả: MSE: 0.45, MAE: 0.52, R²: 0.40.\n",
        "- Nhận xét: XGBoost là mô hình Boosting nâng cao, kết hợp ưu điểm của AdaBoost (tập trung vào mẫu khó) và Gradient Boosting (tối ưu hóa hàm mất mát), đồng thời bổ sung các kỹ thuật hiện đại để nâng cao hiệu suất. Đây là mô hình đơn lẻ tốt nhất trong các phương pháp bạn đã thử nghiệm."
      ],
      "metadata": {
        "id": "Cm8-FWb6qcHn"
      },
      "id": "Cm8-FWb6qcHn"
    },
    {
      "cell_type": "markdown",
      "source": [
        "## Stacking"
      ],
      "metadata": {
        "id": "N1WFkVVw-x2L"
      },
      "id": "N1WFkVVw-x2L"
    },
    {
      "cell_type": "markdown",
      "source": [
        "### Stacking cơ bản"
      ],
      "metadata": {
        "id": "-zgh-SYnqv4A"
      },
      "id": "-zgh-SYnqv4A"
    },
    {
      "cell_type": "markdown",
      "source": [
        "- Phương pháp: Kết hợp các mô hình cơ sở (base models) với một meta-learner để học cách kết hợp đầu ra từ các mô hình cơ sở.\n",
        "- Cải tiến so với XGBoost:\n",
        "  - Tận dụng ưu điểm của nhiều mô hình khác nhau.\n",
        "  - Khả năng tổng quát hóa tốt hơn XGBoost nhờ meta-learner.\n",
        "- Nhược điểm:\n",
        "  - Phức tạp hơn trong triển khai và tinh chỉnh.\n",
        "  - Tốn nhiều thời gian hơn khi huấn luyện.\n"
      ],
      "metadata": {
        "id": "4skOSE5GKOAX"
      },
      "id": "4skOSE5GKOAX"
    },
    {
      "cell_type": "code",
      "source": [
        "estimators = [\n",
        "    ('rf', RandomForestRegressor(n_estimators=100, random_state=42)),\n",
        "    ('xgb', XGBRegressor(n_estimators=100, learning_rate=0.1, random_state=42))\n",
        "]\n",
        "model = StackingRegressor(estimators=estimators, final_estimator=LinearRegression())\n",
        "result = train_model(model, 'Stacking')\n",
        "results.append(result)"
      ],
      "metadata": {
        "id": "ivAm-1paTQb0",
        "colab": {
          "base_uri": "https://localhost:8080/"
        },
        "outputId": "43969a91-8b55-4ae8-e7a2-153f3074124e"
      },
      "id": "ivAm-1paTQb0",
      "execution_count": null,
      "outputs": [
        {
          "output_type": "stream",
          "name": "stdout",
          "text": [
            "Stacking\n",
            "MSE: 0.44764806043323474\n",
            "MAE: 0.5185275011513747\n",
            "R2: 0.4122188723778847\n"
          ]
        }
      ]
    },
    {
      "cell_type": "markdown",
      "source": [
        "- Kết quả: MSE: 0.45, MAE: 0.52, R²: 0.41.\n",
        "- Nhận xét: Hiệu suất cao hơn XGBoost nhờ kết hợp nhiều mô hình cơ sở."
      ],
      "metadata": {
        "id": "tVKy6LdLqrUO"
      },
      "id": "tVKy6LdLqrUO"
    },
    {
      "cell_type": "markdown",
      "source": [
        "### Stacking với nhiều mô hình cơ sở hơn"
      ],
      "metadata": {
        "id": "CM9VLhXZq1a6"
      },
      "id": "CM9VLhXZq1a6"
    },
    {
      "cell_type": "markdown",
      "source": [
        "- Phương pháp: Bổ sung thêm mô hình cơ sở vào Stacking (Random Forest, XGBoost, Gradient Boosting, KNN).\n",
        "- Cải tiến so với Stacking cơ bản:\n",
        "  - Tăng tính đa dạng của các mô hình cơ sở.\n",
        "  - Giảm overfitting hơn nhờ khai thác đặc điểm khác nhau của các mô hình.\n",
        "- Nhược điểm:\n",
        "  - Cần nhiều tài nguyên tính toán hơn.\n"
      ],
      "metadata": {
        "id": "NmNYnOHQKmGT"
      },
      "id": "NmNYnOHQKmGT"
    },
    {
      "cell_type": "code",
      "source": [
        "estimators = [\n",
        "    ('rf', RandomForestRegressor(n_estimators=100, random_state=42)),\n",
        "    ('xgb', XGBRegressor(n_estimators=100, learning_rate=0.1, random_state=42)),\n",
        "    ('gb', GradientBoostingRegressor(n_estimators=100, random_state=42)),\n",
        "    ('knn', KNeighborsRegressor(n_neighbors=5))\n",
        "]\n",
        "model = StackingRegressor(estimators=estimators, final_estimator=LinearRegression())\n",
        "result = train_model(model, 'Stacking_more_estimators')\n",
        "results.append(result)"
      ],
      "metadata": {
        "id": "uEth0l4OdYUx",
        "colab": {
          "base_uri": "https://localhost:8080/"
        },
        "outputId": "4f8d02a1-5f47-47d3-bb35-40937e366020"
      },
      "id": "uEth0l4OdYUx",
      "execution_count": null,
      "outputs": [
        {
          "output_type": "stream",
          "name": "stdout",
          "text": [
            "Stacking_more_estimators\n",
            "MSE: 0.44406015051345366\n",
            "MAE: 0.5179125393246895\n",
            "R2: 0.4169299521855677\n"
          ]
        }
      ]
    },
    {
      "cell_type": "markdown",
      "source": [
        "- Kết quả: MSE: 0.44, MAE: 0.52, R²: 0.42.\n",
        "- Nhận xét: Mô hình tốt nhất nhờ khai thác tối đa tính đa dạng của mô hình cơ sở."
      ],
      "metadata": {
        "id": "FxbLeD_ZrFQv"
      },
      "id": "FxbLeD_ZrFQv"
    },
    {
      "cell_type": "markdown",
      "source": [
        "### Stacking với meta model phức tạp hơn"
      ],
      "metadata": {
        "id": "zeK0cHxRrKWX"
      },
      "id": "zeK0cHxRrKWX"
    },
    {
      "cell_type": "markdown",
      "source": [
        "- Phương pháp: Sử dụng mô hình phức tạp (XGBoost) làm meta-learner thay vì Linear Regression.\n",
        "  - Cải tiến so với Stacking_more_estimators:\n",
        "  - Học mối quan hệ phi tuyến giữa các mô hình cơ sở.\n",
        "- Nhược điểm:\n",
        "    - Không cải thiện đáng kể nếu các mô hình cơ sở đã tốt.\n"
      ],
      "metadata": {
        "id": "nFtlXNqBrUsO"
      },
      "id": "nFtlXNqBrUsO"
    },
    {
      "cell_type": "code",
      "source": [
        "estimators = [\n",
        "    ('rf', RandomForestRegressor(n_estimators=100, random_state=42)),\n",
        "    ('xgb', XGBRegressor(n_estimators=100, learning_rate=0.1, random_state=42)),\n",
        "    ('gb', GradientBoostingRegressor(n_estimators=100, random_state=42)),\n",
        "    ('knn', KNeighborsRegressor(n_neighbors=5))\n",
        "]\n",
        "meta_learner = XGBRegressor(n_estimators=50, learning_rate=0.1, max_depth=3, random_state=42)\n",
        "model = StackingRegressor(estimators=estimators, final_estimator=meta_learner)\n",
        "result = train_model(model, 'Stacking_meta_learner')\n",
        "results.append(result)"
      ],
      "metadata": {
        "colab": {
          "base_uri": "https://localhost:8080/"
        },
        "id": "d_EQ2n2gdcZc",
        "outputId": "74768c0a-5987-431b-e562-44e160369a8d"
      },
      "id": "d_EQ2n2gdcZc",
      "execution_count": null,
      "outputs": [
        {
          "output_type": "stream",
          "name": "stdout",
          "text": [
            "Stacking_meta_learner\n",
            "MSE: 0.4452822838393369\n",
            "MAE: 0.5178378242733509\n",
            "R2: 0.41532523864409276\n"
          ]
        }
      ]
    },
    {
      "cell_type": "markdown",
      "source": [
        "- Kết quả: MSE: 0.45, MAE: 0.52, R²: 0.42.\n",
        "- Ý nghĩa cải tiến: Hiệu suất tương đương Stacking_more_estimators không mang lại cải thiện lớn."
      ],
      "metadata": {
        "id": "-pTZBurDraAm"
      },
      "id": "-pTZBurDraAm"
    },
    {
      "cell_type": "markdown",
      "source": [
        "## Vẽ kết quả"
      ],
      "metadata": {
        "id": "4ScwY3_w-z7E"
      },
      "id": "4ScwY3_w-z7E"
    },
    {
      "cell_type": "code",
      "source": [
        "def plot_result(metric):\n",
        "  plt.figure(figsize=(10, 6))\n",
        "  plt.bar(results_df['Model'], results_df[metric], alpha=0.7)\n",
        "  plt.title(f'{metric}')\n",
        "  plt.ylabel(f'{metric}')\n",
        "  plt.xlabel('Model')\n",
        "  plt.xticks(rotation=45)\n",
        "\n",
        "  for index, value in enumerate(results_df[metric]):\n",
        "      plt.text(index, value, f\"{value:.2e}\", ha='center', va='bottom')\n",
        "  plt.show()\n",
        "\n",
        "\n",
        "results_df = pd.DataFrame(results)\n",
        "\n",
        "\n",
        "# MSE\n",
        "plt.figure(figsize=(10, 6))\n",
        "plt.bar(results_df['Model'], results_df['MSE'], alpha=0.7)\n",
        "plt.title('Mean Squared Error (MSE) by Model')\n",
        "plt.ylabel('MSE')\n",
        "plt.xlabel('Model')\n",
        "plt.xticks(rotation=45)\n",
        "\n",
        "# Thêm số liệu lên từng cột\n",
        "for index, value in enumerate(results_df['MSE']):\n",
        "    plt.text(index, value, f\"{value:.2f}\", ha='center', va='bottom')\n",
        "\n",
        "plt.show()\n",
        "\n",
        "# MAE\n",
        "plt.figure(figsize=(10, 6))\n",
        "plt.bar(results_df['Model'], results_df['MAE'], alpha=0.7, color='red')\n",
        "plt.title('Mean Absolute Error (MAE) by Model')\n",
        "plt.ylabel('MAE')\n",
        "plt.xlabel('Model')\n",
        "plt.xticks(rotation=45)\n",
        "\n",
        "# Thêm số liệu lên từng cột\n",
        "for index, value in enumerate(results_df['MAE']):\n",
        "    plt.text(index, value, f\"{value:.2f}\", ha='center', va='bottom')\n",
        "\n",
        "plt.show()\n",
        "\n",
        "\n",
        "# R²\n",
        "plt.figure(figsize=(10, 6))\n",
        "plt.bar(results_df['Model'], results_df['R²'], alpha=0.7, color='green')\n",
        "plt.title('R² Score by Model')\n",
        "plt.ylabel('R²')\n",
        "plt.xlabel('Model')\n",
        "plt.xticks(rotation=45)\n",
        "plt.ylim(0, 1)  # Giới hạn từ 0 đến 1 cho R²\n",
        "\n",
        "# Thêm số liệu lên từng cột\n",
        "for index, value in enumerate(results_df['R²']):\n",
        "    plt.text(index, value, f\"{value:.2f}\", ha='center', va='bottom')\n",
        "\n",
        "plt.show()\n",
        "\n"
      ],
      "metadata": {
        "colab": {
          "base_uri": "https://localhost:8080/",
          "height": 1000
        },
        "id": "P09rDkuITppJ",
        "outputId": "1c35b4ed-d85d-4e25-f9a1-1d63ace7e961"
      },
      "id": "P09rDkuITppJ",
      "execution_count": null,
      "outputs": [
        {
          "output_type": "display_data",
          "data": {
            "text/plain": [
              "<Figure size 1000x600 with 1 Axes>"
            ],
            "image/png": "[encoded data removed]"
          },
          "metadata": {}
        },
        {
          "output_type": "display_data",
          "data": {
            "text/plain": [
              "<Figure size 1000x600 with 1 Axes>"
            ],
            "image/png": "[encoded data removed]"
          },
          "metadata": {}
        },
        {
          "output_type": "display_data",
          "data": {
            "text/plain": [
              "<Figure size 1000x600 with 1 Axes>"
            ],
            "image/png": "[encoded data removed]"
          },
          "metadata": {}
        }
      ]
    },
    {
      "cell_type": "code",
      "source": [
        "results_df"
      ],
      "metadata": {
        "id": "T-6_KpchHYaw",
        "colab": {
          "base_uri": "https://localhost:8080/",
          "height": 344
        },
        "outputId": "38fffd23-c63c-4169-d117-a3aa9370d615"
      },
      "id": "T-6_KpchHYaw",
      "execution_count": null,
      "outputs": [
        {
          "output_type": "execute_result",
          "data": {
            "text/plain": [
              "                      Model       MSE       MAE        R²\n",
              "0         Linear Regression  0.614017  0.615781  0.193770\n",
              "1             Decision Tree  0.766618  0.653755 -0.006602\n",
              "2             Random Forest  0.495814  0.538016  0.348974\n",
              "3                  Adaboost  0.594348  0.606608  0.219596\n",
              "4         Gradient Boosting  0.491874  0.548647  0.354148\n",
              "5                   XGBoost  0.454495  0.520602  0.403228\n",
              "6                  Stacking  0.447648  0.518528  0.412219\n",
              "7  Stacking_more_estimators  0.444060  0.517913  0.416930\n",
              "8     Stacking_meta_learner  0.445282  0.517838  0.415325"
            ],
            "text/html": [
              "\n",
              "  <div id=\"df-4ed6357e-86da-431f-bccf-d4654752d4b4\" class=\"colab-df-container\">\n",
              "    <div>\n",
              "<style scoped>\n",
              "    .dataframe tbody tr th:only-of-type {\n",
              "        vertical-align: middle;\n",
              "    }\n",
              "\n",
              "    .dataframe tbody tr th {\n",
              "        vertical-align: top;\n",
              "    }\n",
              "\n",
              "    .dataframe thead th {\n",
              "        text-align: right;\n",
              "    }\n",
              "</style>\n",
              "<table border=\"1\" class=\"dataframe\">\n",
              "  <thead>\n",
              "    <tr style=\"text-align: right;\">\n",
              "      <th></th>\n",
              "      <th>Model</th>\n",
              "      <th>MSE</th>\n",
              "      <th>MAE</th>\n",
              "      <th>R²</th>\n",
              "    </tr>\n",
              "  </thead>\n",
              "  <tbody>\n",
              "    <tr>\n",
              "      <th>0</th>\n",
              "      <td>Linear Regression</td>\n",
              "      <td>0.614017</td>\n",
              "      <td>0.615781</td>\n",
              "      <td>0.193770</td>\n",
              "    </tr>\n",
              "    <tr>\n",
              "      <th>1</th>\n",
              "      <td>Decision Tree</td>\n",
              "      <td>0.766618</td>\n",
              "      <td>0.653755</td>\n",
              "      <td>-0.006602</td>\n",
              "    </tr>\n",
              "    <tr>\n",
              "      <th>2</th>\n",
              "      <td>Random Forest</td>\n",
              "      <td>0.495814</td>\n",
              "      <td>0.538016</td>\n",
              "      <td>0.348974</td>\n",
              "    </tr>\n",
              "    <tr>\n",
              "      <th>3</th>\n",
              "      <td>Adaboost</td>\n",
              "      <td>0.594348</td>\n",
              "      <td>0.606608</td>\n",
              "      <td>0.219596</td>\n",
              "    </tr>\n",
              "    <tr>\n",
              "      <th>4</th>\n",
              "      <td>Gradient Boosting</td>\n",
              "      <td>0.491874</td>\n",
              "      <td>0.548647</td>\n",
              "      <td>0.354148</td>\n",
              "    </tr>\n",
              "    <tr>\n",
              "      <th>5</th>\n",
              "      <td>XGBoost</td>\n",
              "      <td>0.454495</td>\n",
              "      <td>0.520602</td>\n",
              "      <td>0.403228</td>\n",
              "    </tr>\n",
              "    <tr>\n",
              "      <th>6</th>\n",
              "      <td>Stacking</td>\n",
              "      <td>0.447648</td>\n",
              "      <td>0.518528</td>\n",
              "      <td>0.412219</td>\n",
              "    </tr>\n",
              "    <tr>\n",
              "      <th>7</th>\n",
              "      <td>Stacking_more_estimators</td>\n",
              "      <td>0.444060</td>\n",
              "      <td>0.517913</td>\n",
              "      <td>0.416930</td>\n",
              "    </tr>\n",
              "    <tr>\n",
              "      <th>8</th>\n",
              "      <td>Stacking_meta_learner</td>\n",
              "      <td>0.445282</td>\n",
              "      <td>0.517838</td>\n",
              "      <td>0.415325</td>\n",
              "    </tr>\n",
              "  </tbody>\n",
              "</table>\n",
              "</div>\n",
              "    <div class=\"colab-df-buttons\">\n",
              "\n",
              "  <div class=\"colab-df-container\">\n",
              "    <button class=\"colab-df-convert\" onclick=\"convertToInteractive('df-4ed6357e-86da-431f-bccf-d4654752d4b4')\"\n",
              "            title=\"Convert this dataframe to an interactive table.\"\n",
              "            style=\"display:none;\">\n",
              "\n",
              "  <svg xmlns=\"http://www.w3.org/2000/svg\" height=\"24px\" viewBox=\"0 -960 960 960\">\n",
              "    <path d=\"M120-120v-720h720v720H120Zm60-500h600v-160H180v160Zm220 220h160v-160H400v160Zm0 220h160v-160H400v160ZM180-400h160v-160H180v160Zm440 0h160v-160H620v160ZM180-180h160v-160H180v160Zm440 0h160v-160H620v160Z\"/>\n",
              "  </svg>\n",
              "    </button>\n",
              "\n",
              "  <style>\n",
              "    .colab-df-container {\n",
              "      display:flex;\n",
              "      gap: 12px;\n",
              "    }\n",
              "\n",
              "    .colab-df-convert {\n",
              "      background-color: #E8F0FE;\n",
              "      border: none;\n",
              "      border-radius: 50%;\n",
              "      cursor: pointer;\n",
              "      display: none;\n",
              "      fill: #1967D2;\n",
              "      height: 32px;\n",
              "      padding: 0 0 0 0;\n",
              "      width: 32px;\n",
              "    }\n",
              "\n",
              "    .colab-df-convert:hover {\n",
              "      background-color: #E2EBFA;\n",
              "      box-shadow: 0px 1px 2px rgba(60, 64, 67, 0.3), 0px 1px 3px 1px rgba(60, 64, 67, 0.15);\n",
              "      fill: #174EA6;\n",
              "    }\n",
              "\n",
              "    .colab-df-buttons div {\n",
              "      margin-bottom: 4px;\n",
              "    }\n",
              "\n",
              "    [theme=dark] .colab-df-convert {\n",
              "      background-color: #3B4455;\n",
              "      fill: #D2E3FC;\n",
              "    }\n",
              "\n",
              "    [theme=dark] .colab-df-convert:hover {\n",
              "      background-color: #434B5C;\n",
              "      box-shadow: 0px 1px 3px 1px rgba(0, 0, 0, 0.15);\n",
              "      filter: drop-shadow(0px 1px 2px rgba(0, 0, 0, 0.3));\n",
              "      fill: #FFFFFF;\n",
              "    }\n",
              "  </style>\n",
              "\n",
              "    <script>\n",
              "      const buttonEl =\n",
              "        document.querySelector('#df-4ed6357e-86da-431f-bccf-d4654752d4b4 button.colab-df-convert');\n",
              "      buttonEl.style.display =\n",
              "        google.colab.kernel.accessAllowed ? 'block' : 'none';\n",
              "\n",
              "      async function convertToInteractive(key) {\n",
              "        const element = document.querySelector('#df-4ed6357e-86da-431f-bccf-d4654752d4b4');\n",
              "        const dataTable =\n",
              "          await google.colab.kernel.invokeFunction('convertToInteractive',\n",
              "                                                    [key], {});\n",
              "        if (!dataTable) return;\n",
              "\n",
              "        const docLinkHtml = 'Like what you see? Visit the ' +\n",
              "          '<a target=\"_blank\" href=https://colab.research.google.com/notebooks/data_table.ipynb>data table notebook</a>'\n",
              "          + ' to learn more about interactive tables.';\n",
              "        element.innerHTML = '';\n",
              "        dataTable['output_type'] = 'display_data';\n",
              "        await google.colab.output.renderOutput(dataTable, element);\n",
              "        const docLink = document.createElement('div');\n",
              "        docLink.innerHTML = docLinkHtml;\n",
              "        element.appendChild(docLink);\n",
              "      }\n",
              "    </script>\n",
              "  </div>\n",
              "\n",
              "\n",
              "<div id=\"df-376a9f75-77f5-409b-9da9-ea69d626d956\">\n",
              "  <button class=\"colab-df-quickchart\" onclick=\"quickchart('df-376a9f75-77f5-409b-9da9-ea69d626d956')\"\n",
              "            title=\"Suggest charts\"\n",
              "            style=\"display:none;\">\n",
              "\n",
              "<svg xmlns=\"http://www.w3.org/2000/svg\" height=\"24px\"viewBox=\"0 0 24 24\"\n",
              "     width=\"24px\">\n",
              "    <g>\n",
              "        <path d=\"M19 3H5c-1.1 0-2 .9-2 2v14c0 1.1.9 2 2 2h14c1.1 0 2-.9 2-2V5c0-1.1-.9-2-2-2zM9 17H7v-7h2v7zm4 0h-2V7h2v10zm4 0h-2v-4h2v4z\"/>\n",
              "    </g>\n",
              "</svg>\n",
              "  </button>\n",
              "\n",
              "<style>\n",
              "  .colab-df-quickchart {\n",
              "      --bg-color: #E8F0FE;\n",
              "      --fill-color: #1967D2;\n",
              "      --hover-bg-color: #E2EBFA;\n",
              "      --hover-fill-color: #174EA6;\n",
              "      --disabled-fill-color: #AAA;\n",
              "      --disabled-bg-color: #DDD;\n",
              "  }\n",
              "\n",
              "  [theme=dark] .colab-df-quickchart {\n",
              "      --bg-color: #3B4455;\n",
              "      --fill-color: #D2E3FC;\n",
              "      --hover-bg-color: #434B5C;\n",
              "      --hover-fill-color: #FFFFFF;\n",
              "      --disabled-bg-color: #3B4455;\n",
              "      --disabled-fill-color: #666;\n",
              "  }\n",
              "\n",
              "  .colab-df-quickchart {\n",
              "    background-color: var(--bg-color);\n",
              "    border: none;\n",
              "    border-radius: 50%;\n",
              "    cursor: pointer;\n",
              "    display: none;\n",
              "    fill: var(--fill-color);\n",
              "    height: 32px;\n",
              "    padding: 0;\n",
              "    width: 32px;\n",
              "  }\n",
              "\n",
              "  .colab-df-quickchart:hover {\n",
              "    background-color: var(--hover-bg-color);\n",
              "    box-shadow: 0 1px 2px rgba(60, 64, 67, 0.3), 0 1px 3px 1px rgba(60, 64, 67, 0.15);\n",
              "    fill: var(--button-hover-fill-color);\n",
              "  }\n",
              "\n",
              "  .colab-df-quickchart-complete:disabled,\n",
              "  .colab-df-quickchart-complete:disabled:hover {\n",
              "    background-color: var(--disabled-bg-color);\n",
              "    fill: var(--disabled-fill-color);\n",
              "    box-shadow: none;\n",
              "  }\n",
              "\n",
              "  .colab-df-spinner {\n",
              "    border: 2px solid var(--fill-color);\n",
              "    border-color: transparent;\n",
              "    border-bottom-color: var(--fill-color);\n",
              "    animation:\n",
              "      spin 1s steps(1) infinite;\n",
              "  }\n",
              "\n",
              "  @keyframes spin {\n",
              "    0% {\n",
              "      border-color: transparent;\n",
              "      border-bottom-color: var(--fill-color);\n",
              "      border-left-color: var(--fill-color);\n",
              "    }\n",
              "    20% {\n",
              "      border-color: transparent;\n",
              "      border-left-color: var(--fill-color);\n",
              "      border-top-color: var(--fill-color);\n",
              "    }\n",
              "    30% {\n",
              "      border-color: transparent;\n",
              "      border-left-color: var(--fill-color);\n",
              "      border-top-color: var(--fill-color);\n",
              "      border-right-color: var(--fill-color);\n",
              "    }\n",
              "    40% {\n",
              "      border-color: transparent;\n",
              "      border-right-color: var(--fill-color);\n",
              "      border-top-color: var(--fill-color);\n",
              "    }\n",
              "    60% {\n",
              "      border-color: transparent;\n",
              "      border-right-color: var(--fill-color);\n",
              "    }\n",
              "    80% {\n",
              "      border-color: transparent;\n",
              "      border-right-color: var(--fill-color);\n",
              "      border-bottom-color: var(--fill-color);\n",
              "    }\n",
              "    90% {\n",
              "      border-color: transparent;\n",
              "      border-bottom-color: var(--fill-color);\n",
              "    }\n",
              "  }\n",
              "</style>\n",
              "\n",
              "  <script>\n",
              "    async function quickchart(key) {\n",
              "      const quickchartButtonEl =\n",
              "        document.querySelector('#' + key + ' button');\n",
              "      quickchartButtonEl.disabled = true;  // To prevent multiple clicks.\n",
              "      quickchartButtonEl.classList.add('colab-df-spinner');\n",
              "      try {\n",
              "        const charts = await google.colab.kernel.invokeFunction(\n",
              "            'suggestCharts', [key], {});\n",
              "      } catch (error) {\n",
              "        console.error('Error during call to suggestCharts:', error);\n",
              "      }\n",
              "      quickchartButtonEl.classList.remove('colab-df-spinner');\n",
              "      quickchartButtonEl.classList.add('colab-df-quickchart-complete');\n",
              "    }\n",
              "    (() => {\n",
              "      let quickchartButtonEl =\n",
              "        document.querySelector('#df-376a9f75-77f5-409b-9da9-ea69d626d956 button');\n",
              "      quickchartButtonEl.style.display =\n",
              "        google.colab.kernel.accessAllowed ? 'block' : 'none';\n",
              "    })();\n",
              "  </script>\n",
              "</div>\n",
              "\n",
              "  <div id=\"id_f5c8c953-c397-40f7-9cc3-b4477b3cc773\">\n",
              "    <style>\n",
              "      .colab-df-generate {\n",
              "        background-color: #E8F0FE;\n",
              "        border: none;\n",
              "        border-radius: 50%;\n",
              "        cursor: pointer;\n",
              "        display: none;\n",
              "        fill: #1967D2;\n",
              "        height: 32px;\n",
              "        padding: 0 0 0 0;\n",
              "        width: 32px;\n",
              "      }\n",
              "\n",
              "      .colab-df-generate:hover {\n",
              "        background-color: #E2EBFA;\n",
              "        box-shadow: 0px 1px 2px rgba(60, 64, 67, 0.3), 0px 1px 3px 1px rgba(60, 64, 67, 0.15);\n",
              "        fill: #174EA6;\n",
              "      }\n",
              "\n",
              "      [theme=dark] .colab-df-generate {\n",
              "        background-color: #3B4455;\n",
              "        fill: #D2E3FC;\n",
              "      }\n",
              "\n",
              "      [theme=dark] .colab-df-generate:hover {\n",
              "        background-color: #434B5C;\n",
              "        box-shadow: 0px 1px 3px 1px rgba(0, 0, 0, 0.15);\n",
              "        filter: drop-shadow(0px 1px 2px rgba(0, 0, 0, 0.3));\n",
              "        fill: #FFFFFF;\n",
              "      }\n",
              "    </style>\n",
              "    <button class=\"colab-df-generate\" onclick=\"generateWithVariable('results_df')\"\n",
              "            title=\"Generate code using this dataframe.\"\n",
              "            style=\"display:none;\">\n",
              "\n",
              "  <svg xmlns=\"http://www.w3.org/2000/svg\" height=\"24px\"viewBox=\"0 0 24 24\"\n",
              "       width=\"24px\">\n",
              "    <path d=\"M7,19H8.4L18.45,9,17,7.55,7,17.6ZM5,21V16.75L18.45,3.32a2,2,0,0,1,2.83,0l1.4,1.43a1.91,1.91,0,0,1,.58,1.4,1.91,1.91,0,0,1-.58,1.4L9.25,21ZM18.45,9,17,7.55Zm-12,3A5.31,5.31,0,0,0,4.9,8.1,5.31,5.31,0,0,0,1,6.5,5.31,5.31,0,0,0,4.9,4.9,5.31,5.31,0,0,0,6.5,1,5.31,5.31,0,0,0,8.1,4.9,5.31,5.31,0,0,0,12,6.5,5.46,5.46,0,0,0,6.5,12Z\"/>\n",
              "  </svg>\n",
              "    </button>\n",
              "    <script>\n",
              "      (() => {\n",
              "      const buttonEl =\n",
              "        document.querySelector('#id_f5c8c953-c397-40f7-9cc3-b4477b3cc773 button.colab-df-generate');\n",
              "      buttonEl.style.display =\n",
              "        google.colab.kernel.accessAllowed ? 'block' : 'none';\n",
              "\n",
              "      buttonEl.onclick = () => {\n",
              "        google.colab.notebook.generateWithVariable('results_df');\n",
              "      }\n",
              "      })();\n",
              "    </script>\n",
              "  </div>\n",
              "\n",
              "    </div>\n",
              "  </div>\n"
            ],
            "application/vnd.google.colaboratory.intrinsic+json": {
              "type": "dataframe",
              "variable_name": "results_df",
              "summary": "{\n  \"name\": \"results_df\",\n  \"rows\": 9,\n  \"fields\": [\n    {\n      \"column\": \"Model\",\n      \"properties\": {\n        \"dtype\": \"string\",\n        \"num_unique_values\": 9,\n        \"samples\": [\n          \"Stacking_more_estimators\",\n          \"Decision Tree\",\n          \"XGBoost\"\n        ],\n        \"semantic_type\": \"\",\n        \"description\": \"\"\n      }\n    },\n    {\n      \"column\": \"MSE\",\n      \"properties\": {\n        \"dtype\": \"number\",\n        \"std\": 0.11001549692307631,\n        \"min\": 0.44406015051345366,\n        \"max\": 0.7666177854909793,\n        \"num_unique_values\": 9,\n        \"samples\": [\n          0.44406015051345366,\n          0.7666177854909793,\n          0.45449515349897096\n        ],\n        \"semantic_type\": \"\",\n        \"description\": \"\"\n      }\n    },\n    {\n      \"column\": \"MAE\",\n      \"properties\": {\n        \"dtype\": \"number\",\n        \"std\": 0.05184903821472666,\n        \"min\": 0.5178378242733509,\n        \"max\": 0.6537548104769998,\n        \"num_unique_values\": 9,\n        \"samples\": [\n          0.5179125393246895,\n          0.6537548104769998,\n          0.5206015816098384\n        ],\n        \"semantic_type\": \"\",\n        \"description\": \"\"\n      }\n    },\n    {\n      \"column\": \"R\\u00b2\",\n      \"properties\": {\n        \"dtype\": \"number\",\n        \"std\": 0.14445507208222952,\n        \"min\": -0.006602074797245283,\n        \"max\": 0.4169299521855677,\n        \"num_unique_values\": 9,\n        \"samples\": [\n          0.4169299521855677,\n          -0.006602074797245283,\n          0.4032283451337434\n        ],\n        \"semantic_type\": \"\",\n        \"description\": \"\"\n      }\n    }\n  ]\n}"
            }
          },
          "metadata": {},
          "execution_count": 35
        }
      ]
    },
    {
      "cell_type": "markdown",
      "source": [
        "- Linear Regression: Hiệu suất cơ bản, phù hợp với dữ liệu tuyến tính nhưng không khai thác được mối quan hệ phi tuyến.\n",
        "- Decision Tree: Kém nhất, dễ bị overfitting và không tổng quát hóa tốt.\n",
        "- Random Forest: Hiệu suất tốt hơn, kháng overfitting nhờ lấy trung bình của nhiều cây.\n",
        "- AdaBoost: Hiệu suất trung bình, không vượt qua Gradient Boosting hay XGBoost do hạn chế trong xử lý nhiễu.\n",
        "- Gradient Boosting: Tương tự Random Forest, nhưng mạnh hơn nhờ tối ưu hàm mất mát.\n",
        "- XGBoost: Tốt hơn Gradient Boosting nhờ các cải tiến kỹ thuật như regularization và xử lý song song.\n",
        "- Stacking: Hiệu suất cao hơn XGBoost nhờ kết hợp nhiều mô hình cơ sở.\n",
        "- Stacking_more_estimators: Hiệu suất tốt nhất nhờ bổ sung thêm các mô hình cơ sở, khai thác tối đa tính đa dạng.\n",
        "- Stacking_meta_learner: Hiệu suất tương đương với Stacking_more_estimators, cho thấy meta-learner phức tạp (XGBoost) không cải thiện đáng kể."
      ],
      "metadata": {
        "id": "uGOMso6VNFB1"
      },
      "id": "uGOMso6VNFB1"
    },
    {
      "cell_type": "code",
      "source": [],
      "metadata": {
        "id": "u0rhOvBoNhNh"
      },
      "id": "u0rhOvBoNhNh",
      "execution_count": null,
      "outputs": []
    }
  ],
  "metadata": {
    "kernelspec": {
      "display_name": "Python 3",
      "name": "python3"
    },
    "language_info": {
      "codemirror_mode": {
        "name": "ipython",
        "version": 3
      },
      "file_extension": ".py",
      "mimetype": "text/x-python",
      "name": "python",
      "nbconvert_exporter": "python",
      "pygments_lexer": "ipython3",
      "version": "3.10.15"
    },
    "colab": {
      "provenance": [],
      "gpuType": "T4",
      "collapsed_sections": [
        "g89TQXbe2Ro6",
        "u_JccGzX3BNg"
      ]
    },
    "accelerator": "GPU"
  },
  "nbformat": 4,
  "nbformat_minor": 5
}